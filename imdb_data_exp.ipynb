{
 "cells": [
  {
   "cell_type": "code",
   "execution_count": 1,
   "metadata": {},
   "outputs": [],
   "source": [
    "import pandas as pd\n",
    "import numpy as np"
   ]
  },
  {
   "cell_type": "code",
   "execution_count": 2,
   "metadata": {},
   "outputs": [],
   "source": [
    "imdb1 = pd.read_csv(\"zippedData/imdb.name.basics.csv.gz\")\n",
    "imdb2 = pd.read_csv(\"zippedData/imdb.title.akas.csv.gz\")\n",
    "imdb3 = pd.read_csv(\"zippedData/imdb.title.basics.csv.gz\")\n",
    "imdb4 = pd.read_csv(\"zippedData/imdb.title.crew.csv.gz\")\n",
    "imdb5 = pd.read_csv(\"zippedData/imdb.title.principals.csv.gz\")\n",
    "imdb6 = pd.read_csv(\"zippedData/imdb.title.ratings.csv.gz\")"
   ]
  },
  {
   "cell_type": "code",
   "execution_count": 3,
   "metadata": {},
   "outputs": [
    {
     "data": {
      "text/html": [
       "<div>\n",
       "<style scoped>\n",
       "    .dataframe tbody tr th:only-of-type {\n",
       "        vertical-align: middle;\n",
       "    }\n",
       "\n",
       "    .dataframe tbody tr th {\n",
       "        vertical-align: top;\n",
       "    }\n",
       "\n",
       "    .dataframe thead th {\n",
       "        text-align: right;\n",
       "    }\n",
       "</style>\n",
       "<table border=\"1\" class=\"dataframe\">\n",
       "  <thead>\n",
       "    <tr style=\"text-align: right;\">\n",
       "      <th></th>\n",
       "      <th>tconst</th>\n",
       "      <th>directors</th>\n",
       "      <th>writers</th>\n",
       "    </tr>\n",
       "  </thead>\n",
       "  <tbody>\n",
       "    <tr>\n",
       "      <th>0</th>\n",
       "      <td>tt0285252</td>\n",
       "      <td>nm0899854</td>\n",
       "      <td>nm0899854</td>\n",
       "    </tr>\n",
       "    <tr>\n",
       "      <th>1</th>\n",
       "      <td>tt0438973</td>\n",
       "      <td>NaN</td>\n",
       "      <td>nm0175726,nm1802864</td>\n",
       "    </tr>\n",
       "    <tr>\n",
       "      <th>2</th>\n",
       "      <td>tt0462036</td>\n",
       "      <td>nm1940585</td>\n",
       "      <td>nm1940585</td>\n",
       "    </tr>\n",
       "    <tr>\n",
       "      <th>3</th>\n",
       "      <td>tt0835418</td>\n",
       "      <td>nm0151540</td>\n",
       "      <td>nm0310087,nm0841532</td>\n",
       "    </tr>\n",
       "    <tr>\n",
       "      <th>4</th>\n",
       "      <td>tt0878654</td>\n",
       "      <td>nm0089502,nm2291498,nm2292011</td>\n",
       "      <td>nm0284943</td>\n",
       "    </tr>\n",
       "    <tr>\n",
       "      <th>...</th>\n",
       "      <td>...</td>\n",
       "      <td>...</td>\n",
       "      <td>...</td>\n",
       "    </tr>\n",
       "    <tr>\n",
       "      <th>146139</th>\n",
       "      <td>tt8999974</td>\n",
       "      <td>nm10122357</td>\n",
       "      <td>nm10122357</td>\n",
       "    </tr>\n",
       "    <tr>\n",
       "      <th>146140</th>\n",
       "      <td>tt9001390</td>\n",
       "      <td>nm6711477</td>\n",
       "      <td>nm6711477</td>\n",
       "    </tr>\n",
       "    <tr>\n",
       "      <th>146141</th>\n",
       "      <td>tt9001494</td>\n",
       "      <td>nm10123242,nm10123248</td>\n",
       "      <td>NaN</td>\n",
       "    </tr>\n",
       "    <tr>\n",
       "      <th>146142</th>\n",
       "      <td>tt9004986</td>\n",
       "      <td>nm4993825</td>\n",
       "      <td>nm4993825</td>\n",
       "    </tr>\n",
       "    <tr>\n",
       "      <th>146143</th>\n",
       "      <td>tt9010172</td>\n",
       "      <td>NaN</td>\n",
       "      <td>nm8352242</td>\n",
       "    </tr>\n",
       "  </tbody>\n",
       "</table>\n",
       "<p>146144 rows × 3 columns</p>\n",
       "</div>"
      ],
      "text/plain": [
       "           tconst                      directors              writers\n",
       "0       tt0285252                      nm0899854            nm0899854\n",
       "1       tt0438973                            NaN  nm0175726,nm1802864\n",
       "2       tt0462036                      nm1940585            nm1940585\n",
       "3       tt0835418                      nm0151540  nm0310087,nm0841532\n",
       "4       tt0878654  nm0089502,nm2291498,nm2292011            nm0284943\n",
       "...           ...                            ...                  ...\n",
       "146139  tt8999974                     nm10122357           nm10122357\n",
       "146140  tt9001390                      nm6711477            nm6711477\n",
       "146141  tt9001494          nm10123242,nm10123248                  NaN\n",
       "146142  tt9004986                      nm4993825            nm4993825\n",
       "146143  tt9010172                            NaN            nm8352242\n",
       "\n",
       "[146144 rows x 3 columns]"
      ]
     },
     "execution_count": 3,
     "metadata": {},
     "output_type": "execute_result"
    }
   ],
   "source": [
    "imdb4"
   ]
  },
  {
   "cell_type": "markdown",
   "metadata": {},
   "source": [
    "# IMDB Web Scraped Data"
   ]
  },
  {
   "cell_type": "code",
   "execution_count": 4,
   "metadata": {},
   "outputs": [],
   "source": [
    "# cleaning primary keys in imdb dfs\n",
    "imdb2['title_id'] = imdb2['title_id'].str.strip()\n",
    "imdb3['tconst'] = imdb3['tconst'].str.strip()\n",
    "imdb4['tconst'] = imdb4['tconst'].str.strip()\n",
    "imdb5['tconst'] = imdb5['tconst'].str.strip()\n",
    "imdb6['tconst'] = imdb6['tconst'].str.strip()"
   ]
  },
  {
   "cell_type": "code",
   "execution_count": 5,
   "metadata": {},
   "outputs": [],
   "source": [
    "# dropping duplicates\n",
    "imdb2.drop_duplicates(subset=['title_id'], inplace=True)"
   ]
  },
  {
   "cell_type": "code",
   "execution_count": 6,
   "metadata": {},
   "outputs": [],
   "source": [
    "imdb3.drop_duplicates(subset=['tconst'], inplace=True)\n",
    "imdb4.drop_duplicates(subset=['tconst'], inplace=True)\n",
    "imdb5.drop_duplicates(subset=['tconst'], inplace=True)\n",
    "imdb6.drop_duplicates(subset=['tconst'], inplace=True)"
   ]
  },
  {
   "cell_type": "code",
   "execution_count": 7,
   "metadata": {},
   "outputs": [],
   "source": [
    "# importing web scrapes\n",
    "web_scrape1 = pd.read_csv('imdb_monetary_data_16590.csv')\n",
    "web_scrape1.set_index(['title_id'], inplace=True)"
   ]
  },
  {
   "cell_type": "code",
   "execution_count": 8,
   "metadata": {},
   "outputs": [],
   "source": [
    "web_scrape2 = pd.read_csv('imdb_monetary_data_16591_to_25214_.csv')\n",
    "web_scrape2.set_index(['title_id'], inplace=True)"
   ]
  },
  {
   "cell_type": "code",
   "execution_count": 9,
   "metadata": {},
   "outputs": [],
   "source": [
    "web_scrape3 = pd.read_csv('imdb_monetary_data_29214_.csv')\n",
    "web_scrape3.set_index(['title_id'], inplace=True)"
   ]
  },
  {
   "cell_type": "code",
   "execution_count": 10,
   "metadata": {},
   "outputs": [],
   "source": [
    "web_scrape4 = pd.read_csv('imdb_monetary_data_33736_.csv')\n",
    "web_scrape4.set_index(['title_id'], inplace=True)"
   ]
  },
  {
   "cell_type": "code",
   "execution_count": 11,
   "metadata": {},
   "outputs": [],
   "source": [
    "web_scrape5 = pd.read_csv('imdb_monetary_data_49857_.csv')\n",
    "web_scrape5.set_index(['title_id'], inplace=True)"
   ]
  },
  {
   "cell_type": "code",
   "execution_count": 12,
   "metadata": {},
   "outputs": [],
   "source": [
    "web_scrape6 = pd.read_csv('imdb_monetary_data_65930_.csv')\n",
    "web_scrape6.set_index(['title_id'], inplace=True)"
   ]
  },
  {
   "cell_type": "code",
   "execution_count": 13,
   "metadata": {},
   "outputs": [],
   "source": [
    "web_scrape7 = pd.read_csv('imdb_monetary_data_67456_.csv')\n",
    "web_scrape7.set_index(['title_id'], inplace=True)"
   ]
  },
  {
   "cell_type": "code",
   "execution_count": 14,
   "metadata": {},
   "outputs": [],
   "source": [
    "web_scrape8 = pd.read_csv('imdb_monetary_data_77436_.csv')\n",
    "web_scrape8.set_index(['title_id'], inplace=True)"
   ]
  },
  {
   "cell_type": "code",
   "execution_count": 15,
   "metadata": {},
   "outputs": [
    {
     "name": "stdout",
     "output_type": "stream",
     "text": [
      "Index(['Unnamed: 0', 'Country', 'Budget', 'Opening Weekend USA', 'Gross USA',\n",
      "       'Cumulative Worldwide Gross', 'Runtime'],\n",
      "      dtype='object')\n",
      "\n",
      "(77501, 7)\n",
      "\n",
      "Unnamed: 0                        0\n",
      "Country                         178\n",
      "Budget                        54747\n",
      "Opening Weekend USA           73279\n",
      "Gross USA                     72991\n",
      "Cumulative Worldwide Gross    64313\n",
      "Runtime                       18117\n",
      "dtype: int64\n"
     ]
    }
   ],
   "source": [
    "# concatenating webscraped data\n",
    "web_scrape = pd.concat([web_scrape1, web_scrape2, web_scrape3, web_scrape4, web_scrape5, web_scrape6, web_scrape7, web_scrape8])\n",
    "print(web_scrape.columns, end='\\n\\n')\n",
    "print(web_scrape.shape, end='\\n\\n')\n",
    "print(web_scrape.isna().sum())"
   ]
  },
  {
   "cell_type": "code",
   "execution_count": 16,
   "metadata": {},
   "outputs": [
    {
     "data": {
      "text/html": [
       "<div>\n",
       "<style scoped>\n",
       "    .dataframe tbody tr th:only-of-type {\n",
       "        vertical-align: middle;\n",
       "    }\n",
       "\n",
       "    .dataframe tbody tr th {\n",
       "        vertical-align: top;\n",
       "    }\n",
       "\n",
       "    .dataframe thead th {\n",
       "        text-align: right;\n",
       "    }\n",
       "</style>\n",
       "<table border=\"1\" class=\"dataframe\">\n",
       "  <thead>\n",
       "    <tr style=\"text-align: right;\">\n",
       "      <th></th>\n",
       "      <th>Country</th>\n",
       "      <th>Budget</th>\n",
       "      <th>Opening Weekend USA</th>\n",
       "      <th>Gross USA</th>\n",
       "      <th>Cumulative Worldwide Gross</th>\n",
       "      <th>Runtime</th>\n",
       "    </tr>\n",
       "    <tr>\n",
       "      <th>title_id</th>\n",
       "      <th></th>\n",
       "      <th></th>\n",
       "      <th></th>\n",
       "      <th></th>\n",
       "      <th></th>\n",
       "      <th></th>\n",
       "    </tr>\n",
       "  </thead>\n",
       "  <tbody>\n",
       "    <tr>\n",
       "      <th>tt0369610</th>\n",
       "      <td>USA</td>\n",
       "      <td>$150,000,000</td>\n",
       "      <td>$208,806,270,</td>\n",
       "      <td>$652,270,625</td>\n",
       "      <td>$1,670,401,444</td>\n",
       "      <td>124 min</td>\n",
       "    </tr>\n",
       "    <tr>\n",
       "      <th>tt0381957</th>\n",
       "      <td>UK</td>\n",
       "      <td>NaN</td>\n",
       "      <td>NaN</td>\n",
       "      <td>NaN</td>\n",
       "      <td>NaN</td>\n",
       "      <td>NaN</td>\n",
       "    </tr>\n",
       "    <tr>\n",
       "      <th>tt0401729</th>\n",
       "      <td>USA</td>\n",
       "      <td>$250,000,000</td>\n",
       "      <td>$30,180,188,</td>\n",
       "      <td>$73,078,100</td>\n",
       "      <td>$284,139,100</td>\n",
       "      <td>132 min</td>\n",
       "    </tr>\n",
       "    <tr>\n",
       "      <th>tt10010134</th>\n",
       "      <td>France</td>\n",
       "      <td>NaN</td>\n",
       "      <td>NaN</td>\n",
       "      <td>NaN</td>\n",
       "      <td>NaN</td>\n",
       "      <td>52 min</td>\n",
       "    </tr>\n",
       "    <tr>\n",
       "      <th>tt10027708</th>\n",
       "      <td>Australia</td>\n",
       "      <td>NaN</td>\n",
       "      <td>NaN</td>\n",
       "      <td>NaN</td>\n",
       "      <td>NaN</td>\n",
       "      <td>94 min</td>\n",
       "    </tr>\n",
       "    <tr>\n",
       "      <th>...</th>\n",
       "      <td>...</td>\n",
       "      <td>...</td>\n",
       "      <td>...</td>\n",
       "      <td>...</td>\n",
       "      <td>...</td>\n",
       "      <td>...</td>\n",
       "    </tr>\n",
       "    <tr>\n",
       "      <th>tt2997780</th>\n",
       "      <td>India</td>\n",
       "      <td>NaN</td>\n",
       "      <td>NaN</td>\n",
       "      <td>NaN</td>\n",
       "      <td>NaN</td>\n",
       "      <td>105 min</td>\n",
       "    </tr>\n",
       "    <tr>\n",
       "      <th>tt2998378</th>\n",
       "      <td>Portugal</td>\n",
       "      <td>NaN</td>\n",
       "      <td>NaN</td>\n",
       "      <td>NaN</td>\n",
       "      <td>$5,910</td>\n",
       "      <td>90 min</td>\n",
       "    </tr>\n",
       "    <tr>\n",
       "      <th>tt2998380</th>\n",
       "      <td>Indonesia</td>\n",
       "      <td>NaN</td>\n",
       "      <td>NaN</td>\n",
       "      <td>NaN</td>\n",
       "      <td>NaN</td>\n",
       "      <td>110 min</td>\n",
       "    </tr>\n",
       "    <tr>\n",
       "      <th>tt2999132</th>\n",
       "      <td>Canada</td>\n",
       "      <td>NaN</td>\n",
       "      <td>NaN</td>\n",
       "      <td>NaN</td>\n",
       "      <td>NaN</td>\n",
       "      <td>74 min</td>\n",
       "    </tr>\n",
       "    <tr>\n",
       "      <th>tt3004010</th>\n",
       "      <td>USA</td>\n",
       "      <td>NaN</td>\n",
       "      <td>NaN</td>\n",
       "      <td>NaN</td>\n",
       "      <td>NaN</td>\n",
       "      <td>83 min</td>\n",
       "    </tr>\n",
       "  </tbody>\n",
       "</table>\n",
       "<p>77501 rows × 6 columns</p>\n",
       "</div>"
      ],
      "text/plain": [
       "              Country        Budget Opening Weekend USA     Gross USA  \\\n",
       "title_id                                                                \n",
       "tt0369610         USA  $150,000,000       $208,806,270,  $652,270,625   \n",
       "tt0381957          UK           NaN                 NaN           NaN   \n",
       "tt0401729         USA  $250,000,000        $30,180,188,   $73,078,100   \n",
       "tt10010134     France           NaN                 NaN           NaN   \n",
       "tt10027708  Australia           NaN                 NaN           NaN   \n",
       "...               ...           ...                 ...           ...   \n",
       "tt2997780       India           NaN                 NaN           NaN   \n",
       "tt2998378    Portugal           NaN                 NaN           NaN   \n",
       "tt2998380   Indonesia           NaN                 NaN           NaN   \n",
       "tt2999132      Canada           NaN                 NaN           NaN   \n",
       "tt3004010         USA           NaN                 NaN           NaN   \n",
       "\n",
       "           Cumulative Worldwide Gross  Runtime  \n",
       "title_id                                        \n",
       "tt0369610              $1,670,401,444  124 min  \n",
       "tt0381957                         NaN      NaN  \n",
       "tt0401729                $284,139,100  132 min  \n",
       "tt10010134                        NaN   52 min  \n",
       "tt10027708                        NaN   94 min  \n",
       "...                               ...      ...  \n",
       "tt2997780                         NaN  105 min  \n",
       "tt2998378                      $5,910   90 min  \n",
       "tt2998380                         NaN  110 min  \n",
       "tt2999132                         NaN   74 min  \n",
       "tt3004010                         NaN   83 min  \n",
       "\n",
       "[77501 rows x 6 columns]"
      ]
     },
     "execution_count": 16,
     "metadata": {},
     "output_type": "execute_result"
    }
   ],
   "source": [
    "# dropping unnamed column\n",
    "web_scrape.drop(['Unnamed: 0'], axis=1, inplace=True)\n",
    "web_scrape"
   ]
  },
  {
   "cell_type": "code",
   "execution_count": 17,
   "metadata": {},
   "outputs": [],
   "source": [
    "# cleaning title_id (index)\n",
    "web_scrape.index = web_scrape.index.str.strip()"
   ]
  },
  {
   "cell_type": "code",
   "execution_count": 18,
   "metadata": {},
   "outputs": [],
   "source": [
    "# merging imdb2\n",
    "df = web_scrape.merge(imdb2, left_on=web_scrape.index, right_on=['title_id'])"
   ]
  },
  {
   "cell_type": "code",
   "execution_count": 19,
   "metadata": {},
   "outputs": [],
   "source": [
    "df = df.merge(imdb3, left_on=['title_id'], right_on=['tconst'])"
   ]
  },
  {
   "cell_type": "code",
   "execution_count": 20,
   "metadata": {},
   "outputs": [],
   "source": [
    "df = df.merge(imdb4, left_on=['title_id'], right_on=['tconst'])"
   ]
  },
  {
   "cell_type": "code",
   "execution_count": 21,
   "metadata": {},
   "outputs": [],
   "source": [
    "df = df.merge(imdb5, left_on=['title_id'], right_on=['tconst'])"
   ]
  },
  {
   "cell_type": "code",
   "execution_count": 22,
   "metadata": {},
   "outputs": [],
   "source": [
    "df = df.merge(imdb6, how='left', left_on=['title_id'], right_on=['tconst'])"
   ]
  },
  {
   "cell_type": "code",
   "execution_count": 23,
   "metadata": {},
   "outputs": [
    {
     "data": {
      "text/html": [
       "<div>\n",
       "<style scoped>\n",
       "    .dataframe tbody tr th:only-of-type {\n",
       "        vertical-align: middle;\n",
       "    }\n",
       "\n",
       "    .dataframe tbody tr th {\n",
       "        vertical-align: top;\n",
       "    }\n",
       "\n",
       "    .dataframe thead th {\n",
       "        text-align: right;\n",
       "    }\n",
       "</style>\n",
       "<table border=\"1\" class=\"dataframe\">\n",
       "  <thead>\n",
       "    <tr style=\"text-align: right;\">\n",
       "      <th></th>\n",
       "      <th>Country</th>\n",
       "      <th>Budget</th>\n",
       "      <th>Opening Weekend USA</th>\n",
       "      <th>Gross USA</th>\n",
       "      <th>Cumulative Worldwide Gross</th>\n",
       "      <th>Runtime</th>\n",
       "      <th>title_id</th>\n",
       "      <th>ordering_x</th>\n",
       "      <th>title</th>\n",
       "      <th>region</th>\n",
       "      <th>...</th>\n",
       "      <th>writers</th>\n",
       "      <th>tconst_x</th>\n",
       "      <th>ordering_y</th>\n",
       "      <th>nconst</th>\n",
       "      <th>category</th>\n",
       "      <th>job</th>\n",
       "      <th>characters</th>\n",
       "      <th>tconst_y</th>\n",
       "      <th>averagerating</th>\n",
       "      <th>numvotes</th>\n",
       "    </tr>\n",
       "  </thead>\n",
       "  <tbody>\n",
       "    <tr>\n",
       "      <th>0</th>\n",
       "      <td>USA</td>\n",
       "      <td>$150,000,000</td>\n",
       "      <td>$208,806,270,</td>\n",
       "      <td>$652,270,625</td>\n",
       "      <td>$1,670,401,444</td>\n",
       "      <td>124 min</td>\n",
       "      <td>tt0369610</td>\n",
       "      <td>10</td>\n",
       "      <td>Джурасик свят</td>\n",
       "      <td>BG</td>\n",
       "      <td>...</td>\n",
       "      <td>nm0415425,nm0798646,nm1119880,nm2081046,nm0000341</td>\n",
       "      <td>tt0369610</td>\n",
       "      <td>10</td>\n",
       "      <td>nm0189777</td>\n",
       "      <td>producer</td>\n",
       "      <td>producer</td>\n",
       "      <td>NaN</td>\n",
       "      <td>tt0369610</td>\n",
       "      <td>7.0</td>\n",
       "      <td>539338.0</td>\n",
       "    </tr>\n",
       "    <tr>\n",
       "      <th>1</th>\n",
       "      <td>UK</td>\n",
       "      <td>NaN</td>\n",
       "      <td>NaN</td>\n",
       "      <td>NaN</td>\n",
       "      <td>NaN</td>\n",
       "      <td>NaN</td>\n",
       "      <td>tt0381957</td>\n",
       "      <td>1</td>\n",
       "      <td>Cloud Cuckoo Land</td>\n",
       "      <td>GB</td>\n",
       "      <td>...</td>\n",
       "      <td>nm1458371,nm1461088</td>\n",
       "      <td>tt0381957</td>\n",
       "      <td>10</td>\n",
       "      <td>nm1108038</td>\n",
       "      <td>composer</td>\n",
       "      <td>NaN</td>\n",
       "      <td>NaN</td>\n",
       "      <td>tt0381957</td>\n",
       "      <td>7.6</td>\n",
       "      <td>23.0</td>\n",
       "    </tr>\n",
       "    <tr>\n",
       "      <th>2</th>\n",
       "      <td>USA</td>\n",
       "      <td>$250,000,000</td>\n",
       "      <td>$30,180,188,</td>\n",
       "      <td>$73,078,100</td>\n",
       "      <td>$284,139,100</td>\n",
       "      <td>132 min</td>\n",
       "      <td>tt0401729</td>\n",
       "      <td>10</td>\n",
       "      <td>Джон Картер: Мiж двох свiтiв</td>\n",
       "      <td>UA</td>\n",
       "      <td>...</td>\n",
       "      <td>nm0004056,nm0028764,nm0149290,nm0123194</td>\n",
       "      <td>tt0401729</td>\n",
       "      <td>10</td>\n",
       "      <td>nm0606640</td>\n",
       "      <td>producer</td>\n",
       "      <td>producer</td>\n",
       "      <td>NaN</td>\n",
       "      <td>tt0401729</td>\n",
       "      <td>6.6</td>\n",
       "      <td>241792.0</td>\n",
       "    </tr>\n",
       "    <tr>\n",
       "      <th>3</th>\n",
       "      <td>France</td>\n",
       "      <td>NaN</td>\n",
       "      <td>NaN</td>\n",
       "      <td>NaN</td>\n",
       "      <td>NaN</td>\n",
       "      <td>52 min</td>\n",
       "      <td>tt10010134</td>\n",
       "      <td>1</td>\n",
       "      <td>Versailles Rediscovered - The Sun King's Vanis...</td>\n",
       "      <td>NaN</td>\n",
       "      <td>...</td>\n",
       "      <td>nm2205937,nm1355962,nm10542772,nm0873469</td>\n",
       "      <td>tt10010134</td>\n",
       "      <td>10</td>\n",
       "      <td>nm0674930</td>\n",
       "      <td>editor</td>\n",
       "      <td>NaN</td>\n",
       "      <td>NaN</td>\n",
       "      <td>tt10010134</td>\n",
       "      <td>7.0</td>\n",
       "      <td>5.0</td>\n",
       "    </tr>\n",
       "    <tr>\n",
       "      <th>4</th>\n",
       "      <td>Australia</td>\n",
       "      <td>NaN</td>\n",
       "      <td>NaN</td>\n",
       "      <td>NaN</td>\n",
       "      <td>NaN</td>\n",
       "      <td>94 min</td>\n",
       "      <td>tt10027708</td>\n",
       "      <td>1</td>\n",
       "      <td>Miguelito - Canto a Borinquen</td>\n",
       "      <td>NaN</td>\n",
       "      <td>...</td>\n",
       "      <td>nm3495624</td>\n",
       "      <td>tt10027708</td>\n",
       "      <td>10</td>\n",
       "      <td>nm7089722</td>\n",
       "      <td>editor</td>\n",
       "      <td>NaN</td>\n",
       "      <td>NaN</td>\n",
       "      <td>NaN</td>\n",
       "      <td>NaN</td>\n",
       "      <td>NaN</td>\n",
       "    </tr>\n",
       "    <tr>\n",
       "      <th>...</th>\n",
       "      <td>...</td>\n",
       "      <td>...</td>\n",
       "      <td>...</td>\n",
       "      <td>...</td>\n",
       "      <td>...</td>\n",
       "      <td>...</td>\n",
       "      <td>...</td>\n",
       "      <td>...</td>\n",
       "      <td>...</td>\n",
       "      <td>...</td>\n",
       "      <td>...</td>\n",
       "      <td>...</td>\n",
       "      <td>...</td>\n",
       "      <td>...</td>\n",
       "      <td>...</td>\n",
       "      <td>...</td>\n",
       "      <td>...</td>\n",
       "      <td>...</td>\n",
       "      <td>...</td>\n",
       "      <td>...</td>\n",
       "      <td>...</td>\n",
       "    </tr>\n",
       "    <tr>\n",
       "      <th>77076</th>\n",
       "      <td>India</td>\n",
       "      <td>NaN</td>\n",
       "      <td>NaN</td>\n",
       "      <td>NaN</td>\n",
       "      <td>NaN</td>\n",
       "      <td>105 min</td>\n",
       "      <td>tt2997780</td>\n",
       "      <td>1</td>\n",
       "      <td>Edegarike</td>\n",
       "      <td>IN</td>\n",
       "      <td>...</td>\n",
       "      <td>nm5746541,nm5746543</td>\n",
       "      <td>tt2997780</td>\n",
       "      <td>10</td>\n",
       "      <td>nm4337423</td>\n",
       "      <td>cinematographer</td>\n",
       "      <td>NaN</td>\n",
       "      <td>NaN</td>\n",
       "      <td>tt2997780</td>\n",
       "      <td>7.3</td>\n",
       "      <td>187.0</td>\n",
       "    </tr>\n",
       "    <tr>\n",
       "      <th>77077</th>\n",
       "      <td>Portugal</td>\n",
       "      <td>NaN</td>\n",
       "      <td>NaN</td>\n",
       "      <td>NaN</td>\n",
       "      <td>$5,910</td>\n",
       "      <td>90 min</td>\n",
       "      <td>tt2998378</td>\n",
       "      <td>1</td>\n",
       "      <td>Famel Top Secret</td>\n",
       "      <td>PT</td>\n",
       "      <td>...</td>\n",
       "      <td>nm2597242,nm1796990</td>\n",
       "      <td>tt2998378</td>\n",
       "      <td>1</td>\n",
       "      <td>nm2597242</td>\n",
       "      <td>actor</td>\n",
       "      <td>NaN</td>\n",
       "      <td>[\"PP (Pedro Famel)\"]</td>\n",
       "      <td>tt2998378</td>\n",
       "      <td>6.0</td>\n",
       "      <td>25.0</td>\n",
       "    </tr>\n",
       "    <tr>\n",
       "      <th>77078</th>\n",
       "      <td>Indonesia</td>\n",
       "      <td>NaN</td>\n",
       "      <td>NaN</td>\n",
       "      <td>NaN</td>\n",
       "      <td>NaN</td>\n",
       "      <td>110 min</td>\n",
       "      <td>tt2998380</td>\n",
       "      <td>1</td>\n",
       "      <td>Hello Goodbye</td>\n",
       "      <td>ID</td>\n",
       "      <td>...</td>\n",
       "      <td>nm1907447</td>\n",
       "      <td>tt2998380</td>\n",
       "      <td>10</td>\n",
       "      <td>nm1330371</td>\n",
       "      <td>production_designer</td>\n",
       "      <td>NaN</td>\n",
       "      <td>NaN</td>\n",
       "      <td>tt2998380</td>\n",
       "      <td>6.9</td>\n",
       "      <td>18.0</td>\n",
       "    </tr>\n",
       "    <tr>\n",
       "      <th>77079</th>\n",
       "      <td>Canada</td>\n",
       "      <td>NaN</td>\n",
       "      <td>NaN</td>\n",
       "      <td>NaN</td>\n",
       "      <td>NaN</td>\n",
       "      <td>74 min</td>\n",
       "      <td>tt2999132</td>\n",
       "      <td>1</td>\n",
       "      <td>Lobsang</td>\n",
       "      <td>CA</td>\n",
       "      <td>...</td>\n",
       "      <td>nm5747769</td>\n",
       "      <td>tt2999132</td>\n",
       "      <td>1</td>\n",
       "      <td>nm5747768</td>\n",
       "      <td>director</td>\n",
       "      <td>NaN</td>\n",
       "      <td>NaN</td>\n",
       "      <td>NaN</td>\n",
       "      <td>NaN</td>\n",
       "      <td>NaN</td>\n",
       "    </tr>\n",
       "    <tr>\n",
       "      <th>77080</th>\n",
       "      <td>USA</td>\n",
       "      <td>NaN</td>\n",
       "      <td>NaN</td>\n",
       "      <td>NaN</td>\n",
       "      <td>NaN</td>\n",
       "      <td>83 min</td>\n",
       "      <td>tt3004010</td>\n",
       "      <td>1</td>\n",
       "      <td>Gabrielle</td>\n",
       "      <td>US</td>\n",
       "      <td>...</td>\n",
       "      <td>nm5208945</td>\n",
       "      <td>tt3004010</td>\n",
       "      <td>10</td>\n",
       "      <td>nm5271314</td>\n",
       "      <td>actor</td>\n",
       "      <td>NaN</td>\n",
       "      <td>[\"Orderly\"]</td>\n",
       "      <td>tt3004010</td>\n",
       "      <td>4.1</td>\n",
       "      <td>35.0</td>\n",
       "    </tr>\n",
       "  </tbody>\n",
       "</table>\n",
       "<p>77081 rows × 32 columns</p>\n",
       "</div>"
      ],
      "text/plain": [
       "         Country        Budget Opening Weekend USA     Gross USA  \\\n",
       "0            USA  $150,000,000       $208,806,270,  $652,270,625   \n",
       "1             UK           NaN                 NaN           NaN   \n",
       "2            USA  $250,000,000        $30,180,188,   $73,078,100   \n",
       "3         France           NaN                 NaN           NaN   \n",
       "4      Australia           NaN                 NaN           NaN   \n",
       "...          ...           ...                 ...           ...   \n",
       "77076      India           NaN                 NaN           NaN   \n",
       "77077   Portugal           NaN                 NaN           NaN   \n",
       "77078  Indonesia           NaN                 NaN           NaN   \n",
       "77079     Canada           NaN                 NaN           NaN   \n",
       "77080        USA           NaN                 NaN           NaN   \n",
       "\n",
       "      Cumulative Worldwide Gross  Runtime    title_id  ordering_x  \\\n",
       "0                 $1,670,401,444  124 min   tt0369610          10   \n",
       "1                            NaN      NaN   tt0381957           1   \n",
       "2                   $284,139,100  132 min   tt0401729          10   \n",
       "3                            NaN   52 min  tt10010134           1   \n",
       "4                            NaN   94 min  tt10027708           1   \n",
       "...                          ...      ...         ...         ...   \n",
       "77076                        NaN  105 min   tt2997780           1   \n",
       "77077                     $5,910   90 min   tt2998378           1   \n",
       "77078                        NaN  110 min   tt2998380           1   \n",
       "77079                        NaN   74 min   tt2999132           1   \n",
       "77080                        NaN   83 min   tt3004010           1   \n",
       "\n",
       "                                                   title region  ...  \\\n",
       "0                                          Джурасик свят     BG  ...   \n",
       "1                                      Cloud Cuckoo Land     GB  ...   \n",
       "2                           Джон Картер: Мiж двох свiтiв     UA  ...   \n",
       "3      Versailles Rediscovered - The Sun King's Vanis...    NaN  ...   \n",
       "4                          Miguelito - Canto a Borinquen    NaN  ...   \n",
       "...                                                  ...    ...  ...   \n",
       "77076                                          Edegarike     IN  ...   \n",
       "77077                                   Famel Top Secret     PT  ...   \n",
       "77078                                      Hello Goodbye     ID  ...   \n",
       "77079                                            Lobsang     CA  ...   \n",
       "77080                                          Gabrielle     US  ...   \n",
       "\n",
       "                                                 writers    tconst_x  \\\n",
       "0      nm0415425,nm0798646,nm1119880,nm2081046,nm0000341   tt0369610   \n",
       "1                                    nm1458371,nm1461088   tt0381957   \n",
       "2                nm0004056,nm0028764,nm0149290,nm0123194   tt0401729   \n",
       "3               nm2205937,nm1355962,nm10542772,nm0873469  tt10010134   \n",
       "4                                              nm3495624  tt10027708   \n",
       "...                                                  ...         ...   \n",
       "77076                                nm5746541,nm5746543   tt2997780   \n",
       "77077                                nm2597242,nm1796990   tt2998378   \n",
       "77078                                          nm1907447   tt2998380   \n",
       "77079                                          nm5747769   tt2999132   \n",
       "77080                                          nm5208945   tt3004010   \n",
       "\n",
       "      ordering_y     nconst             category       job  \\\n",
       "0             10  nm0189777             producer  producer   \n",
       "1             10  nm1108038             composer       NaN   \n",
       "2             10  nm0606640             producer  producer   \n",
       "3             10  nm0674930               editor       NaN   \n",
       "4             10  nm7089722               editor       NaN   \n",
       "...          ...        ...                  ...       ...   \n",
       "77076         10  nm4337423      cinematographer       NaN   \n",
       "77077          1  nm2597242                actor       NaN   \n",
       "77078         10  nm1330371  production_designer       NaN   \n",
       "77079          1  nm5747768             director       NaN   \n",
       "77080         10  nm5271314                actor       NaN   \n",
       "\n",
       "                 characters    tconst_y  averagerating  numvotes  \n",
       "0                       NaN   tt0369610            7.0  539338.0  \n",
       "1                       NaN   tt0381957            7.6      23.0  \n",
       "2                       NaN   tt0401729            6.6  241792.0  \n",
       "3                       NaN  tt10010134            7.0       5.0  \n",
       "4                       NaN         NaN            NaN       NaN  \n",
       "...                     ...         ...            ...       ...  \n",
       "77076                   NaN   tt2997780            7.3     187.0  \n",
       "77077  [\"PP (Pedro Famel)\"]   tt2998378            6.0      25.0  \n",
       "77078                   NaN   tt2998380            6.9      18.0  \n",
       "77079                   NaN         NaN            NaN       NaN  \n",
       "77080           [\"Orderly\"]   tt3004010            4.1      35.0  \n",
       "\n",
       "[77081 rows x 32 columns]"
      ]
     },
     "execution_count": 23,
     "metadata": {},
     "output_type": "execute_result"
    }
   ],
   "source": [
    "df"
   ]
  },
  {
   "cell_type": "code",
   "execution_count": 24,
   "metadata": {},
   "outputs": [],
   "source": [
    "# dropping unnecessary columns\n",
    "df.drop(['ordering_x', 'language', 'attributes', 'original_title', 'Runtime', 'is_original_title', 'tconst_x', 'tconst_y', 'types', 'category', 'job', 'characters', 'ordering_y', 'title'], axis=1, inplace=True)"
   ]
  },
  {
   "cell_type": "code",
   "execution_count": 25,
   "metadata": {},
   "outputs": [
    {
     "name": "stdout",
     "output_type": "stream",
     "text": [
      "<class 'pandas.core.frame.DataFrame'>\n",
      "Int64Index: 77081 entries, 0 to 77080\n",
      "Data columns (total 16 columns):\n",
      "Country                       76921 non-null object\n",
      "Budget                        22728 non-null object\n",
      "Opening Weekend USA           4221 non-null object\n",
      "Gross USA                     4508 non-null object\n",
      "Cumulative Worldwide Gross    13180 non-null object\n",
      "title_id                      77081 non-null object\n",
      "region                        68112 non-null object\n",
      "primary_title                 77081 non-null object\n",
      "start_year                    77081 non-null int64\n",
      "runtime_minutes               65427 non-null float64\n",
      "genres                        75714 non-null object\n",
      "directors                     75904 non-null object\n",
      "writers                       62034 non-null object\n",
      "nconst                        77081 non-null object\n",
      "averagerating                 47237 non-null float64\n",
      "numvotes                      47237 non-null float64\n",
      "dtypes: float64(3), int64(1), object(12)\n",
      "memory usage: 10.0+ MB\n"
     ]
    }
   ],
   "source": [
    "df.info()"
   ]
  },
  {
   "cell_type": "markdown",
   "metadata": {},
   "source": [
    "# Data Cleaning"
   ]
  },
  {
   "cell_type": "code",
   "execution_count": 26,
   "metadata": {},
   "outputs": [],
   "source": [
    "# Dropping Null Values\n",
    "df = df.dropna(subset=['Opening Weekend USA', 'Gross USA', 'Cumulative Worldwide Gross'], how='all')"
   ]
  },
  {
   "cell_type": "code",
   "execution_count": 27,
   "metadata": {},
   "outputs": [
    {
     "name": "stderr",
     "output_type": "stream",
     "text": [
      "/Users/davidbruce/opt/anaconda3/envs/learn-env/lib/python3.6/site-packages/ipykernel_launcher.py:2: SettingWithCopyWarning: \n",
      "A value is trying to be set on a copy of a slice from a DataFrame.\n",
      "Try using .loc[row_indexer,col_indexer] = value instead\n",
      "\n",
      "See the caveats in the documentation: http://pandas.pydata.org/pandas-docs/stable/user_guide/indexing.html#returning-a-view-versus-a-copy\n",
      "  \n"
     ]
    }
   ],
   "source": [
    "# Cumulative Worldwide Gross replace NaN with 0\n",
    "df['Cumulative Worldwide Gross'] = df['Cumulative Worldwide Gross'].fillna(0)"
   ]
  },
  {
   "cell_type": "code",
   "execution_count": 28,
   "metadata": {},
   "outputs": [],
   "source": [
    "# Movies from India contain 'INR' substring and need to be converted to USD or dropped\n",
    "INR = df.loc[df['Cumulative Worldwide Gross'].str.contains('INR') == True]\n",
    "NPR = df.loc[df['Cumulative Worldwide Gross'].str.contains('NPR') == True]"
   ]
  },
  {
   "cell_type": "code",
   "execution_count": 29,
   "metadata": {},
   "outputs": [],
   "source": [
    "df = df.drop(df.loc[df['Cumulative Worldwide Gross'].str.contains('INR') == True].index)"
   ]
  },
  {
   "cell_type": "code",
   "execution_count": 30,
   "metadata": {},
   "outputs": [],
   "source": [
    "df = df.drop(df.loc[df['Cumulative Worldwide Gross'].str.contains('NPR') == True].index)"
   ]
  },
  {
   "cell_type": "code",
   "execution_count": 31,
   "metadata": {},
   "outputs": [],
   "source": [
    "def clean_currency(x):\n",
    "    if isinstance(x, str):\n",
    "        x = x.replace('$', '').replace(',', '')\n",
    "        return x\n",
    "    return(x)\n",
    "\n",
    "# df['Cumulative Worldwide Gross'] = df['Cumulative Worldwide Gross'].str.replace(',', '').str.replace('$', '')"
   ]
  },
  {
   "cell_type": "code",
   "execution_count": 32,
   "metadata": {},
   "outputs": [],
   "source": [
    "df['Cumulative Worldwide Gross'] = df['Cumulative Worldwide Gross'].map(lambda x: clean_currency(x))"
   ]
  },
  {
   "cell_type": "code",
   "execution_count": 33,
   "metadata": {},
   "outputs": [],
   "source": [
    "df['Cumulative Worldwide Gross'] = pd.to_numeric(df['Cumulative Worldwide Gross'])"
   ]
  },
  {
   "cell_type": "code",
   "execution_count": 34,
   "metadata": {},
   "outputs": [
    {
     "data": {
      "text/plain": [
       "0     1670401444\n",
       "2      284139100\n",
       "8     1025467803\n",
       "9        2704326\n",
       "12       1424100\n",
       "Name: Cumulative Worldwide Gross, dtype: int64"
      ]
     },
     "execution_count": 34,
     "metadata": {},
     "output_type": "execute_result"
    }
   ],
   "source": [
    "df['Cumulative Worldwide Gross'][:5]"
   ]
  },
  {
   "cell_type": "code",
   "execution_count": 35,
   "metadata": {},
   "outputs": [],
   "source": [
    "# Gross USA \n",
    "df['Gross USA'] = df['Gross USA'].fillna(0)"
   ]
  },
  {
   "cell_type": "code",
   "execution_count": 36,
   "metadata": {},
   "outputs": [],
   "source": [
    "df['Gross USA'] = df['Gross USA'].map(lambda x: clean_currency(x))"
   ]
  },
  {
   "cell_type": "code",
   "execution_count": 37,
   "metadata": {},
   "outputs": [],
   "source": [
    "df['Gross USA'] = pd.to_numeric(df['Gross USA'])"
   ]
  },
  {
   "cell_type": "code",
   "execution_count": 38,
   "metadata": {},
   "outputs": [
    {
     "data": {
      "text/plain": [
       "0     652270625\n",
       "2      73078100\n",
       "8     334191110\n",
       "9             0\n",
       "12            0\n",
       "Name: Gross USA, dtype: int64"
      ]
     },
     "execution_count": 38,
     "metadata": {},
     "output_type": "execute_result"
    }
   ],
   "source": [
    "df['Gross USA'][:5]"
   ]
  },
  {
   "cell_type": "code",
   "execution_count": 39,
   "metadata": {},
   "outputs": [],
   "source": [
    "# Opening Weekend USA\n",
    "df['Opening Weekend USA'] = df['Opening Weekend USA'].fillna(0)"
   ]
  },
  {
   "cell_type": "code",
   "execution_count": 40,
   "metadata": {},
   "outputs": [],
   "source": [
    "df['Opening Weekend USA'] = df['Opening Weekend USA'].map(lambda x: clean_currency(x))"
   ]
  },
  {
   "cell_type": "code",
   "execution_count": 41,
   "metadata": {},
   "outputs": [],
   "source": [
    "df['Opening Weekend USA'] = pd.to_numeric(df['Opening Weekend USA'])"
   ]
  },
  {
   "cell_type": "code",
   "execution_count": 42,
   "metadata": {},
   "outputs": [
    {
     "data": {
      "text/plain": [
       "0     208806270\n",
       "2      30180188\n",
       "8     116101023\n",
       "9             0\n",
       "12            0\n",
       "Name: Opening Weekend USA, dtype: int64"
      ]
     },
     "execution_count": 42,
     "metadata": {},
     "output_type": "execute_result"
    }
   ],
   "source": [
    "df['Opening Weekend USA'][:5]"
   ]
  },
  {
   "cell_type": "code",
   "execution_count": 43,
   "metadata": {},
   "outputs": [
    {
     "data": {
      "text/plain": [
       "(13209, 16)"
      ]
     },
     "execution_count": 43,
     "metadata": {},
     "output_type": "execute_result"
    }
   ],
   "source": [
    "df.shape"
   ]
  },
  {
   "cell_type": "code",
   "execution_count": 44,
   "metadata": {},
   "outputs": [
    {
     "data": {
      "text/plain": [
       "0        $150,000,000\n",
       "2        $250,000,000\n",
       "8        $200,000,000\n",
       "9                 NaN\n",
       "12                NaN\n",
       "             ...     \n",
       "77065             NaN\n",
       "77068      $5,000,000\n",
       "77071             NaN\n",
       "77075             NaN\n",
       "77077             NaN\n",
       "Name: Budget, Length: 13209, dtype: object"
      ]
     },
     "execution_count": 44,
     "metadata": {},
     "output_type": "execute_result"
    }
   ],
   "source": [
    "df.Budget"
   ]
  },
  {
   "cell_type": "code",
   "execution_count": 45,
   "metadata": {},
   "outputs": [],
   "source": [
    "df['Budget'] = df['Budget'].map(lambda x: clean_currency(x))"
   ]
  },
  {
   "cell_type": "code",
   "execution_count": 46,
   "metadata": {},
   "outputs": [],
   "source": [
    "df['Budget'] = df['Budget'].fillna('0')"
   ]
  },
  {
   "cell_type": "code",
   "execution_count": 47,
   "metadata": {},
   "outputs": [],
   "source": [
    "def find_currencies(x):\n",
    "    currencies = []\n",
    "    for i in x:\n",
    "        if i[:3].isalpha():\n",
    "            currencies.append(i[:3])\n",
    "    return np.unique(currencies)"
   ]
  },
  {
   "cell_type": "code",
   "execution_count": 48,
   "metadata": {},
   "outputs": [],
   "source": [
    "budget_curr = df['Budget'].tolist()"
   ]
  },
  {
   "cell_type": "code",
   "execution_count": 49,
   "metadata": {},
   "outputs": [],
   "source": [
    "list_of_curr = find_currencies(budget_curr).tolist()"
   ]
  },
  {
   "cell_type": "code",
   "execution_count": 50,
   "metadata": {},
   "outputs": [
    {
     "data": {
      "text/plain": [
       "['AMD',\n",
       " 'ARS',\n",
       " 'AUD',\n",
       " 'BGL',\n",
       " 'BRL',\n",
       " 'CAD',\n",
       " 'CHF',\n",
       " 'CLP',\n",
       " 'CNY',\n",
       " 'COP',\n",
       " 'CZK',\n",
       " 'DKK',\n",
       " 'EEK',\n",
       " 'EGP',\n",
       " 'EUR',\n",
       " 'GBP',\n",
       " 'HKD',\n",
       " 'HUF',\n",
       " 'IDR',\n",
       " 'INR',\n",
       " 'IRR',\n",
       " 'ISK',\n",
       " 'ITL',\n",
       " 'JPY',\n",
       " 'KRW',\n",
       " 'LTL',\n",
       " 'LVL',\n",
       " 'MXN',\n",
       " 'MYR',\n",
       " 'NGN',\n",
       " 'NOK',\n",
       " 'NZD',\n",
       " 'PEN',\n",
       " 'PHP',\n",
       " 'PKR',\n",
       " 'PLN',\n",
       " 'RUR',\n",
       " 'SEK',\n",
       " 'SGD',\n",
       " 'THB',\n",
       " 'TRL',\n",
       " 'TWD',\n",
       " 'UAH',\n",
       " 'VEB',\n",
       " 'ZAR']"
      ]
     },
     "execution_count": 50,
     "metadata": {},
     "output_type": "execute_result"
    }
   ],
   "source": [
    "list_of_curr"
   ]
  },
  {
   "cell_type": "markdown",
   "metadata": {},
   "source": [
    "## Switched null values to '0' string in order to apply conversion function"
   ]
  },
  {
   "cell_type": "code",
   "execution_count": 51,
   "metadata": {},
   "outputs": [],
   "source": [
    "df.Budget.fillna('0', inplace = True)"
   ]
  },
  {
   "cell_type": "code",
   "execution_count": 52,
   "metadata": {},
   "outputs": [],
   "source": [
    "def conversion_rates(x):\n",
    "    \n",
    "    list_of_curr = {'ARS':0.01, 'AUD':0.54, 'BGL':0, 'BRL':0.13, 'CAD':0.55, 'CHF':0.8, 'CLP':0.0009, 'CNY':0.1,\n",
    "                    'COP':0.000175, 'CZK':0.03, 'DKK':0.11, 'EEK':0, 'EGP':0.04, 'EUR':1.17, 'GBP':0.81, 'HKD':0.08,\n",
    "                    'HUF':0.002, 'IDR':0.000042, 'INR':0.01, 'ISK':0.0053, 'ITL':0, 'JPY':0.007, 'KRW':0.000633, 'LTL':0.25,\n",
    "                    'NOK':0.11, 'NZD':0.66, 'PEN':0.28, 'PHP':0.02, 'LVL':1.23, 'MXN':0.03, 'MYR':0.16, 'NGN':0.0026,\n",
    "                    'PKR':0.006, 'PLN':0.25, 'RUR':0.01, 'SEK':0.11, 'SGD':0.73, 'THB':0.03, 'TRL':0.13, 'TWD':0.03, \n",
    "                    'UAH':0.04, 'VEB':0.1, 'ZAR':0.06}\n",
    "    x = str(x)\n",
    "    x = x.replace(',', '').replace('$','')\n",
    "    x = x.lstrip()\n",
    "\n",
    "    \n",
    "    if x.isdigit() == True:\n",
    "        return float(x)\n",
    "    \n",
    "    country_code = x[:3]\n",
    "    if country_code in list_of_curr:\n",
    "        return (float(x[3:len(list(x))]) * list_of_curr[f'{country_code}'])\n",
    "\n"
   ]
  },
  {
   "cell_type": "markdown",
   "metadata": {},
   "source": [
    "## Apply conversion function"
   ]
  },
  {
   "cell_type": "code",
   "execution_count": 53,
   "metadata": {},
   "outputs": [],
   "source": [
    "df['Budget'] = df['Budget'].apply(lambda x: conversion_rates(x))"
   ]
  },
  {
   "cell_type": "code",
   "execution_count": 54,
   "metadata": {},
   "outputs": [
    {
     "data": {
      "text/plain": [
       "(13209, 16)"
      ]
     },
     "execution_count": 54,
     "metadata": {},
     "output_type": "execute_result"
    }
   ],
   "source": [
    "df.shape"
   ]
  },
  {
   "cell_type": "code",
   "execution_count": 55,
   "metadata": {},
   "outputs": [
    {
     "data": {
      "text/plain": [
       "Country                          7\n",
       "Budget                           4\n",
       "Opening Weekend USA              0\n",
       "Gross USA                        0\n",
       "Cumulative Worldwide Gross       0\n",
       "title_id                         0\n",
       "region                        2326\n",
       "primary_title                    0\n",
       "start_year                       0\n",
       "runtime_minutes                765\n",
       "genres                          55\n",
       "directors                       36\n",
       "writers                        956\n",
       "nconst                           0\n",
       "averagerating                  343\n",
       "numvotes                       343\n",
       "dtype: int64"
      ]
     },
     "execution_count": 55,
     "metadata": {},
     "output_type": "execute_result"
    }
   ],
   "source": [
    "df.isna().sum()"
   ]
  },
  {
   "cell_type": "markdown",
   "metadata": {},
   "source": [
    "# Cleaning Genres Column"
   ]
  },
  {
   "cell_type": "code",
   "execution_count": 56,
   "metadata": {},
   "outputs": [],
   "source": [
    "df['genres'] = df['genres'].fillna('NaN')"
   ]
  },
  {
   "cell_type": "code",
   "execution_count": 57,
   "metadata": {},
   "outputs": [],
   "source": [
    "df['genres'] = df['genres'].map(lambda x: list(x.split(',')))"
   ]
  },
  {
   "cell_type": "code",
   "execution_count": 60,
   "metadata": {},
   "outputs": [
    {
     "data": {
      "text/plain": [
       "'Action'"
      ]
     },
     "execution_count": 60,
     "metadata": {},
     "output_type": "execute_result"
    }
   ],
   "source": [
    "df.genres[0][0]"
   ]
  },
  {
   "cell_type": "code",
   "execution_count": null,
   "metadata": {},
   "outputs": [],
   "source": []
  },
  {
   "cell_type": "code",
   "execution_count": null,
   "metadata": {},
   "outputs": [],
   "source": []
  },
  {
   "cell_type": "code",
   "execution_count": null,
   "metadata": {},
   "outputs": [],
   "source": []
  },
  {
   "cell_type": "code",
   "execution_count": null,
   "metadata": {},
   "outputs": [],
   "source": []
  },
  {
   "cell_type": "code",
   "execution_count": null,
   "metadata": {},
   "outputs": [],
   "source": []
  },
  {
   "cell_type": "code",
   "execution_count": null,
   "metadata": {},
   "outputs": [],
   "source": []
  },
  {
   "cell_type": "code",
   "execution_count": null,
   "metadata": {},
   "outputs": [],
   "source": []
  },
  {
   "cell_type": "code",
   "execution_count": null,
   "metadata": {},
   "outputs": [],
   "source": []
  },
  {
   "cell_type": "markdown",
   "metadata": {},
   "source": [
    "# Make df a .csv"
   ]
  },
  {
   "cell_type": "code",
   "execution_count": 59,
   "metadata": {},
   "outputs": [],
   "source": [
    "# df.to_csv('master_table.csv')"
   ]
  },
  {
   "cell_type": "code",
   "execution_count": null,
   "metadata": {},
   "outputs": [],
   "source": []
  }
 ],
 "metadata": {
  "kernelspec": {
   "display_name": "learn-env",
   "language": "python",
   "name": "learn-env"
  },
  "language_info": {
   "codemirror_mode": {
    "name": "ipython",
    "version": 3
   },
   "file_extension": ".py",
   "mimetype": "text/x-python",
   "name": "python",
   "nbconvert_exporter": "python",
   "pygments_lexer": "ipython3",
   "version": "3.6.9"
  }
 },
 "nbformat": 4,
 "nbformat_minor": 4
}
