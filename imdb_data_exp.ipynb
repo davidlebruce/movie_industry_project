{
 "cells": [
  {
   "cell_type": "code",
   "execution_count": 1,
   "metadata": {},
   "outputs": [],
   "source": [
    "import pandas as pd\n",
    "import numpy as np"
   ]
  },
  {
   "cell_type": "code",
   "execution_count": 2,
   "metadata": {},
   "outputs": [],
   "source": [
    "imdb1 = pd.read_csv(\"zippedData/imdb.name.basics.csv.gz\")\n",
    "imdb2 = pd.read_csv(\"zippedData/imdb.title.akas.csv.gz\")\n",
    "imdb3 = pd.read_csv(\"zippedData/imdb.title.basics.csv.gz\")\n",
    "imdb4 = pd.read_csv(\"zippedData/imdb.title.crew.csv.gz\")\n",
    "imdb5 = pd.read_csv(\"zippedData/imdb.title.principals.csv.gz\")\n",
    "imdb6 = pd.read_csv(\"zippedData/imdb.title.ratings.csv.gz\")"
   ]
  },
  {
   "cell_type": "markdown",
   "metadata": {},
   "source": [
    "# IMDB Web Scraped Data"
   ]
  },
  {
   "cell_type": "code",
   "execution_count": 3,
   "metadata": {},
   "outputs": [],
   "source": [
    "# cleaning primary keys in imdb dfs\n",
    "imdb2['title_id'] = imdb2['title_id'].str.strip()\n",
    "imdb3['tconst'] = imdb3['tconst'].str.strip()\n",
    "imdb4['tconst'] = imdb4['tconst'].str.strip()\n",
    "imdb5['tconst'] = imdb5['tconst'].str.strip()\n",
    "imdb6['tconst'] = imdb6['tconst'].str.strip()"
   ]
  },
  {
   "cell_type": "code",
   "execution_count": 4,
   "metadata": {},
   "outputs": [],
   "source": [
    "# dropping duplicates\n",
    "imdb2.drop_duplicates(subset=['title_id'], inplace=True)\n",
    "imdb3.drop_duplicates(subset=['tconst'], inplace=True)\n",
    "imdb4.drop_duplicates(subset=['tconst'], inplace=True)\n",
    "imdb5.drop_duplicates(subset=['tconst'], inplace=True)\n",
    "imdb6.drop_duplicates(subset=['tconst'], inplace=True)"
   ]
  },
  {
   "cell_type": "code",
   "execution_count": 5,
   "metadata": {},
   "outputs": [],
   "source": [
    "# importing web scrapes\n",
    "web_scrape1 = pd.read_csv('scraped_data/imdb_monetary_data_16590.csv')\n",
    "web_scrape1.set_index(['title_id'], inplace=True)"
   ]
  },
  {
   "cell_type": "code",
   "execution_count": 6,
   "metadata": {},
   "outputs": [],
   "source": [
    "web_scrape2 = pd.read_csv('scraped_data/imdb_monetary_data_16591_to_25214_.csv')\n",
    "web_scrape2.set_index(['title_id'], inplace=True)"
   ]
  },
  {
   "cell_type": "code",
   "execution_count": 7,
   "metadata": {},
   "outputs": [],
   "source": [
    "web_scrape3 = pd.read_csv('scraped_data/imdb_monetary_data_29214_.csv')\n",
    "web_scrape3.set_index(['title_id'], inplace=True)"
   ]
  },
  {
   "cell_type": "code",
   "execution_count": 8,
   "metadata": {},
   "outputs": [],
   "source": [
    "web_scrape4 = pd.read_csv('scraped_data/imdb_monetary_data_33736_.csv')\n",
    "web_scrape4.set_index(['title_id'], inplace=True)"
   ]
  },
  {
   "cell_type": "code",
   "execution_count": 9,
   "metadata": {},
   "outputs": [],
   "source": [
    "web_scrape5 = pd.read_csv('scraped_data/imdb_monetary_data_49857_.csv')\n",
    "web_scrape5.set_index(['title_id'], inplace=True)"
   ]
  },
  {
   "cell_type": "code",
   "execution_count": 10,
   "metadata": {},
   "outputs": [],
   "source": [
    "web_scrape6 = pd.read_csv('scraped_data/imdb_monetary_data_65930_.csv')\n",
    "web_scrape6.set_index(['title_id'], inplace=True)"
   ]
  },
  {
   "cell_type": "code",
   "execution_count": 11,
   "metadata": {},
   "outputs": [],
   "source": [
    "web_scrape7 = pd.read_csv('scraped_data/imdb_monetary_data_67456_.csv')\n",
    "web_scrape7.set_index(['title_id'], inplace=True)"
   ]
  },
  {
   "cell_type": "code",
   "execution_count": 12,
   "metadata": {},
   "outputs": [],
   "source": [
    "web_scrape8 = pd.read_csv('scraped_data/imdb_monetary_data_77436_.csv')\n",
    "web_scrape8.set_index(['title_id'], inplace=True)"
   ]
  },
  {
   "cell_type": "code",
   "execution_count": 13,
   "metadata": {},
   "outputs": [],
   "source": [
    "web_scrape9 = pd.read_csv('scraped_data/imdb_monetary_data_102849_.csv')\n",
    "web_scrape9.set_index(['title_id'], inplace=True)"
   ]
  },
  {
   "cell_type": "code",
   "execution_count": 14,
   "metadata": {},
   "outputs": [],
   "source": [
    "# concatenating webscraped data\n",
    "web_scrape = pd.concat([web_scrape1, web_scrape2, web_scrape3, web_scrape4, web_scrape5, web_scrape6, web_scrape7, web_scrape8, web_scrape9])"
   ]
  },
  {
   "cell_type": "code",
   "execution_count": 15,
   "metadata": {},
   "outputs": [
    {
     "data": {
      "text/html": [
       "<div>\n",
       "<style scoped>\n",
       "    .dataframe tbody tr th:only-of-type {\n",
       "        vertical-align: middle;\n",
       "    }\n",
       "\n",
       "    .dataframe tbody tr th {\n",
       "        vertical-align: top;\n",
       "    }\n",
       "\n",
       "    .dataframe thead th {\n",
       "        text-align: right;\n",
       "    }\n",
       "</style>\n",
       "<table border=\"1\" class=\"dataframe\">\n",
       "  <thead>\n",
       "    <tr style=\"text-align: right;\">\n",
       "      <th></th>\n",
       "      <th>Country</th>\n",
       "      <th>Budget</th>\n",
       "      <th>Opening Weekend USA</th>\n",
       "      <th>Gross USA</th>\n",
       "      <th>Cumulative Worldwide Gross</th>\n",
       "      <th>Runtime</th>\n",
       "    </tr>\n",
       "    <tr>\n",
       "      <th>title_id</th>\n",
       "      <th></th>\n",
       "      <th></th>\n",
       "      <th></th>\n",
       "      <th></th>\n",
       "      <th></th>\n",
       "      <th></th>\n",
       "    </tr>\n",
       "  </thead>\n",
       "  <tbody>\n",
       "    <tr>\n",
       "      <th>tt0369610</th>\n",
       "      <td>USA</td>\n",
       "      <td>$150,000,000</td>\n",
       "      <td>$208,806,270,</td>\n",
       "      <td>$652,270,625</td>\n",
       "      <td>$1,670,401,444</td>\n",
       "      <td>124 min</td>\n",
       "    </tr>\n",
       "    <tr>\n",
       "      <th>tt0381957</th>\n",
       "      <td>UK</td>\n",
       "      <td>NaN</td>\n",
       "      <td>NaN</td>\n",
       "      <td>NaN</td>\n",
       "      <td>NaN</td>\n",
       "      <td>NaN</td>\n",
       "    </tr>\n",
       "    <tr>\n",
       "      <th>tt0401729</th>\n",
       "      <td>USA</td>\n",
       "      <td>$250,000,000</td>\n",
       "      <td>$30,180,188,</td>\n",
       "      <td>$73,078,100</td>\n",
       "      <td>$284,139,100</td>\n",
       "      <td>132 min</td>\n",
       "    </tr>\n",
       "    <tr>\n",
       "      <th>tt10010134</th>\n",
       "      <td>France</td>\n",
       "      <td>NaN</td>\n",
       "      <td>NaN</td>\n",
       "      <td>NaN</td>\n",
       "      <td>NaN</td>\n",
       "      <td>52 min</td>\n",
       "    </tr>\n",
       "    <tr>\n",
       "      <th>tt10027708</th>\n",
       "      <td>Australia</td>\n",
       "      <td>NaN</td>\n",
       "      <td>NaN</td>\n",
       "      <td>NaN</td>\n",
       "      <td>NaN</td>\n",
       "      <td>94 min</td>\n",
       "    </tr>\n",
       "    <tr>\n",
       "      <th>...</th>\n",
       "      <td>...</td>\n",
       "      <td>...</td>\n",
       "      <td>...</td>\n",
       "      <td>...</td>\n",
       "      <td>...</td>\n",
       "      <td>...</td>\n",
       "    </tr>\n",
       "    <tr>\n",
       "      <th>tt7896164</th>\n",
       "      <td>Italy</td>\n",
       "      <td>NaN</td>\n",
       "      <td>NaN</td>\n",
       "      <td>NaN</td>\n",
       "      <td>NaN</td>\n",
       "      <td>105 min</td>\n",
       "    </tr>\n",
       "    <tr>\n",
       "      <th>tt7897718</th>\n",
       "      <td>Vietnam</td>\n",
       "      <td>VND100,000,000</td>\n",
       "      <td>NaN</td>\n",
       "      <td>NaN</td>\n",
       "      <td>NaN</td>\n",
       "      <td>51 min</td>\n",
       "    </tr>\n",
       "    <tr>\n",
       "      <th>tt7908092</th>\n",
       "      <td>Philippines</td>\n",
       "      <td>NaN</td>\n",
       "      <td>NaN</td>\n",
       "      <td>NaN</td>\n",
       "      <td>$42,211</td>\n",
       "      <td>104 min</td>\n",
       "    </tr>\n",
       "    <tr>\n",
       "      <th>tt7914282</th>\n",
       "      <td>Canada</td>\n",
       "      <td>CAD180,000</td>\n",
       "      <td>NaN</td>\n",
       "      <td>NaN</td>\n",
       "      <td>NaN</td>\n",
       "      <td>78 min</td>\n",
       "    </tr>\n",
       "    <tr>\n",
       "      <th>tt7918024</th>\n",
       "      <td>Germany</td>\n",
       "      <td>NaN</td>\n",
       "      <td>NaN</td>\n",
       "      <td>NaN</td>\n",
       "      <td>NaN</td>\n",
       "      <td>NaN</td>\n",
       "    </tr>\n",
       "  </tbody>\n",
       "</table>\n",
       "<p>102914 rows × 6 columns</p>\n",
       "</div>"
      ],
      "text/plain": [
       "                Country          Budget Opening Weekend USA     Gross USA  \\\n",
       "title_id                                                                    \n",
       "tt0369610           USA    $150,000,000       $208,806,270,  $652,270,625   \n",
       "tt0381957            UK             NaN                 NaN           NaN   \n",
       "tt0401729           USA    $250,000,000        $30,180,188,   $73,078,100   \n",
       "tt10010134       France             NaN                 NaN           NaN   \n",
       "tt10027708    Australia             NaN                 NaN           NaN   \n",
       "...                 ...             ...                 ...           ...   \n",
       "tt7896164         Italy             NaN                 NaN           NaN   \n",
       "tt7897718       Vietnam  VND100,000,000                 NaN           NaN   \n",
       "tt7908092   Philippines             NaN                 NaN           NaN   \n",
       "tt7914282        Canada      CAD180,000                 NaN           NaN   \n",
       "tt7918024       Germany             NaN                 NaN           NaN   \n",
       "\n",
       "           Cumulative Worldwide Gross  Runtime  \n",
       "title_id                                        \n",
       "tt0369610              $1,670,401,444  124 min  \n",
       "tt0381957                         NaN      NaN  \n",
       "tt0401729                $284,139,100  132 min  \n",
       "tt10010134                        NaN   52 min  \n",
       "tt10027708                        NaN   94 min  \n",
       "...                               ...      ...  \n",
       "tt7896164                         NaN  105 min  \n",
       "tt7897718                         NaN   51 min  \n",
       "tt7908092                     $42,211  104 min  \n",
       "tt7914282                         NaN   78 min  \n",
       "tt7918024                         NaN      NaN  \n",
       "\n",
       "[102914 rows x 6 columns]"
      ]
     },
     "execution_count": 15,
     "metadata": {},
     "output_type": "execute_result"
    }
   ],
   "source": [
    "# dropping unnamed column\n",
    "web_scrape.drop(['Unnamed: 0'], axis=1, inplace=True)\n",
    "web_scrape"
   ]
  },
  {
   "cell_type": "code",
   "execution_count": 16,
   "metadata": {},
   "outputs": [],
   "source": [
    "# cleaning title_id (index)\n",
    "web_scrape.index = web_scrape.index.str.strip()"
   ]
  },
  {
   "cell_type": "code",
   "execution_count": 17,
   "metadata": {},
   "outputs": [],
   "source": [
    "# merging imdb2\n",
    "df = web_scrape.merge(imdb2, left_on=web_scrape.index, right_on=['title_id'])"
   ]
  },
  {
   "cell_type": "code",
   "execution_count": 18,
   "metadata": {},
   "outputs": [],
   "source": [
    "df = df.merge(imdb3, left_on=['title_id'], right_on=['tconst'])"
   ]
  },
  {
   "cell_type": "code",
   "execution_count": 19,
   "metadata": {},
   "outputs": [],
   "source": [
    "df = df.merge(imdb4, left_on=['title_id'], right_on=['tconst'])"
   ]
  },
  {
   "cell_type": "code",
   "execution_count": 20,
   "metadata": {},
   "outputs": [],
   "source": [
    "df = df.merge(imdb5, left_on=['title_id'], right_on=['tconst'])"
   ]
  },
  {
   "cell_type": "code",
   "execution_count": 21,
   "metadata": {},
   "outputs": [],
   "source": [
    "df = df.merge(imdb6, how='left', left_on=['title_id'], right_on=['tconst'])"
   ]
  },
  {
   "cell_type": "markdown",
   "metadata": {},
   "source": [
    "### Concatenating Director Tables"
   ]
  },
  {
   "cell_type": "code",
   "execution_count": 22,
   "metadata": {},
   "outputs": [],
   "source": [
    "directors1 = pd.read_csv('scraped_data/imdb_name_list_202_.csv')"
   ]
  },
  {
   "cell_type": "code",
   "execution_count": 23,
   "metadata": {},
   "outputs": [],
   "source": [
    "directors2 = pd.read_csv('scraped_data/imdb_name_list_304_.csv')"
   ]
  },
  {
   "cell_type": "code",
   "execution_count": 24,
   "metadata": {},
   "outputs": [],
   "source": [
    "directors3 = pd.read_csv('scraped_data/imdb_name_list_3016_.csv')"
   ]
  },
  {
   "cell_type": "code",
   "execution_count": 25,
   "metadata": {},
   "outputs": [],
   "source": [
    "directors4 = pd.read_csv('scraped_data/imdb_name_list_7799_.csv')"
   ]
  },
  {
   "cell_type": "code",
   "execution_count": 26,
   "metadata": {},
   "outputs": [],
   "source": [
    "directors_names = pd.concat([directors1, directors2, directors3, directors4])"
   ]
  },
  {
   "cell_type": "markdown",
   "metadata": {},
   "source": [
    "### Merging Director Names with Df"
   ]
  },
  {
   "cell_type": "code",
   "execution_count": 27,
   "metadata": {},
   "outputs": [],
   "source": [
    "df = df.merge(directors_names, left_on=['directors'], right_on=['name_id'], how='left')"
   ]
  },
  {
   "cell_type": "code",
   "execution_count": 28,
   "metadata": {},
   "outputs": [],
   "source": [
    "df.drop_duplicates(subset='title_id', inplace=True)"
   ]
  },
  {
   "cell_type": "code",
   "execution_count": 29,
   "metadata": {},
   "outputs": [],
   "source": [
    "# dropping unnecessary columns\n",
    "df.drop(['ordering_x', 'language', 'attributes', 'original_title', 'Runtime', 'is_original_title', 'tconst_x', 'tconst_y', 'types', 'category', 'job', 'characters', 'ordering_y', 'title', 'nconst', 'region', 'writers', 'directors', 'Unnamed: 0', 'name_id'], axis=1, inplace=True)"
   ]
  },
  {
   "cell_type": "code",
   "execution_count": 30,
   "metadata": {},
   "outputs": [
    {
     "data": {
      "text/html": [
       "<div>\n",
       "<style scoped>\n",
       "    .dataframe tbody tr th:only-of-type {\n",
       "        vertical-align: middle;\n",
       "    }\n",
       "\n",
       "    .dataframe tbody tr th {\n",
       "        vertical-align: top;\n",
       "    }\n",
       "\n",
       "    .dataframe thead th {\n",
       "        text-align: right;\n",
       "    }\n",
       "</style>\n",
       "<table border=\"1\" class=\"dataframe\">\n",
       "  <thead>\n",
       "    <tr style=\"text-align: right;\">\n",
       "      <th></th>\n",
       "      <th>Country</th>\n",
       "      <th>Budget</th>\n",
       "      <th>Opening Weekend USA</th>\n",
       "      <th>Gross USA</th>\n",
       "      <th>Cumulative Worldwide Gross</th>\n",
       "      <th>title_id</th>\n",
       "      <th>primary_title</th>\n",
       "      <th>start_year</th>\n",
       "      <th>runtime_minutes</th>\n",
       "      <th>genres</th>\n",
       "      <th>averagerating</th>\n",
       "      <th>numvotes</th>\n",
       "      <th>name</th>\n",
       "    </tr>\n",
       "  </thead>\n",
       "  <tbody>\n",
       "    <tr>\n",
       "      <th>0</th>\n",
       "      <td>USA</td>\n",
       "      <td>$150,000,000</td>\n",
       "      <td>$208,806,270,</td>\n",
       "      <td>$652,270,625</td>\n",
       "      <td>$1,670,401,444</td>\n",
       "      <td>tt0369610</td>\n",
       "      <td>Jurassic World</td>\n",
       "      <td>2015</td>\n",
       "      <td>124.0</td>\n",
       "      <td>Action,Adventure,Sci-Fi</td>\n",
       "      <td>7.0</td>\n",
       "      <td>539338.0</td>\n",
       "      <td>Colin Trevorrow</td>\n",
       "    </tr>\n",
       "    <tr>\n",
       "      <th>2</th>\n",
       "      <td>UK</td>\n",
       "      <td>NaN</td>\n",
       "      <td>NaN</td>\n",
       "      <td>NaN</td>\n",
       "      <td>NaN</td>\n",
       "      <td>tt0381957</td>\n",
       "      <td>Cloud Cuckoo Land</td>\n",
       "      <td>2012</td>\n",
       "      <td>92.0</td>\n",
       "      <td>Drama</td>\n",
       "      <td>7.6</td>\n",
       "      <td>23.0</td>\n",
       "      <td>NaN</td>\n",
       "    </tr>\n",
       "    <tr>\n",
       "      <th>3</th>\n",
       "      <td>USA</td>\n",
       "      <td>$250,000,000</td>\n",
       "      <td>$30,180,188,</td>\n",
       "      <td>$73,078,100</td>\n",
       "      <td>$284,139,100</td>\n",
       "      <td>tt0401729</td>\n",
       "      <td>John Carter</td>\n",
       "      <td>2012</td>\n",
       "      <td>132.0</td>\n",
       "      <td>Action,Adventure,Sci-Fi</td>\n",
       "      <td>6.6</td>\n",
       "      <td>241792.0</td>\n",
       "      <td>Andrew Stanton</td>\n",
       "    </tr>\n",
       "    <tr>\n",
       "      <th>5</th>\n",
       "      <td>France</td>\n",
       "      <td>NaN</td>\n",
       "      <td>NaN</td>\n",
       "      <td>NaN</td>\n",
       "      <td>NaN</td>\n",
       "      <td>tt10010134</td>\n",
       "      <td>Versailles Rediscovered - The Sun King's Vanis...</td>\n",
       "      <td>2019</td>\n",
       "      <td>52.0</td>\n",
       "      <td>Documentary</td>\n",
       "      <td>7.0</td>\n",
       "      <td>5.0</td>\n",
       "      <td>NaN</td>\n",
       "    </tr>\n",
       "    <tr>\n",
       "      <th>6</th>\n",
       "      <td>Australia</td>\n",
       "      <td>NaN</td>\n",
       "      <td>NaN</td>\n",
       "      <td>NaN</td>\n",
       "      <td>NaN</td>\n",
       "      <td>tt10027708</td>\n",
       "      <td>Miguelito</td>\n",
       "      <td>2019</td>\n",
       "      <td>94.0</td>\n",
       "      <td>Documentary,Music</td>\n",
       "      <td>NaN</td>\n",
       "      <td>NaN</td>\n",
       "      <td>NaN</td>\n",
       "    </tr>\n",
       "    <tr>\n",
       "      <th>...</th>\n",
       "      <td>...</td>\n",
       "      <td>...</td>\n",
       "      <td>...</td>\n",
       "      <td>...</td>\n",
       "      <td>...</td>\n",
       "      <td>...</td>\n",
       "      <td>...</td>\n",
       "      <td>...</td>\n",
       "      <td>...</td>\n",
       "      <td>...</td>\n",
       "      <td>...</td>\n",
       "      <td>...</td>\n",
       "      <td>...</td>\n",
       "    </tr>\n",
       "    <tr>\n",
       "      <th>109074</th>\n",
       "      <td>Italy</td>\n",
       "      <td>NaN</td>\n",
       "      <td>NaN</td>\n",
       "      <td>NaN</td>\n",
       "      <td>NaN</td>\n",
       "      <td>tt7896164</td>\n",
       "      <td>Ombra e il Poeta</td>\n",
       "      <td>2017</td>\n",
       "      <td>105.0</td>\n",
       "      <td>Musical,Thriller</td>\n",
       "      <td>4.2</td>\n",
       "      <td>31.0</td>\n",
       "      <td>NaN</td>\n",
       "    </tr>\n",
       "    <tr>\n",
       "      <th>109075</th>\n",
       "      <td>Vietnam</td>\n",
       "      <td>VND100,000,000</td>\n",
       "      <td>NaN</td>\n",
       "      <td>NaN</td>\n",
       "      <td>NaN</td>\n",
       "      <td>tt7897718</td>\n",
       "      <td>OB Movie: Go To The Dark</td>\n",
       "      <td>2018</td>\n",
       "      <td>51.0</td>\n",
       "      <td>Action,Adventure,Comedy</td>\n",
       "      <td>NaN</td>\n",
       "      <td>NaN</td>\n",
       "      <td>NaN</td>\n",
       "    </tr>\n",
       "    <tr>\n",
       "      <th>109076</th>\n",
       "      <td>Philippines</td>\n",
       "      <td>NaN</td>\n",
       "      <td>NaN</td>\n",
       "      <td>NaN</td>\n",
       "      <td>$42,211</td>\n",
       "      <td>tt7908092</td>\n",
       "      <td>Ang Dalawang Mrs. Reyes</td>\n",
       "      <td>2018</td>\n",
       "      <td>104.0</td>\n",
       "      <td>Comedy</td>\n",
       "      <td>6.9</td>\n",
       "      <td>83.0</td>\n",
       "      <td>Jun Lana</td>\n",
       "    </tr>\n",
       "    <tr>\n",
       "      <th>109078</th>\n",
       "      <td>Canada</td>\n",
       "      <td>CAD180,000</td>\n",
       "      <td>NaN</td>\n",
       "      <td>NaN</td>\n",
       "      <td>NaN</td>\n",
       "      <td>tt7914282</td>\n",
       "      <td>Sashinka</td>\n",
       "      <td>2017</td>\n",
       "      <td>78.0</td>\n",
       "      <td>Drama</td>\n",
       "      <td>6.5</td>\n",
       "      <td>46.0</td>\n",
       "      <td>NaN</td>\n",
       "    </tr>\n",
       "    <tr>\n",
       "      <th>109079</th>\n",
       "      <td>Germany</td>\n",
       "      <td>NaN</td>\n",
       "      <td>NaN</td>\n",
       "      <td>NaN</td>\n",
       "      <td>NaN</td>\n",
       "      <td>tt7918024</td>\n",
       "      <td>Der grausame Gott? Gewalt, Religion und Kunst</td>\n",
       "      <td>2015</td>\n",
       "      <td>NaN</td>\n",
       "      <td>Documentary</td>\n",
       "      <td>NaN</td>\n",
       "      <td>NaN</td>\n",
       "      <td>NaN</td>\n",
       "    </tr>\n",
       "  </tbody>\n",
       "</table>\n",
       "<p>102169 rows × 13 columns</p>\n",
       "</div>"
      ],
      "text/plain": [
       "            Country          Budget Opening Weekend USA     Gross USA  \\\n",
       "0               USA    $150,000,000       $208,806,270,  $652,270,625   \n",
       "2                UK             NaN                 NaN           NaN   \n",
       "3               USA    $250,000,000        $30,180,188,   $73,078,100   \n",
       "5            France             NaN                 NaN           NaN   \n",
       "6         Australia             NaN                 NaN           NaN   \n",
       "...             ...             ...                 ...           ...   \n",
       "109074        Italy             NaN                 NaN           NaN   \n",
       "109075      Vietnam  VND100,000,000                 NaN           NaN   \n",
       "109076  Philippines             NaN                 NaN           NaN   \n",
       "109078       Canada      CAD180,000                 NaN           NaN   \n",
       "109079      Germany             NaN                 NaN           NaN   \n",
       "\n",
       "       Cumulative Worldwide Gross    title_id  \\\n",
       "0                  $1,670,401,444   tt0369610   \n",
       "2                             NaN   tt0381957   \n",
       "3                    $284,139,100   tt0401729   \n",
       "5                             NaN  tt10010134   \n",
       "6                             NaN  tt10027708   \n",
       "...                           ...         ...   \n",
       "109074                        NaN   tt7896164   \n",
       "109075                        NaN   tt7897718   \n",
       "109076                    $42,211   tt7908092   \n",
       "109078                        NaN   tt7914282   \n",
       "109079                        NaN   tt7918024   \n",
       "\n",
       "                                            primary_title  start_year  \\\n",
       "0                                          Jurassic World        2015   \n",
       "2                                       Cloud Cuckoo Land        2012   \n",
       "3                                             John Carter        2012   \n",
       "5       Versailles Rediscovered - The Sun King's Vanis...        2019   \n",
       "6                                               Miguelito        2019   \n",
       "...                                                   ...         ...   \n",
       "109074                                   Ombra e il Poeta        2017   \n",
       "109075                           OB Movie: Go To The Dark        2018   \n",
       "109076                            Ang Dalawang Mrs. Reyes        2018   \n",
       "109078                                           Sashinka        2017   \n",
       "109079      Der grausame Gott? Gewalt, Religion und Kunst        2015   \n",
       "\n",
       "        runtime_minutes                   genres  averagerating  numvotes  \\\n",
       "0                 124.0  Action,Adventure,Sci-Fi            7.0  539338.0   \n",
       "2                  92.0                    Drama            7.6      23.0   \n",
       "3                 132.0  Action,Adventure,Sci-Fi            6.6  241792.0   \n",
       "5                  52.0              Documentary            7.0       5.0   \n",
       "6                  94.0        Documentary,Music            NaN       NaN   \n",
       "...                 ...                      ...            ...       ...   \n",
       "109074            105.0         Musical,Thriller            4.2      31.0   \n",
       "109075             51.0  Action,Adventure,Comedy            NaN       NaN   \n",
       "109076            104.0                   Comedy            6.9      83.0   \n",
       "109078             78.0                    Drama            6.5      46.0   \n",
       "109079              NaN              Documentary            NaN       NaN   \n",
       "\n",
       "                   name  \n",
       "0       Colin Trevorrow  \n",
       "2                   NaN  \n",
       "3        Andrew Stanton  \n",
       "5                   NaN  \n",
       "6                   NaN  \n",
       "...                 ...  \n",
       "109074              NaN  \n",
       "109075              NaN  \n",
       "109076         Jun Lana  \n",
       "109078              NaN  \n",
       "109079              NaN  \n",
       "\n",
       "[102169 rows x 13 columns]"
      ]
     },
     "execution_count": 30,
     "metadata": {},
     "output_type": "execute_result"
    }
   ],
   "source": [
    "df"
   ]
  },
  {
   "cell_type": "markdown",
   "metadata": {},
   "source": [
    "# Data Cleaning"
   ]
  },
  {
   "cell_type": "code",
   "execution_count": 31,
   "metadata": {},
   "outputs": [],
   "source": [
    "# Dropping Null Values\n",
    "df = df.dropna(subset=['Opening Weekend USA', 'Gross USA', 'Cumulative Worldwide Gross'], how='all')"
   ]
  },
  {
   "cell_type": "code",
   "execution_count": 32,
   "metadata": {},
   "outputs": [
    {
     "name": "stderr",
     "output_type": "stream",
     "text": [
      "/Users/davidbruce/opt/anaconda3/envs/learn-env/lib/python3.6/site-packages/ipykernel_launcher.py:2: SettingWithCopyWarning: \n",
      "A value is trying to be set on a copy of a slice from a DataFrame.\n",
      "Try using .loc[row_indexer,col_indexer] = value instead\n",
      "\n",
      "See the caveats in the documentation: http://pandas.pydata.org/pandas-docs/stable/user_guide/indexing.html#returning-a-view-versus-a-copy\n",
      "  \n"
     ]
    }
   ],
   "source": [
    "# Cumulative Worldwide Gross replace NaN with 0\n",
    "df['Cumulative Worldwide Gross'] = df['Cumulative Worldwide Gross'].fillna(0)"
   ]
  },
  {
   "cell_type": "code",
   "execution_count": 33,
   "metadata": {},
   "outputs": [],
   "source": [
    "# Movies from India contain 'INR' substring and need to be converted to USD or dropped\n",
    "INR = df.loc[df['Cumulative Worldwide Gross'].str.contains('INR') == True]\n",
    "NPR = df.loc[df['Cumulative Worldwide Gross'].str.contains('NPR') == True]"
   ]
  },
  {
   "cell_type": "code",
   "execution_count": 34,
   "metadata": {},
   "outputs": [],
   "source": [
    "df = df.drop(df.loc[df['Cumulative Worldwide Gross'].str.contains('INR') == True].index)"
   ]
  },
  {
   "cell_type": "code",
   "execution_count": 35,
   "metadata": {},
   "outputs": [],
   "source": [
    "df = df.drop(df.loc[df['Cumulative Worldwide Gross'].str.contains('NPR') == True].index)"
   ]
  },
  {
   "cell_type": "code",
   "execution_count": 36,
   "metadata": {},
   "outputs": [],
   "source": [
    "df = df.drop(df.loc[df['Cumulative Worldwide Gross'].str.contains('AUD') == True].index)"
   ]
  },
  {
   "cell_type": "code",
   "execution_count": 37,
   "metadata": {},
   "outputs": [],
   "source": [
    "def clean_currency(x):\n",
    "    if isinstance(x, str):\n",
    "        x = x.replace('$', '').replace(',', '')\n",
    "        return x\n",
    "    return(x)\n",
    "\n",
    "# df['Cumulative Worldwide Gross'] = df['Cumulative Worldwide Gross'].str.replace(',', '').str.replace('$', '')"
   ]
  },
  {
   "cell_type": "code",
   "execution_count": 38,
   "metadata": {},
   "outputs": [],
   "source": [
    "df['Cumulative Worldwide Gross'] = df['Cumulative Worldwide Gross'].map(lambda x: clean_currency(x))"
   ]
  },
  {
   "cell_type": "code",
   "execution_count": 39,
   "metadata": {},
   "outputs": [],
   "source": [
    "df['Cumulative Worldwide Gross'] = pd.to_numeric(df['Cumulative Worldwide Gross'])"
   ]
  },
  {
   "cell_type": "code",
   "execution_count": 40,
   "metadata": {},
   "outputs": [
    {
     "data": {
      "text/plain": [
       "0     1670401444\n",
       "3      284139100\n",
       "10    1025467803\n",
       "14       2704326\n",
       "17       1424100\n",
       "Name: Cumulative Worldwide Gross, dtype: int64"
      ]
     },
     "execution_count": 40,
     "metadata": {},
     "output_type": "execute_result"
    }
   ],
   "source": [
    "df['Cumulative Worldwide Gross'][:5]"
   ]
  },
  {
   "cell_type": "code",
   "execution_count": 41,
   "metadata": {},
   "outputs": [],
   "source": [
    "# Gross USA \n",
    "df['Gross USA'] = df['Gross USA'].fillna(0)"
   ]
  },
  {
   "cell_type": "code",
   "execution_count": 42,
   "metadata": {},
   "outputs": [],
   "source": [
    "df['Gross USA'] = df['Gross USA'].map(lambda x: clean_currency(x))"
   ]
  },
  {
   "cell_type": "code",
   "execution_count": 43,
   "metadata": {},
   "outputs": [],
   "source": [
    "df['Gross USA'] = pd.to_numeric(df['Gross USA'])"
   ]
  },
  {
   "cell_type": "code",
   "execution_count": 44,
   "metadata": {},
   "outputs": [
    {
     "data": {
      "text/plain": [
       "0     652270625\n",
       "3      73078100\n",
       "10    334191110\n",
       "14            0\n",
       "17            0\n",
       "Name: Gross USA, dtype: int64"
      ]
     },
     "execution_count": 44,
     "metadata": {},
     "output_type": "execute_result"
    }
   ],
   "source": [
    "df['Gross USA'][:5]"
   ]
  },
  {
   "cell_type": "code",
   "execution_count": 45,
   "metadata": {},
   "outputs": [],
   "source": [
    "# Opening Weekend USA\n",
    "df['Opening Weekend USA'] = df['Opening Weekend USA'].fillna(0)"
   ]
  },
  {
   "cell_type": "code",
   "execution_count": 46,
   "metadata": {},
   "outputs": [],
   "source": [
    "df['Opening Weekend USA'] = df['Opening Weekend USA'].map(lambda x: clean_currency(x))"
   ]
  },
  {
   "cell_type": "code",
   "execution_count": 47,
   "metadata": {},
   "outputs": [],
   "source": [
    "df['Opening Weekend USA'] = pd.to_numeric(df['Opening Weekend USA'])"
   ]
  },
  {
   "cell_type": "code",
   "execution_count": 48,
   "metadata": {},
   "outputs": [
    {
     "data": {
      "text/plain": [
       "0     208806270\n",
       "3      30180188\n",
       "10    116101023\n",
       "14            0\n",
       "17            0\n",
       "Name: Opening Weekend USA, dtype: int64"
      ]
     },
     "execution_count": 48,
     "metadata": {},
     "output_type": "execute_result"
    }
   ],
   "source": [
    "df['Opening Weekend USA'][:5]"
   ]
  },
  {
   "cell_type": "code",
   "execution_count": 49,
   "metadata": {},
   "outputs": [
    {
     "data": {
      "text/plain": [
       "(17172, 13)"
      ]
     },
     "execution_count": 49,
     "metadata": {},
     "output_type": "execute_result"
    }
   ],
   "source": [
    "df.shape"
   ]
  },
  {
   "cell_type": "code",
   "execution_count": 50,
   "metadata": {},
   "outputs": [
    {
     "data": {
      "text/plain": [
       "0          $150,000,000\n",
       "3          $250,000,000\n",
       "10         $200,000,000\n",
       "14                  NaN\n",
       "17                  NaN\n",
       "              ...      \n",
       "109059    INR60,000,000\n",
       "109062              NaN\n",
       "109063     GBP2,500,000\n",
       "109072              NaN\n",
       "109076              NaN\n",
       "Name: Budget, Length: 17172, dtype: object"
      ]
     },
     "execution_count": 50,
     "metadata": {},
     "output_type": "execute_result"
    }
   ],
   "source": [
    "df.Budget"
   ]
  },
  {
   "cell_type": "code",
   "execution_count": 51,
   "metadata": {},
   "outputs": [],
   "source": [
    "df['Budget'] = df['Budget'].map(lambda x: clean_currency(x))"
   ]
  },
  {
   "cell_type": "code",
   "execution_count": 52,
   "metadata": {},
   "outputs": [],
   "source": [
    "df['Budget'] = df['Budget'].fillna('0')"
   ]
  },
  {
   "cell_type": "code",
   "execution_count": 53,
   "metadata": {},
   "outputs": [],
   "source": [
    "def find_currencies(x):\n",
    "    currencies = []\n",
    "    for i in x:\n",
    "        if i[:3].isalpha():\n",
    "            currencies.append(i[:3])\n",
    "    return np.unique(currencies)"
   ]
  },
  {
   "cell_type": "code",
   "execution_count": 54,
   "metadata": {},
   "outputs": [],
   "source": [
    "budget_curr = df['Budget'].tolist()"
   ]
  },
  {
   "cell_type": "code",
   "execution_count": 55,
   "metadata": {},
   "outputs": [],
   "source": [
    "list_of_curr = find_currencies(budget_curr).tolist()"
   ]
  },
  {
   "cell_type": "markdown",
   "metadata": {},
   "source": [
    "## Switched null values to '0' string in order to apply conversion function"
   ]
  },
  {
   "cell_type": "code",
   "execution_count": 56,
   "metadata": {},
   "outputs": [],
   "source": [
    "df.Budget.fillna('0', inplace = True)"
   ]
  },
  {
   "cell_type": "code",
   "execution_count": 57,
   "metadata": {},
   "outputs": [],
   "source": [
    "def conversion_rates(x):\n",
    "    \n",
    "    list_of_curr = {'ARS':0.01, 'AUD':0.54, 'BGL':0, 'BRL':0.13, 'CAD':0.55, 'CHF':0.8, 'CLP':0.0009, 'CNY':0.1,\n",
    "                    'COP':0.000175, 'CZK':0.03, 'DKK':0.11, 'EEK':0, 'EGP':0.04, 'EUR':1.17, 'GBP':0.81, 'HKD':0.08,\n",
    "                    'HUF':0.002, 'IDR':0.000042, 'INR':0.01, 'ISK':0.0053, 'ITL':0, 'JPY':0.007, 'KRW':0.000633, 'LTL':0.25,\n",
    "                    'NOK':0.11, 'NZD':0.66, 'PEN':0.28, 'PHP':0.02, 'LVL':1.23, 'MXN':0.03, 'MYR':0.16, 'NGN':0.0026,\n",
    "                    'PKR':0.006, 'PLN':0.25, 'RUR':0.01, 'SEK':0.11, 'SGD':0.73, 'THB':0.03, 'TRL':0.13, 'TWD':0.03, \n",
    "                    'UAH':0.04, 'VEB':0.1, 'ZAR':0.06}\n",
    "    x = str(x)\n",
    "    x = x.replace(',', '').replace('$','')\n",
    "    x = x.lstrip()\n",
    "\n",
    "    \n",
    "    if x.isdigit() == True:\n",
    "        return float(x)\n",
    "    \n",
    "    country_code = x[:3]\n",
    "    if country_code in list_of_curr:\n",
    "        return (float(x[3:len(list(x))]) * list_of_curr[f'{country_code}'])\n",
    "\n"
   ]
  },
  {
   "cell_type": "markdown",
   "metadata": {},
   "source": [
    "## Apply conversion function"
   ]
  },
  {
   "cell_type": "code",
   "execution_count": 58,
   "metadata": {},
   "outputs": [],
   "source": [
    "df['Budget'] = df['Budget'].apply(lambda x: conversion_rates(x))"
   ]
  },
  {
   "cell_type": "code",
   "execution_count": 59,
   "metadata": {},
   "outputs": [
    {
     "data": {
      "text/plain": [
       "(17172, 13)"
      ]
     },
     "execution_count": 59,
     "metadata": {},
     "output_type": "execute_result"
    }
   ],
   "source": [
    "df.shape"
   ]
  },
  {
   "cell_type": "markdown",
   "metadata": {},
   "source": [
    "# Cleaning Genres Column"
   ]
  },
  {
   "cell_type": "code",
   "execution_count": 60,
   "metadata": {},
   "outputs": [],
   "source": [
    "df['genres'] = df['genres'].fillna('NaN')"
   ]
  },
  {
   "cell_type": "code",
   "execution_count": 61,
   "metadata": {},
   "outputs": [],
   "source": [
    "df['genres'] = df['genres'].map(lambda x: list(x.split(',')))"
   ]
  },
  {
   "cell_type": "markdown",
   "metadata": {},
   "source": [
    "# Rename Director Column"
   ]
  },
  {
   "cell_type": "code",
   "execution_count": 62,
   "metadata": {},
   "outputs": [],
   "source": [
    "df.rename(columns={'name':'director'}, inplace=True)"
   ]
  },
  {
   "cell_type": "markdown",
   "metadata": {},
   "source": [
    "# Make Profit Column"
   ]
  },
  {
   "cell_type": "code",
   "execution_count": 63,
   "metadata": {},
   "outputs": [],
   "source": [
    "df['Budget'] = df['Budget'].replace(0.0, np.nan)"
   ]
  },
  {
   "cell_type": "code",
   "execution_count": 64,
   "metadata": {},
   "outputs": [],
   "source": [
    "df['Profit'] = df['Cumulative Worldwide Gross']-df['Budget']"
   ]
  },
  {
   "cell_type": "code",
   "execution_count": 65,
   "metadata": {},
   "outputs": [],
   "source": [
    "df['Budget'] = df['Budget'].fillna(0)\n",
    "df['Budget'] = df['Budget'].astype(int)\n",
    "df['Profit'] = df['Profit'].fillna(0)\n",
    "df['Profit'] = df['Profit'].astype(int)"
   ]
  },
  {
   "cell_type": "markdown",
   "metadata": {},
   "source": [
    "# Individual Genre Columns Added"
   ]
  },
  {
   "cell_type": "code",
   "execution_count": 66,
   "metadata": {},
   "outputs": [],
   "source": [
    "list_of_genres = [row[0] for row in df['genres']]"
   ]
  },
  {
   "cell_type": "code",
   "execution_count": 67,
   "metadata": {},
   "outputs": [],
   "source": [
    "l_o_genres = list(set(list_of_genres))"
   ]
  },
  {
   "cell_type": "code",
   "execution_count": 68,
   "metadata": {},
   "outputs": [],
   "source": [
    "l_o_genres.remove('NaN')"
   ]
  },
  {
   "cell_type": "code",
   "execution_count": 69,
   "metadata": {},
   "outputs": [
    {
     "data": {
      "text/plain": [
       "['Sport',\n",
       " 'Fantasy',\n",
       " 'Western',\n",
       " 'Horror',\n",
       " 'Family',\n",
       " 'Thriller',\n",
       " 'Biography',\n",
       " 'Animation',\n",
       " 'History',\n",
       " 'Crime',\n",
       " 'Drama',\n",
       " 'Romance',\n",
       " 'Musical',\n",
       " 'Documentary',\n",
       " 'Adventure',\n",
       " 'Comedy',\n",
       " 'War',\n",
       " 'Mystery',\n",
       " 'Action',\n",
       " 'Music',\n",
       " 'Sci-Fi']"
      ]
     },
     "execution_count": 69,
     "metadata": {},
     "output_type": "execute_result"
    }
   ],
   "source": [
    "l_o_genres"
   ]
  },
  {
   "cell_type": "code",
   "execution_count": 70,
   "metadata": {},
   "outputs": [],
   "source": [
    "zero_matrix = np.zeros((len(df), len(l_o_genres)))"
   ]
  },
  {
   "cell_type": "code",
   "execution_count": 71,
   "metadata": {},
   "outputs": [],
   "source": [
    "dummies = pd.DataFrame(zero_matrix, columns=l_o_genres)"
   ]
  },
  {
   "cell_type": "code",
   "execution_count": 72,
   "metadata": {},
   "outputs": [],
   "source": [
    "for i, gen in enumerate(df.genres):\n",
    "    indices = dummies.columns.get_indexer(gen)\n",
    "    dummies.iloc[i, indices] = 1"
   ]
  },
  {
   "cell_type": "code",
   "execution_count": 73,
   "metadata": {},
   "outputs": [],
   "source": [
    "df = df.merge(dummies, how='outer', on=df.index)"
   ]
  },
  {
   "cell_type": "markdown",
   "metadata": {},
   "source": [
    "# Reset Index"
   ]
  },
  {
   "cell_type": "code",
   "execution_count": 74,
   "metadata": {},
   "outputs": [],
   "source": [
    "df.rename(columns={'key_0':'title_id'}, inplace=True)"
   ]
  },
  {
   "cell_type": "code",
   "execution_count": 75,
   "metadata": {},
   "outputs": [],
   "source": [
    "df.set_index(['primary_title'], inplace=True)"
   ]
  },
  {
   "cell_type": "code",
   "execution_count": 76,
   "metadata": {},
   "outputs": [],
   "source": [
    "df.drop(['title_id'], axis=1, inplace=True)"
   ]
  },
  {
   "cell_type": "markdown",
   "metadata": {},
   "source": [
    "# Make df a .csv"
   ]
  },
  {
   "cell_type": "code",
   "execution_count": 77,
   "metadata": {},
   "outputs": [],
   "source": [
    "df.to_csv('master_table.csv')"
   ]
  },
  {
   "cell_type": "code",
   "execution_count": null,
   "metadata": {},
   "outputs": [],
   "source": []
  }
 ],
 "metadata": {
  "kernelspec": {
   "display_name": "learn-env",
   "language": "python",
   "name": "learn-env"
  },
  "language_info": {
   "codemirror_mode": {
    "name": "ipython",
    "version": 3
   },
   "file_extension": ".py",
   "mimetype": "text/x-python",
   "name": "python",
   "nbconvert_exporter": "python",
   "pygments_lexer": "ipython3",
   "version": "3.6.9"
  }
 },
 "nbformat": 4,
 "nbformat_minor": 4
}
