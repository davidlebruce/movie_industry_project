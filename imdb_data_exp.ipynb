{
 "cells": [
  {
   "cell_type": "code",
   "execution_count": 1,
   "metadata": {},
   "outputs": [],
   "source": [
    "import pandas as pd\n",
    "import numpy as np"
   ]
  },
  {
   "cell_type": "code",
   "execution_count": 2,
   "metadata": {},
   "outputs": [],
   "source": [
    "imdb1 = pd.read_csv(\"zippedData/imdb.name.basics.csv.gz\")\n",
    "imdb2 = pd.read_csv(\"zippedData/imdb.title.akas.csv.gz\")\n",
    "imdb3 = pd.read_csv(\"zippedData/imdb.title.basics.csv.gz\")\n",
    "imdb4 = pd.read_csv(\"zippedData/imdb.title.crew.csv.gz\")\n",
    "imdb5 = pd.read_csv(\"zippedData/imdb.title.principals.csv.gz\")\n",
    "imdb6 = pd.read_csv(\"zippedData/imdb.title.ratings.csv.gz\")"
   ]
  },
  {
   "cell_type": "markdown",
   "metadata": {},
   "source": [
    "# IMDB Web Scraped Data"
   ]
  },
  {
   "cell_type": "code",
   "execution_count": 3,
   "metadata": {},
   "outputs": [],
   "source": [
    "# cleaning primary keys in imdb dfs\n",
    "imdb2['title_id'] = imdb2['title_id'].str.strip()\n",
    "imdb3['tconst'] = imdb3['tconst'].str.strip()\n",
    "imdb4['tconst'] = imdb4['tconst'].str.strip()\n",
    "imdb5['tconst'] = imdb5['tconst'].str.strip()\n",
    "imdb6['tconst'] = imdb6['tconst'].str.strip()"
   ]
  },
  {
   "cell_type": "code",
   "execution_count": 4,
   "metadata": {},
   "outputs": [],
   "source": [
    "# dropping duplicates\n",
    "imdb2.drop_duplicates(subset=['title_id'], inplace=True)"
   ]
  },
  {
   "cell_type": "code",
   "execution_count": 5,
   "metadata": {},
   "outputs": [],
   "source": [
    "imdb3.drop_duplicates(subset=['tconst'], inplace=True)\n",
    "imdb4.drop_duplicates(subset=['tconst'], inplace=True)\n",
    "imdb5.drop_duplicates(subset=['tconst'], inplace=True)\n",
    "imdb6.drop_duplicates(subset=['tconst'], inplace=True)"
   ]
  },
  {
   "cell_type": "code",
   "execution_count": 6,
   "metadata": {},
   "outputs": [],
   "source": [
    "# importing web scrapes\n",
    "web_scrape1 = pd.read_csv('imdb_monetary_data_16590.csv')\n",
    "web_scrape1.set_index(['title_id'], inplace=True)"
   ]
  },
  {
   "cell_type": "code",
   "execution_count": 7,
   "metadata": {},
   "outputs": [],
   "source": [
    "web_scrape2 = pd.read_csv('imdb_monetary_data_16591_to_25214_.csv')\n",
    "web_scrape2.set_index(['title_id'], inplace=True)"
   ]
  },
  {
   "cell_type": "code",
   "execution_count": 8,
   "metadata": {},
   "outputs": [],
   "source": [
    "web_scrape3 = pd.read_csv('imdb_monetary_data_29214_.csv')\n",
    "web_scrape3.set_index(['title_id'], inplace=True)"
   ]
  },
  {
   "cell_type": "code",
   "execution_count": 9,
   "metadata": {},
   "outputs": [],
   "source": [
    "web_scrape4 = pd.read_csv('imdb_monetary_data_33736_.csv')\n",
    "web_scrape4.set_index(['title_id'], inplace=True)"
   ]
  },
  {
   "cell_type": "code",
   "execution_count": 10,
   "metadata": {},
   "outputs": [
    {
     "name": "stdout",
     "output_type": "stream",
     "text": [
      "Index(['Unnamed: 0', 'Country', 'Budget', 'Opening Weekend USA', 'Gross USA',\n",
      "       'Cumulative Worldwide Gross', 'Runtime'],\n",
      "      dtype='object')\n",
      "\n",
      "(33802, 7)\n",
      "\n",
      "Unnamed: 0                        0\n",
      "Country                          41\n",
      "Budget                        23456\n",
      "Opening Weekend USA           31451\n",
      "Gross USA                     31335\n",
      "Cumulative Worldwide Gross    27203\n",
      "Runtime                        8474\n",
      "dtype: int64\n"
     ]
    }
   ],
   "source": [
    "# concatenating webscraped data\n",
    "web_scrape = pd.concat([web_scrape1, web_scrape2, web_scrape3, web_scrape4])\n",
    "print(web_scrape.columns, end='\\n\\n')\n",
    "print(web_scrape.shape, end='\\n\\n')\n",
    "print(web_scrape.isna().sum())"
   ]
  },
  {
   "cell_type": "code",
   "execution_count": 11,
   "metadata": {},
   "outputs": [
    {
     "data": {
      "text/html": [
       "<div>\n",
       "<style scoped>\n",
       "    .dataframe tbody tr th:only-of-type {\n",
       "        vertical-align: middle;\n",
       "    }\n",
       "\n",
       "    .dataframe tbody tr th {\n",
       "        vertical-align: top;\n",
       "    }\n",
       "\n",
       "    .dataframe thead th {\n",
       "        text-align: right;\n",
       "    }\n",
       "</style>\n",
       "<table border=\"1\" class=\"dataframe\">\n",
       "  <thead>\n",
       "    <tr style=\"text-align: right;\">\n",
       "      <th></th>\n",
       "      <th>Country</th>\n",
       "      <th>Budget</th>\n",
       "      <th>Opening Weekend USA</th>\n",
       "      <th>Gross USA</th>\n",
       "      <th>Cumulative Worldwide Gross</th>\n",
       "      <th>Runtime</th>\n",
       "    </tr>\n",
       "    <tr>\n",
       "      <th>title_id</th>\n",
       "      <th></th>\n",
       "      <th></th>\n",
       "      <th></th>\n",
       "      <th></th>\n",
       "      <th></th>\n",
       "      <th></th>\n",
       "    </tr>\n",
       "  </thead>\n",
       "  <tbody>\n",
       "    <tr>\n",
       "      <th>tt0369610</th>\n",
       "      <td>USA</td>\n",
       "      <td>$150,000,000</td>\n",
       "      <td>$208,806,270,</td>\n",
       "      <td>$652,270,625</td>\n",
       "      <td>$1,670,401,444</td>\n",
       "      <td>124 min</td>\n",
       "    </tr>\n",
       "    <tr>\n",
       "      <th>tt0381957</th>\n",
       "      <td>UK</td>\n",
       "      <td>NaN</td>\n",
       "      <td>NaN</td>\n",
       "      <td>NaN</td>\n",
       "      <td>NaN</td>\n",
       "      <td>NaN</td>\n",
       "    </tr>\n",
       "    <tr>\n",
       "      <th>tt0401729</th>\n",
       "      <td>USA</td>\n",
       "      <td>$250,000,000</td>\n",
       "      <td>$30,180,188,</td>\n",
       "      <td>$73,078,100</td>\n",
       "      <td>$284,139,100</td>\n",
       "      <td>132 min</td>\n",
       "    </tr>\n",
       "    <tr>\n",
       "      <th>tt10010134</th>\n",
       "      <td>France</td>\n",
       "      <td>NaN</td>\n",
       "      <td>NaN</td>\n",
       "      <td>NaN</td>\n",
       "      <td>NaN</td>\n",
       "      <td>52 min</td>\n",
       "    </tr>\n",
       "    <tr>\n",
       "      <th>tt10027708</th>\n",
       "      <td>Australia</td>\n",
       "      <td>NaN</td>\n",
       "      <td>NaN</td>\n",
       "      <td>NaN</td>\n",
       "      <td>NaN</td>\n",
       "      <td>94 min</td>\n",
       "    </tr>\n",
       "    <tr>\n",
       "      <th>...</th>\n",
       "      <td>...</td>\n",
       "      <td>...</td>\n",
       "      <td>...</td>\n",
       "      <td>...</td>\n",
       "      <td>...</td>\n",
       "      <td>...</td>\n",
       "    </tr>\n",
       "    <tr>\n",
       "      <th>tt3364042</th>\n",
       "      <td>Canada</td>\n",
       "      <td>NaN</td>\n",
       "      <td>NaN</td>\n",
       "      <td>NaN</td>\n",
       "      <td>NaN</td>\n",
       "      <td>NaN</td>\n",
       "    </tr>\n",
       "    <tr>\n",
       "      <th>tt3364162</th>\n",
       "      <td>Peru</td>\n",
       "      <td>NaN</td>\n",
       "      <td>NaN</td>\n",
       "      <td>NaN</td>\n",
       "      <td>$264,294</td>\n",
       "      <td>80 min</td>\n",
       "    </tr>\n",
       "    <tr>\n",
       "      <th>tt3368510</th>\n",
       "      <td>Switzerland</td>\n",
       "      <td>NaN</td>\n",
       "      <td>NaN</td>\n",
       "      <td>NaN</td>\n",
       "      <td>NaN</td>\n",
       "      <td>113 min</td>\n",
       "    </tr>\n",
       "    <tr>\n",
       "      <th>tt3369350</th>\n",
       "      <td>USA</td>\n",
       "      <td>NaN</td>\n",
       "      <td>NaN</td>\n",
       "      <td>NaN</td>\n",
       "      <td>NaN</td>\n",
       "      <td>101 min</td>\n",
       "    </tr>\n",
       "    <tr>\n",
       "      <th>tt3375416</th>\n",
       "      <td>USA</td>\n",
       "      <td>NaN</td>\n",
       "      <td>NaN</td>\n",
       "      <td>NaN</td>\n",
       "      <td>NaN</td>\n",
       "      <td>92 min</td>\n",
       "    </tr>\n",
       "  </tbody>\n",
       "</table>\n",
       "<p>33802 rows × 6 columns</p>\n",
       "</div>"
      ],
      "text/plain": [
       "                Country        Budget Opening Weekend USA     Gross USA  \\\n",
       "title_id                                                                  \n",
       "tt0369610           USA  $150,000,000       $208,806,270,  $652,270,625   \n",
       "tt0381957            UK           NaN                 NaN           NaN   \n",
       "tt0401729           USA  $250,000,000        $30,180,188,   $73,078,100   \n",
       "tt10010134       France           NaN                 NaN           NaN   \n",
       "tt10027708    Australia           NaN                 NaN           NaN   \n",
       "...                 ...           ...                 ...           ...   \n",
       "tt3364042        Canada           NaN                 NaN           NaN   \n",
       "tt3364162          Peru           NaN                 NaN           NaN   \n",
       "tt3368510   Switzerland           NaN                 NaN           NaN   \n",
       "tt3369350           USA           NaN                 NaN           NaN   \n",
       "tt3375416           USA           NaN                 NaN           NaN   \n",
       "\n",
       "           Cumulative Worldwide Gross  Runtime  \n",
       "title_id                                        \n",
       "tt0369610              $1,670,401,444  124 min  \n",
       "tt0381957                         NaN      NaN  \n",
       "tt0401729                $284,139,100  132 min  \n",
       "tt10010134                        NaN   52 min  \n",
       "tt10027708                        NaN   94 min  \n",
       "...                               ...      ...  \n",
       "tt3364042                         NaN      NaN  \n",
       "tt3364162                    $264,294   80 min  \n",
       "tt3368510                         NaN  113 min  \n",
       "tt3369350                         NaN  101 min  \n",
       "tt3375416                         NaN   92 min  \n",
       "\n",
       "[33802 rows x 6 columns]"
      ]
     },
     "execution_count": 11,
     "metadata": {},
     "output_type": "execute_result"
    }
   ],
   "source": [
    "# dropping unnamed column\n",
    "web_scrape.drop(['Unnamed: 0'], axis=1, inplace=True)\n",
    "web_scrape"
   ]
  },
  {
   "cell_type": "code",
   "execution_count": 12,
   "metadata": {},
   "outputs": [],
   "source": [
    "# cleaning title_id (index)\n",
    "web_scrape.index = web_scrape.index.str.strip()"
   ]
  },
  {
   "cell_type": "code",
   "execution_count": 13,
   "metadata": {},
   "outputs": [],
   "source": [
    "# merging imdb2\n",
    "df = web_scrape.merge(imdb2, left_on=web_scrape.index, right_on=['title_id'])"
   ]
  },
  {
   "cell_type": "code",
   "execution_count": 14,
   "metadata": {},
   "outputs": [],
   "source": [
    "df = df.merge(imdb3, left_on=['title_id'], right_on=['tconst'])"
   ]
  },
  {
   "cell_type": "code",
   "execution_count": 15,
   "metadata": {},
   "outputs": [],
   "source": [
    "df = df.merge(imdb4, left_on=['title_id'], right_on=['tconst'])"
   ]
  },
  {
   "cell_type": "code",
   "execution_count": 16,
   "metadata": {},
   "outputs": [],
   "source": [
    "df = df.merge(imdb5, left_on=['title_id'], right_on=['tconst'])"
   ]
  },
  {
   "cell_type": "code",
   "execution_count": 17,
   "metadata": {},
   "outputs": [],
   "source": [
    "df = df.merge(imdb6, how='left', left_on=['title_id'], right_on=['tconst'])"
   ]
  },
  {
   "cell_type": "code",
   "execution_count": 18,
   "metadata": {},
   "outputs": [
    {
     "data": {
      "text/html": [
       "<div>\n",
       "<style scoped>\n",
       "    .dataframe tbody tr th:only-of-type {\n",
       "        vertical-align: middle;\n",
       "    }\n",
       "\n",
       "    .dataframe tbody tr th {\n",
       "        vertical-align: top;\n",
       "    }\n",
       "\n",
       "    .dataframe thead th {\n",
       "        text-align: right;\n",
       "    }\n",
       "</style>\n",
       "<table border=\"1\" class=\"dataframe\">\n",
       "  <thead>\n",
       "    <tr style=\"text-align: right;\">\n",
       "      <th></th>\n",
       "      <th>Country</th>\n",
       "      <th>Budget</th>\n",
       "      <th>Opening Weekend USA</th>\n",
       "      <th>Gross USA</th>\n",
       "      <th>Cumulative Worldwide Gross</th>\n",
       "      <th>Runtime</th>\n",
       "      <th>title_id</th>\n",
       "      <th>ordering_x</th>\n",
       "      <th>title</th>\n",
       "      <th>region</th>\n",
       "      <th>...</th>\n",
       "      <th>writers</th>\n",
       "      <th>tconst_x</th>\n",
       "      <th>ordering_y</th>\n",
       "      <th>nconst</th>\n",
       "      <th>category</th>\n",
       "      <th>job</th>\n",
       "      <th>characters</th>\n",
       "      <th>tconst_y</th>\n",
       "      <th>averagerating</th>\n",
       "      <th>numvotes</th>\n",
       "    </tr>\n",
       "  </thead>\n",
       "  <tbody>\n",
       "    <tr>\n",
       "      <th>0</th>\n",
       "      <td>USA</td>\n",
       "      <td>$150,000,000</td>\n",
       "      <td>$208,806,270,</td>\n",
       "      <td>$652,270,625</td>\n",
       "      <td>$1,670,401,444</td>\n",
       "      <td>124 min</td>\n",
       "      <td>tt0369610</td>\n",
       "      <td>10</td>\n",
       "      <td>Джурасик свят</td>\n",
       "      <td>BG</td>\n",
       "      <td>...</td>\n",
       "      <td>nm0415425,nm0798646,nm1119880,nm2081046,nm0000341</td>\n",
       "      <td>tt0369610</td>\n",
       "      <td>10</td>\n",
       "      <td>nm0189777</td>\n",
       "      <td>producer</td>\n",
       "      <td>producer</td>\n",
       "      <td>NaN</td>\n",
       "      <td>tt0369610</td>\n",
       "      <td>7.0</td>\n",
       "      <td>539338.0</td>\n",
       "    </tr>\n",
       "    <tr>\n",
       "      <th>1</th>\n",
       "      <td>UK</td>\n",
       "      <td>NaN</td>\n",
       "      <td>NaN</td>\n",
       "      <td>NaN</td>\n",
       "      <td>NaN</td>\n",
       "      <td>NaN</td>\n",
       "      <td>tt0381957</td>\n",
       "      <td>1</td>\n",
       "      <td>Cloud Cuckoo Land</td>\n",
       "      <td>GB</td>\n",
       "      <td>...</td>\n",
       "      <td>nm1458371,nm1461088</td>\n",
       "      <td>tt0381957</td>\n",
       "      <td>10</td>\n",
       "      <td>nm1108038</td>\n",
       "      <td>composer</td>\n",
       "      <td>NaN</td>\n",
       "      <td>NaN</td>\n",
       "      <td>tt0381957</td>\n",
       "      <td>7.6</td>\n",
       "      <td>23.0</td>\n",
       "    </tr>\n",
       "    <tr>\n",
       "      <th>2</th>\n",
       "      <td>USA</td>\n",
       "      <td>$250,000,000</td>\n",
       "      <td>$30,180,188,</td>\n",
       "      <td>$73,078,100</td>\n",
       "      <td>$284,139,100</td>\n",
       "      <td>132 min</td>\n",
       "      <td>tt0401729</td>\n",
       "      <td>10</td>\n",
       "      <td>Джон Картер: Мiж двох свiтiв</td>\n",
       "      <td>UA</td>\n",
       "      <td>...</td>\n",
       "      <td>nm0004056,nm0028764,nm0149290,nm0123194</td>\n",
       "      <td>tt0401729</td>\n",
       "      <td>10</td>\n",
       "      <td>nm0606640</td>\n",
       "      <td>producer</td>\n",
       "      <td>producer</td>\n",
       "      <td>NaN</td>\n",
       "      <td>tt0401729</td>\n",
       "      <td>6.6</td>\n",
       "      <td>241792.0</td>\n",
       "    </tr>\n",
       "    <tr>\n",
       "      <th>3</th>\n",
       "      <td>France</td>\n",
       "      <td>NaN</td>\n",
       "      <td>NaN</td>\n",
       "      <td>NaN</td>\n",
       "      <td>NaN</td>\n",
       "      <td>52 min</td>\n",
       "      <td>tt10010134</td>\n",
       "      <td>1</td>\n",
       "      <td>Versailles Rediscovered - The Sun King's Vanis...</td>\n",
       "      <td>NaN</td>\n",
       "      <td>...</td>\n",
       "      <td>nm2205937,nm1355962,nm10542772,nm0873469</td>\n",
       "      <td>tt10010134</td>\n",
       "      <td>10</td>\n",
       "      <td>nm0674930</td>\n",
       "      <td>editor</td>\n",
       "      <td>NaN</td>\n",
       "      <td>NaN</td>\n",
       "      <td>tt10010134</td>\n",
       "      <td>7.0</td>\n",
       "      <td>5.0</td>\n",
       "    </tr>\n",
       "    <tr>\n",
       "      <th>4</th>\n",
       "      <td>Australia</td>\n",
       "      <td>NaN</td>\n",
       "      <td>NaN</td>\n",
       "      <td>NaN</td>\n",
       "      <td>NaN</td>\n",
       "      <td>94 min</td>\n",
       "      <td>tt10027708</td>\n",
       "      <td>1</td>\n",
       "      <td>Miguelito - Canto a Borinquen</td>\n",
       "      <td>NaN</td>\n",
       "      <td>...</td>\n",
       "      <td>nm3495624</td>\n",
       "      <td>tt10027708</td>\n",
       "      <td>10</td>\n",
       "      <td>nm7089722</td>\n",
       "      <td>editor</td>\n",
       "      <td>NaN</td>\n",
       "      <td>NaN</td>\n",
       "      <td>NaN</td>\n",
       "      <td>NaN</td>\n",
       "      <td>NaN</td>\n",
       "    </tr>\n",
       "    <tr>\n",
       "      <th>...</th>\n",
       "      <td>...</td>\n",
       "      <td>...</td>\n",
       "      <td>...</td>\n",
       "      <td>...</td>\n",
       "      <td>...</td>\n",
       "      <td>...</td>\n",
       "      <td>...</td>\n",
       "      <td>...</td>\n",
       "      <td>...</td>\n",
       "      <td>...</td>\n",
       "      <td>...</td>\n",
       "      <td>...</td>\n",
       "      <td>...</td>\n",
       "      <td>...</td>\n",
       "      <td>...</td>\n",
       "      <td>...</td>\n",
       "      <td>...</td>\n",
       "      <td>...</td>\n",
       "      <td>...</td>\n",
       "      <td>...</td>\n",
       "      <td>...</td>\n",
       "    </tr>\n",
       "    <tr>\n",
       "      <th>33714</th>\n",
       "      <td>Canada</td>\n",
       "      <td>NaN</td>\n",
       "      <td>NaN</td>\n",
       "      <td>NaN</td>\n",
       "      <td>NaN</td>\n",
       "      <td>NaN</td>\n",
       "      <td>tt3364042</td>\n",
       "      <td>1</td>\n",
       "      <td>Battling Darkness</td>\n",
       "      <td>CA</td>\n",
       "      <td>...</td>\n",
       "      <td>nm6114866</td>\n",
       "      <td>tt3364042</td>\n",
       "      <td>1</td>\n",
       "      <td>nm7595790</td>\n",
       "      <td>self</td>\n",
       "      <td>NaN</td>\n",
       "      <td>[\"Himself\"]</td>\n",
       "      <td>tt3364042</td>\n",
       "      <td>8.4</td>\n",
       "      <td>8.0</td>\n",
       "    </tr>\n",
       "    <tr>\n",
       "      <th>33715</th>\n",
       "      <td>Peru</td>\n",
       "      <td>NaN</td>\n",
       "      <td>NaN</td>\n",
       "      <td>NaN</td>\n",
       "      <td>$264,294</td>\n",
       "      <td>80 min</td>\n",
       "      <td>tt3364162</td>\n",
       "      <td>1</td>\n",
       "      <td>Lars y el misterio del portal</td>\n",
       "      <td>PE</td>\n",
       "      <td>...</td>\n",
       "      <td>NaN</td>\n",
       "      <td>tt3364162</td>\n",
       "      <td>1</td>\n",
       "      <td>nm0960495</td>\n",
       "      <td>actor</td>\n",
       "      <td>NaN</td>\n",
       "      <td>[\"Lars\"]</td>\n",
       "      <td>tt3364162</td>\n",
       "      <td>4.8</td>\n",
       "      <td>5.0</td>\n",
       "    </tr>\n",
       "    <tr>\n",
       "      <th>33716</th>\n",
       "      <td>Switzerland</td>\n",
       "      <td>NaN</td>\n",
       "      <td>NaN</td>\n",
       "      <td>NaN</td>\n",
       "      <td>NaN</td>\n",
       "      <td>113 min</td>\n",
       "      <td>tt3368510</td>\n",
       "      <td>1</td>\n",
       "      <td>Dance Off</td>\n",
       "      <td>CH</td>\n",
       "      <td>...</td>\n",
       "      <td>nm4003744,nm10506318</td>\n",
       "      <td>tt3368510</td>\n",
       "      <td>10</td>\n",
       "      <td>nm10506304</td>\n",
       "      <td>cinematographer</td>\n",
       "      <td>NaN</td>\n",
       "      <td>NaN</td>\n",
       "      <td>tt3368510</td>\n",
       "      <td>4.2</td>\n",
       "      <td>21.0</td>\n",
       "    </tr>\n",
       "    <tr>\n",
       "      <th>33717</th>\n",
       "      <td>USA</td>\n",
       "      <td>NaN</td>\n",
       "      <td>NaN</td>\n",
       "      <td>NaN</td>\n",
       "      <td>NaN</td>\n",
       "      <td>101 min</td>\n",
       "      <td>tt3369350</td>\n",
       "      <td>1</td>\n",
       "      <td>Bad Hurt</td>\n",
       "      <td>US</td>\n",
       "      <td>...</td>\n",
       "      <td>nm0447174,nm1169463</td>\n",
       "      <td>tt3369350</td>\n",
       "      <td>10</td>\n",
       "      <td>nm0863374</td>\n",
       "      <td>producer</td>\n",
       "      <td>producer</td>\n",
       "      <td>NaN</td>\n",
       "      <td>tt3369350</td>\n",
       "      <td>6.0</td>\n",
       "      <td>342.0</td>\n",
       "    </tr>\n",
       "    <tr>\n",
       "      <th>33718</th>\n",
       "      <td>USA</td>\n",
       "      <td>NaN</td>\n",
       "      <td>NaN</td>\n",
       "      <td>NaN</td>\n",
       "      <td>NaN</td>\n",
       "      <td>92 min</td>\n",
       "      <td>tt3375416</td>\n",
       "      <td>1</td>\n",
       "      <td>All Things</td>\n",
       "      <td>US</td>\n",
       "      <td>...</td>\n",
       "      <td>nm6124582,nm2145697</td>\n",
       "      <td>tt3375416</td>\n",
       "      <td>1</td>\n",
       "      <td>nm1588136</td>\n",
       "      <td>actor</td>\n",
       "      <td>NaN</td>\n",
       "      <td>[\"Wale\"]</td>\n",
       "      <td>NaN</td>\n",
       "      <td>NaN</td>\n",
       "      <td>NaN</td>\n",
       "    </tr>\n",
       "  </tbody>\n",
       "</table>\n",
       "<p>33719 rows × 32 columns</p>\n",
       "</div>"
      ],
      "text/plain": [
       "           Country        Budget Opening Weekend USA     Gross USA  \\\n",
       "0              USA  $150,000,000       $208,806,270,  $652,270,625   \n",
       "1               UK           NaN                 NaN           NaN   \n",
       "2              USA  $250,000,000        $30,180,188,   $73,078,100   \n",
       "3           France           NaN                 NaN           NaN   \n",
       "4        Australia           NaN                 NaN           NaN   \n",
       "...            ...           ...                 ...           ...   \n",
       "33714       Canada           NaN                 NaN           NaN   \n",
       "33715         Peru           NaN                 NaN           NaN   \n",
       "33716  Switzerland           NaN                 NaN           NaN   \n",
       "33717          USA           NaN                 NaN           NaN   \n",
       "33718          USA           NaN                 NaN           NaN   \n",
       "\n",
       "      Cumulative Worldwide Gross  Runtime    title_id  ordering_x  \\\n",
       "0                 $1,670,401,444  124 min   tt0369610          10   \n",
       "1                            NaN      NaN   tt0381957           1   \n",
       "2                   $284,139,100  132 min   tt0401729          10   \n",
       "3                            NaN   52 min  tt10010134           1   \n",
       "4                            NaN   94 min  tt10027708           1   \n",
       "...                          ...      ...         ...         ...   \n",
       "33714                        NaN      NaN   tt3364042           1   \n",
       "33715                   $264,294   80 min   tt3364162           1   \n",
       "33716                        NaN  113 min   tt3368510           1   \n",
       "33717                        NaN  101 min   tt3369350           1   \n",
       "33718                        NaN   92 min   tt3375416           1   \n",
       "\n",
       "                                                   title region  ...  \\\n",
       "0                                          Джурасик свят     BG  ...   \n",
       "1                                      Cloud Cuckoo Land     GB  ...   \n",
       "2                           Джон Картер: Мiж двох свiтiв     UA  ...   \n",
       "3      Versailles Rediscovered - The Sun King's Vanis...    NaN  ...   \n",
       "4                          Miguelito - Canto a Borinquen    NaN  ...   \n",
       "...                                                  ...    ...  ...   \n",
       "33714                                  Battling Darkness     CA  ...   \n",
       "33715                      Lars y el misterio del portal     PE  ...   \n",
       "33716                                          Dance Off     CH  ...   \n",
       "33717                                           Bad Hurt     US  ...   \n",
       "33718                                         All Things     US  ...   \n",
       "\n",
       "                                                 writers    tconst_x  \\\n",
       "0      nm0415425,nm0798646,nm1119880,nm2081046,nm0000341   tt0369610   \n",
       "1                                    nm1458371,nm1461088   tt0381957   \n",
       "2                nm0004056,nm0028764,nm0149290,nm0123194   tt0401729   \n",
       "3               nm2205937,nm1355962,nm10542772,nm0873469  tt10010134   \n",
       "4                                              nm3495624  tt10027708   \n",
       "...                                                  ...         ...   \n",
       "33714                                          nm6114866   tt3364042   \n",
       "33715                                                NaN   tt3364162   \n",
       "33716                               nm4003744,nm10506318   tt3368510   \n",
       "33717                                nm0447174,nm1169463   tt3369350   \n",
       "33718                                nm6124582,nm2145697   tt3375416   \n",
       "\n",
       "      ordering_y      nconst         category       job   characters  \\\n",
       "0             10   nm0189777         producer  producer          NaN   \n",
       "1             10   nm1108038         composer       NaN          NaN   \n",
       "2             10   nm0606640         producer  producer          NaN   \n",
       "3             10   nm0674930           editor       NaN          NaN   \n",
       "4             10   nm7089722           editor       NaN          NaN   \n",
       "...          ...         ...              ...       ...          ...   \n",
       "33714          1   nm7595790             self       NaN  [\"Himself\"]   \n",
       "33715          1   nm0960495            actor       NaN     [\"Lars\"]   \n",
       "33716         10  nm10506304  cinematographer       NaN          NaN   \n",
       "33717         10   nm0863374         producer  producer          NaN   \n",
       "33718          1   nm1588136            actor       NaN     [\"Wale\"]   \n",
       "\n",
       "         tconst_y  averagerating  numvotes  \n",
       "0       tt0369610            7.0  539338.0  \n",
       "1       tt0381957            7.6      23.0  \n",
       "2       tt0401729            6.6  241792.0  \n",
       "3      tt10010134            7.0       5.0  \n",
       "4             NaN            NaN       NaN  \n",
       "...           ...            ...       ...  \n",
       "33714   tt3364042            8.4       8.0  \n",
       "33715   tt3364162            4.8       5.0  \n",
       "33716   tt3368510            4.2      21.0  \n",
       "33717   tt3369350            6.0     342.0  \n",
       "33718         NaN            NaN       NaN  \n",
       "\n",
       "[33719 rows x 32 columns]"
      ]
     },
     "execution_count": 18,
     "metadata": {},
     "output_type": "execute_result"
    }
   ],
   "source": [
    "df"
   ]
  },
  {
   "cell_type": "code",
   "execution_count": 19,
   "metadata": {},
   "outputs": [],
   "source": [
    "# dropping unnecessary columns\n",
    "df.drop(['ordering_x', 'language', 'attributes', 'original_title', 'Runtime', 'is_original_title', 'tconst_x', 'tconst_y', 'types', 'category', 'job', 'characters', 'ordering_y', 'title'], axis=1, inplace=True)"
   ]
  },
  {
   "cell_type": "code",
   "execution_count": 20,
   "metadata": {},
   "outputs": [
    {
     "name": "stdout",
     "output_type": "stream",
     "text": [
      "<class 'pandas.core.frame.DataFrame'>\n",
      "Int64Index: 33719 entries, 0 to 33718\n",
      "Data columns (total 16 columns):\n",
      "Country                       33681 non-null object\n",
      "Budget                        10333 non-null object\n",
      "Opening Weekend USA           2351 non-null object\n",
      "Gross USA                     2467 non-null object\n",
      "Cumulative Worldwide Gross    6597 non-null object\n",
      "title_id                      33719 non-null object\n",
      "region                        29845 non-null object\n",
      "primary_title                 33719 non-null object\n",
      "start_year                    33719 non-null int64\n",
      "runtime_minutes               29405 non-null float64\n",
      "genres                        33145 non-null object\n",
      "directors                     33265 non-null object\n",
      "writers                       27180 non-null object\n",
      "nconst                        33719 non-null object\n",
      "averagerating                 22573 non-null float64\n",
      "numvotes                      22573 non-null float64\n",
      "dtypes: float64(3), int64(1), object(12)\n",
      "memory usage: 4.4+ MB\n"
     ]
    }
   ],
   "source": [
    "df.info()"
   ]
  },
  {
   "cell_type": "markdown",
   "metadata": {},
   "source": [
    "# Data Cleaning"
   ]
  },
  {
   "cell_type": "code",
   "execution_count": 21,
   "metadata": {},
   "outputs": [],
   "source": [
    "# Dropping Null Values\n",
    "df = df.dropna(subset=['Opening Weekend USA', 'Gross USA', 'Cumulative Worldwide Gross'], how='all')"
   ]
  },
  {
   "cell_type": "code",
   "execution_count": 22,
   "metadata": {},
   "outputs": [
    {
     "name": "stderr",
     "output_type": "stream",
     "text": [
      "/Users/davidbruce/opt/anaconda3/envs/learn-env/lib/python3.6/site-packages/ipykernel_launcher.py:2: SettingWithCopyWarning: \n",
      "A value is trying to be set on a copy of a slice from a DataFrame.\n",
      "Try using .loc[row_indexer,col_indexer] = value instead\n",
      "\n",
      "See the caveats in the documentation: http://pandas.pydata.org/pandas-docs/stable/user_guide/indexing.html#returning-a-view-versus-a-copy\n",
      "  \n"
     ]
    }
   ],
   "source": [
    "# Cumulative Worldwide Gross replace NaN with 0\n",
    "df['Cumulative Worldwide Gross'] = df['Cumulative Worldwide Gross'].fillna(0)"
   ]
  },
  {
   "cell_type": "code",
   "execution_count": 23,
   "metadata": {},
   "outputs": [],
   "source": [
    "# Movies from India contain 'INR' substring and need to be converted to USD or dropped\n",
    "INR = df.loc[df['Cumulative Worldwide Gross'].str.contains('INR') == True]"
   ]
  },
  {
   "cell_type": "code",
   "execution_count": 24,
   "metadata": {},
   "outputs": [],
   "source": [
    "df = df.drop(df.loc[df['Cumulative Worldwide Gross'].str.contains('INR') == True].index)"
   ]
  },
  {
   "cell_type": "code",
   "execution_count": 25,
   "metadata": {},
   "outputs": [],
   "source": [
    "def clean_currency(x):\n",
    "    if isinstance(x, str):\n",
    "        x = x.replace('$', '').replace(',', '')\n",
    "        return x\n",
    "    return(x)\n",
    "\n",
    "# df['Cumulative Worldwide Gross'] = df['Cumulative Worldwide Gross'].str.replace(',', '').str.replace('$', '')"
   ]
  },
  {
   "cell_type": "code",
   "execution_count": 26,
   "metadata": {},
   "outputs": [],
   "source": [
    "df['Cumulative Worldwide Gross'] = df['Cumulative Worldwide Gross'].map(lambda x: clean_currency(x))"
   ]
  },
  {
   "cell_type": "code",
   "execution_count": 27,
   "metadata": {},
   "outputs": [],
   "source": [
    "df['Cumulative Worldwide Gross'] = pd.to_numeric(df['Cumulative Worldwide Gross'])"
   ]
  },
  {
   "cell_type": "code",
   "execution_count": 42,
   "metadata": {},
   "outputs": [
    {
     "data": {
      "text/plain": [
       "0     1670401444\n",
       "2      284139100\n",
       "8     1025467803\n",
       "9        2704326\n",
       "12       1424100\n",
       "Name: Cumulative Worldwide Gross, dtype: int64"
      ]
     },
     "execution_count": 42,
     "metadata": {},
     "output_type": "execute_result"
    }
   ],
   "source": [
    "df['Cumulative Worldwide Gross'][:5]"
   ]
  },
  {
   "cell_type": "code",
   "execution_count": 29,
   "metadata": {},
   "outputs": [],
   "source": [
    "# Gross USA \n",
    "df['Gross USA'] = df['Gross USA'].fillna(0)"
   ]
  },
  {
   "cell_type": "code",
   "execution_count": 30,
   "metadata": {},
   "outputs": [],
   "source": [
    "df['Gross USA'] = df['Gross USA'].map(lambda x: clean_currency(x))"
   ]
  },
  {
   "cell_type": "code",
   "execution_count": 31,
   "metadata": {},
   "outputs": [],
   "source": [
    "df['Gross USA'] = pd.to_numeric(df['Gross USA'])"
   ]
  },
  {
   "cell_type": "code",
   "execution_count": 43,
   "metadata": {},
   "outputs": [
    {
     "data": {
      "text/plain": [
       "0     652270625\n",
       "2      73078100\n",
       "8     334191110\n",
       "9             0\n",
       "12            0\n",
       "Name: Gross USA, dtype: int64"
      ]
     },
     "execution_count": 43,
     "metadata": {},
     "output_type": "execute_result"
    }
   ],
   "source": [
    "df['Gross USA'][:5]"
   ]
  },
  {
   "cell_type": "code",
   "execution_count": 33,
   "metadata": {},
   "outputs": [],
   "source": [
    "# Opening Weekend USA\n",
    "df['Opening Weekend USA'] = df['Opening Weekend USA'].fillna(0)"
   ]
  },
  {
   "cell_type": "code",
   "execution_count": 34,
   "metadata": {},
   "outputs": [],
   "source": [
    "df['Opening Weekend USA'] = df['Opening Weekend USA'].map(lambda x: clean_currency(x))"
   ]
  },
  {
   "cell_type": "code",
   "execution_count": 35,
   "metadata": {},
   "outputs": [],
   "source": [
    "df['Opening Weekend USA'] = pd.to_numeric(df['Opening Weekend USA'])"
   ]
  },
  {
   "cell_type": "code",
   "execution_count": 44,
   "metadata": {},
   "outputs": [
    {
     "data": {
      "text/plain": [
       "0     208806270\n",
       "2      30180188\n",
       "8     116101023\n",
       "9             0\n",
       "12            0\n",
       "Name: Opening Weekend USA, dtype: int64"
      ]
     },
     "execution_count": 44,
     "metadata": {},
     "output_type": "execute_result"
    }
   ],
   "source": [
    "df['Opening Weekend USA'][:5]"
   ]
  },
  {
   "cell_type": "code",
   "execution_count": 37,
   "metadata": {},
   "outputs": [
    {
     "data": {
      "text/plain": [
       "Country                          2\n",
       "Budget                        4141\n",
       "Opening Weekend USA              0\n",
       "Gross USA                        0\n",
       "Cumulative Worldwide Gross       0\n",
       "title_id                         0\n",
       "region                        1090\n",
       "primary_title                    0\n",
       "start_year                       0\n",
       "runtime_minutes                345\n",
       "genres                          32\n",
       "directors                       16\n",
       "writers                        437\n",
       "nconst                           0\n",
       "averagerating                  139\n",
       "numvotes                       139\n",
       "dtype: int64"
      ]
     },
     "execution_count": 37,
     "metadata": {},
     "output_type": "execute_result"
    }
   ],
   "source": [
    "df.isna().sum()"
   ]
  },
  {
   "cell_type": "code",
   "execution_count": 39,
   "metadata": {},
   "outputs": [
    {
     "data": {
      "text/plain": [
       "0        $150,000,000\n",
       "2        $250,000,000\n",
       "8        $200,000,000\n",
       "9                 NaN\n",
       "12                NaN\n",
       "             ...     \n",
       "33698             NaN\n",
       "33704    EUR3,000,000\n",
       "33712         $75,000\n",
       "33713     $40,000,000\n",
       "33715             NaN\n",
       "Name: Budget, Length: 6616, dtype: object"
      ]
     },
     "execution_count": 39,
     "metadata": {},
     "output_type": "execute_result"
    }
   ],
   "source": [
    "df.Budget"
   ]
  },
  {
   "cell_type": "code",
   "execution_count": 40,
   "metadata": {},
   "outputs": [],
   "source": [
    "df['Budget'] = df['Budget'].map(lambda x: clean_currency(x))"
   ]
  },
  {
   "cell_type": "code",
   "execution_count": 41,
   "metadata": {},
   "outputs": [
    {
     "data": {
      "text/plain": [
       "0         150000000\n",
       "2         250000000\n",
       "8         200000000\n",
       "9               NaN\n",
       "12              NaN\n",
       "            ...    \n",
       "33698           NaN\n",
       "33704    EUR3000000\n",
       "33712         75000\n",
       "33713      40000000\n",
       "33715           NaN\n",
       "Name: Budget, Length: 6616, dtype: object"
      ]
     },
     "execution_count": 41,
     "metadata": {},
     "output_type": "execute_result"
    }
   ],
   "source": [
    "df.Budget"
   ]
  },
  {
   "cell_type": "code",
   "execution_count": 50,
   "metadata": {},
   "outputs": [],
   "source": [
    "def find_currencies(x):\n",
    "    currencies = []\n",
    "    if x[:3].str.isalpha():\n",
    "        currencies.append(x[:3])\n",
    "    return currencies"
   ]
  },
  {
   "cell_type": "code",
   "execution_count": 51,
   "metadata": {},
   "outputs": [
    {
     "ename": "ValueError",
     "evalue": "The truth value of a Series is ambiguous. Use a.empty, a.bool(), a.item(), a.any() or a.all().",
     "output_type": "error",
     "traceback": [
      "\u001b[0;31m---------------------------------------------------------------------------\u001b[0m",
      "\u001b[0;31mValueError\u001b[0m                                Traceback (most recent call last)",
      "\u001b[0;32m<ipython-input-51-72b85e60510e>\u001b[0m in \u001b[0;36m<module>\u001b[0;34m()\u001b[0m\n\u001b[0;32m----> 1\u001b[0;31m \u001b[0mfind_currencies\u001b[0m\u001b[0;34m(\u001b[0m\u001b[0mdf\u001b[0m\u001b[0;34m[\u001b[0m\u001b[0;34m'Budget'\u001b[0m\u001b[0;34m]\u001b[0m\u001b[0;34m)\u001b[0m\u001b[0;34m\u001b[0m\u001b[0;34m\u001b[0m\u001b[0m\n\u001b[0m",
      "\u001b[0;32m<ipython-input-50-569ad0df868c>\u001b[0m in \u001b[0;36mfind_currencies\u001b[0;34m(x)\u001b[0m\n\u001b[1;32m      1\u001b[0m \u001b[0;32mdef\u001b[0m \u001b[0mfind_currencies\u001b[0m\u001b[0;34m(\u001b[0m\u001b[0mx\u001b[0m\u001b[0;34m)\u001b[0m\u001b[0;34m:\u001b[0m\u001b[0;34m\u001b[0m\u001b[0;34m\u001b[0m\u001b[0m\n\u001b[1;32m      2\u001b[0m     \u001b[0mcurrencies\u001b[0m \u001b[0;34m=\u001b[0m \u001b[0;34m[\u001b[0m\u001b[0;34m]\u001b[0m\u001b[0;34m\u001b[0m\u001b[0;34m\u001b[0m\u001b[0m\n\u001b[0;32m----> 3\u001b[0;31m     \u001b[0;32mif\u001b[0m \u001b[0mx\u001b[0m\u001b[0;34m[\u001b[0m\u001b[0;34m:\u001b[0m\u001b[0;36m3\u001b[0m\u001b[0;34m]\u001b[0m\u001b[0;34m.\u001b[0m\u001b[0mstr\u001b[0m\u001b[0;34m.\u001b[0m\u001b[0misalpha\u001b[0m\u001b[0;34m(\u001b[0m\u001b[0;34m)\u001b[0m\u001b[0;34m:\u001b[0m\u001b[0;34m\u001b[0m\u001b[0;34m\u001b[0m\u001b[0m\n\u001b[0m\u001b[1;32m      4\u001b[0m         \u001b[0mcurrencies\u001b[0m\u001b[0;34m.\u001b[0m\u001b[0mappend\u001b[0m\u001b[0;34m(\u001b[0m\u001b[0mx\u001b[0m\u001b[0;34m[\u001b[0m\u001b[0;34m:\u001b[0m\u001b[0;36m3\u001b[0m\u001b[0;34m]\u001b[0m\u001b[0;34m)\u001b[0m\u001b[0;34m\u001b[0m\u001b[0;34m\u001b[0m\u001b[0m\n\u001b[1;32m      5\u001b[0m     \u001b[0;32mreturn\u001b[0m \u001b[0mcurrencies\u001b[0m\u001b[0;34m\u001b[0m\u001b[0;34m\u001b[0m\u001b[0m\n",
      "\u001b[0;32m/Users/davidbruce/opt/anaconda3/envs/learn-env/lib/python3.6/site-packages/pandas/core/generic.py\u001b[0m in \u001b[0;36m__nonzero__\u001b[0;34m(self)\u001b[0m\n\u001b[1;32m   1553\u001b[0m             \u001b[0;34m\"The truth value of a {0} is ambiguous. \"\u001b[0m\u001b[0;34m\u001b[0m\u001b[0;34m\u001b[0m\u001b[0m\n\u001b[1;32m   1554\u001b[0m             \"Use a.empty, a.bool(), a.item(), a.any() or a.all().\".format(\n\u001b[0;32m-> 1555\u001b[0;31m                 \u001b[0mself\u001b[0m\u001b[0;34m.\u001b[0m\u001b[0m__class__\u001b[0m\u001b[0;34m.\u001b[0m\u001b[0m__name__\u001b[0m\u001b[0;34m\u001b[0m\u001b[0;34m\u001b[0m\u001b[0m\n\u001b[0m\u001b[1;32m   1556\u001b[0m             )\n\u001b[1;32m   1557\u001b[0m         )\n",
      "\u001b[0;31mValueError\u001b[0m: The truth value of a Series is ambiguous. Use a.empty, a.bool(), a.item(), a.any() or a.all()."
     ]
    }
   ],
   "source": [
    "find_currencies(df['Budget'])"
   ]
  },
  {
   "cell_type": "code",
   "execution_count": null,
   "metadata": {},
   "outputs": [],
   "source": [
    "def conversion_rates(x):\n",
    "    pass"
   ]
  },
  {
   "cell_type": "code",
   "execution_count": null,
   "metadata": {},
   "outputs": [],
   "source": []
  }
 ],
 "metadata": {
  "kernelspec": {
   "display_name": "learn-env",
   "language": "python",
   "name": "learn-env"
  },
  "language_info": {
   "codemirror_mode": {
    "name": "ipython",
    "version": 3
   },
   "file_extension": ".py",
   "mimetype": "text/x-python",
   "name": "python",
   "nbconvert_exporter": "python",
   "pygments_lexer": "ipython3",
   "version": "3.6.9"
  }
 },
 "nbformat": 4,
 "nbformat_minor": 4
}
