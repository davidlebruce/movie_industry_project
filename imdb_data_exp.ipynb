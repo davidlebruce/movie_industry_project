{
 "cells": [
  {
   "cell_type": "code",
   "execution_count": 1,
   "metadata": {},
   "outputs": [],
   "source": [
    "import pandas as pd\n",
    "import numpy as np"
   ]
  },
  {
   "cell_type": "code",
   "execution_count": 2,
   "metadata": {},
   "outputs": [],
   "source": [
    "imdb1 = pd.read_csv(\"zippedData/imdb.name.basics.csv.gz\")\n",
    "imdb2 = pd.read_csv(\"zippedData/imdb.title.akas.csv.gz\")\n",
    "imdb3 = pd.read_csv(\"zippedData/imdb.title.basics.csv.gz\")\n",
    "imdb4 = pd.read_csv(\"zippedData/imdb.title.crew.csv.gz\")\n",
    "imdb5 = pd.read_csv(\"zippedData/imdb.title.principals.csv.gz\")\n",
    "imdb6 = pd.read_csv(\"zippedData/imdb.title.ratings.csv.gz\")"
   ]
  },
  {
   "cell_type": "markdown",
   "metadata": {},
   "source": [
    "# IMDB Web Scraped Data"
   ]
  },
  {
   "cell_type": "code",
   "execution_count": 3,
   "metadata": {},
   "outputs": [],
   "source": [
    "# cleaning primary keys in imdb dfs\n",
    "imdb2['title_id'] = imdb2['title_id'].str.strip()\n",
    "imdb3['tconst'] = imdb3['tconst'].str.strip()\n",
    "imdb4['tconst'] = imdb4['tconst'].str.strip()\n",
    "imdb5['tconst'] = imdb5['tconst'].str.strip()\n",
    "imdb6['tconst'] = imdb6['tconst'].str.strip()"
   ]
  },
  {
   "cell_type": "code",
   "execution_count": 4,
   "metadata": {},
   "outputs": [],
   "source": [
    "# dropping duplicates\n",
    "imdb2.drop_duplicates(subset=['title_id'], inplace=True)\n",
    "imdb3.drop_duplicates(subset=['tconst'], inplace=True)\n",
    "imdb4.drop_duplicates(subset=['tconst'], inplace=True)\n",
    "imdb5.drop_duplicates(subset=['tconst'], inplace=True)\n",
    "imdb6.drop_duplicates(subset=['tconst'], inplace=True)"
   ]
  },
  {
   "cell_type": "code",
   "execution_count": 5,
   "metadata": {},
   "outputs": [],
   "source": [
    "# importing web scrapes\n",
    "web_scrape1 = pd.read_csv('imdb_monetary_data_16590.csv')\n",
    "web_scrape1.set_index(['title_id'], inplace=True)"
   ]
  },
  {
   "cell_type": "code",
   "execution_count": 6,
   "metadata": {},
   "outputs": [],
   "source": [
    "web_scrape2 = pd.read_csv('imdb_monetary_data_16591_to_25214_.csv')\n",
    "web_scrape2.set_index(['title_id'], inplace=True)"
   ]
  },
  {
   "cell_type": "code",
   "execution_count": 7,
   "metadata": {},
   "outputs": [],
   "source": [
    "web_scrape3 = pd.read_csv('imdb_monetary_data_29214_.csv')\n",
    "web_scrape3.set_index(['title_id'], inplace=True)"
   ]
  },
  {
   "cell_type": "code",
   "execution_count": 8,
   "metadata": {},
   "outputs": [],
   "source": [
    "web_scrape4 = pd.read_csv('imdb_monetary_data_33736_.csv')\n",
    "web_scrape4.set_index(['title_id'], inplace=True)"
   ]
  },
  {
   "cell_type": "code",
   "execution_count": 9,
   "metadata": {},
   "outputs": [],
   "source": [
    "web_scrape5 = pd.read_csv('imdb_monetary_data_49857_.csv')\n",
    "web_scrape5.set_index(['title_id'], inplace=True)"
   ]
  },
  {
   "cell_type": "code",
   "execution_count": 10,
   "metadata": {},
   "outputs": [],
   "source": [
    "web_scrape6 = pd.read_csv('imdb_monetary_data_65930_.csv')\n",
    "web_scrape6.set_index(['title_id'], inplace=True)"
   ]
  },
  {
   "cell_type": "code",
   "execution_count": 11,
   "metadata": {},
   "outputs": [],
   "source": [
    "web_scrape7 = pd.read_csv('imdb_monetary_data_67456_.csv')\n",
    "web_scrape7.set_index(['title_id'], inplace=True)"
   ]
  },
  {
   "cell_type": "code",
   "execution_count": 12,
   "metadata": {},
   "outputs": [],
   "source": [
    "web_scrape8 = pd.read_csv('imdb_monetary_data_77436_.csv')\n",
    "web_scrape8.set_index(['title_id'], inplace=True)"
   ]
  },
  {
   "cell_type": "code",
   "execution_count": 13,
   "metadata": {},
   "outputs": [],
   "source": [
    "web_scrape9 = pd.read_csv('imdb_monetary_data_102849_.csv')\n",
    "web_scrape9.set_index(['title_id'], inplace=True)"
   ]
  },
  {
   "cell_type": "code",
   "execution_count": 14,
   "metadata": {},
   "outputs": [],
   "source": [
    "# concatenating webscraped data\n",
    "web_scrape = pd.concat([web_scrape1, web_scrape2, web_scrape3, web_scrape4, web_scrape5, web_scrape6, web_scrape7, web_scrape8, web_scrape9])"
   ]
  },
  {
   "cell_type": "code",
   "execution_count": 15,
   "metadata": {},
   "outputs": [
    {
     "data": {
      "text/html": [
       "<div>\n",
       "<style scoped>\n",
       "    .dataframe tbody tr th:only-of-type {\n",
       "        vertical-align: middle;\n",
       "    }\n",
       "\n",
       "    .dataframe tbody tr th {\n",
       "        vertical-align: top;\n",
       "    }\n",
       "\n",
       "    .dataframe thead th {\n",
       "        text-align: right;\n",
       "    }\n",
       "</style>\n",
       "<table border=\"1\" class=\"dataframe\">\n",
       "  <thead>\n",
       "    <tr style=\"text-align: right;\">\n",
       "      <th></th>\n",
       "      <th>Country</th>\n",
       "      <th>Budget</th>\n",
       "      <th>Opening Weekend USA</th>\n",
       "      <th>Gross USA</th>\n",
       "      <th>Cumulative Worldwide Gross</th>\n",
       "      <th>Runtime</th>\n",
       "    </tr>\n",
       "    <tr>\n",
       "      <th>title_id</th>\n",
       "      <th></th>\n",
       "      <th></th>\n",
       "      <th></th>\n",
       "      <th></th>\n",
       "      <th></th>\n",
       "      <th></th>\n",
       "    </tr>\n",
       "  </thead>\n",
       "  <tbody>\n",
       "    <tr>\n",
       "      <th>tt0369610</th>\n",
       "      <td>USA</td>\n",
       "      <td>$150,000,000</td>\n",
       "      <td>$208,806,270,</td>\n",
       "      <td>$652,270,625</td>\n",
       "      <td>$1,670,401,444</td>\n",
       "      <td>124 min</td>\n",
       "    </tr>\n",
       "    <tr>\n",
       "      <th>tt0381957</th>\n",
       "      <td>UK</td>\n",
       "      <td>NaN</td>\n",
       "      <td>NaN</td>\n",
       "      <td>NaN</td>\n",
       "      <td>NaN</td>\n",
       "      <td>NaN</td>\n",
       "    </tr>\n",
       "    <tr>\n",
       "      <th>tt0401729</th>\n",
       "      <td>USA</td>\n",
       "      <td>$250,000,000</td>\n",
       "      <td>$30,180,188,</td>\n",
       "      <td>$73,078,100</td>\n",
       "      <td>$284,139,100</td>\n",
       "      <td>132 min</td>\n",
       "    </tr>\n",
       "    <tr>\n",
       "      <th>tt10010134</th>\n",
       "      <td>France</td>\n",
       "      <td>NaN</td>\n",
       "      <td>NaN</td>\n",
       "      <td>NaN</td>\n",
       "      <td>NaN</td>\n",
       "      <td>52 min</td>\n",
       "    </tr>\n",
       "    <tr>\n",
       "      <th>tt10027708</th>\n",
       "      <td>Australia</td>\n",
       "      <td>NaN</td>\n",
       "      <td>NaN</td>\n",
       "      <td>NaN</td>\n",
       "      <td>NaN</td>\n",
       "      <td>94 min</td>\n",
       "    </tr>\n",
       "    <tr>\n",
       "      <th>...</th>\n",
       "      <td>...</td>\n",
       "      <td>...</td>\n",
       "      <td>...</td>\n",
       "      <td>...</td>\n",
       "      <td>...</td>\n",
       "      <td>...</td>\n",
       "    </tr>\n",
       "    <tr>\n",
       "      <th>tt7896164</th>\n",
       "      <td>Italy</td>\n",
       "      <td>NaN</td>\n",
       "      <td>NaN</td>\n",
       "      <td>NaN</td>\n",
       "      <td>NaN</td>\n",
       "      <td>105 min</td>\n",
       "    </tr>\n",
       "    <tr>\n",
       "      <th>tt7897718</th>\n",
       "      <td>Vietnam</td>\n",
       "      <td>VND100,000,000</td>\n",
       "      <td>NaN</td>\n",
       "      <td>NaN</td>\n",
       "      <td>NaN</td>\n",
       "      <td>51 min</td>\n",
       "    </tr>\n",
       "    <tr>\n",
       "      <th>tt7908092</th>\n",
       "      <td>Philippines</td>\n",
       "      <td>NaN</td>\n",
       "      <td>NaN</td>\n",
       "      <td>NaN</td>\n",
       "      <td>$42,211</td>\n",
       "      <td>104 min</td>\n",
       "    </tr>\n",
       "    <tr>\n",
       "      <th>tt7914282</th>\n",
       "      <td>Canada</td>\n",
       "      <td>CAD180,000</td>\n",
       "      <td>NaN</td>\n",
       "      <td>NaN</td>\n",
       "      <td>NaN</td>\n",
       "      <td>78 min</td>\n",
       "    </tr>\n",
       "    <tr>\n",
       "      <th>tt7918024</th>\n",
       "      <td>Germany</td>\n",
       "      <td>NaN</td>\n",
       "      <td>NaN</td>\n",
       "      <td>NaN</td>\n",
       "      <td>NaN</td>\n",
       "      <td>NaN</td>\n",
       "    </tr>\n",
       "  </tbody>\n",
       "</table>\n",
       "<p>102914 rows × 6 columns</p>\n",
       "</div>"
      ],
      "text/plain": [
       "                Country          Budget Opening Weekend USA     Gross USA  \\\n",
       "title_id                                                                    \n",
       "tt0369610           USA    $150,000,000       $208,806,270,  $652,270,625   \n",
       "tt0381957            UK             NaN                 NaN           NaN   \n",
       "tt0401729           USA    $250,000,000        $30,180,188,   $73,078,100   \n",
       "tt10010134       France             NaN                 NaN           NaN   \n",
       "tt10027708    Australia             NaN                 NaN           NaN   \n",
       "...                 ...             ...                 ...           ...   \n",
       "tt7896164         Italy             NaN                 NaN           NaN   \n",
       "tt7897718       Vietnam  VND100,000,000                 NaN           NaN   \n",
       "tt7908092   Philippines             NaN                 NaN           NaN   \n",
       "tt7914282        Canada      CAD180,000                 NaN           NaN   \n",
       "tt7918024       Germany             NaN                 NaN           NaN   \n",
       "\n",
       "           Cumulative Worldwide Gross  Runtime  \n",
       "title_id                                        \n",
       "tt0369610              $1,670,401,444  124 min  \n",
       "tt0381957                         NaN      NaN  \n",
       "tt0401729                $284,139,100  132 min  \n",
       "tt10010134                        NaN   52 min  \n",
       "tt10027708                        NaN   94 min  \n",
       "...                               ...      ...  \n",
       "tt7896164                         NaN  105 min  \n",
       "tt7897718                         NaN   51 min  \n",
       "tt7908092                     $42,211  104 min  \n",
       "tt7914282                         NaN   78 min  \n",
       "tt7918024                         NaN      NaN  \n",
       "\n",
       "[102914 rows x 6 columns]"
      ]
     },
     "execution_count": 15,
     "metadata": {},
     "output_type": "execute_result"
    }
   ],
   "source": [
    "# dropping unnamed column\n",
    "web_scrape.drop(['Unnamed: 0'], axis=1, inplace=True)\n",
    "web_scrape"
   ]
  },
  {
   "cell_type": "code",
   "execution_count": 16,
   "metadata": {},
   "outputs": [],
   "source": [
    "# cleaning title_id (index)\n",
    "web_scrape.index = web_scrape.index.str.strip()"
   ]
  },
  {
   "cell_type": "code",
   "execution_count": 17,
   "metadata": {},
   "outputs": [],
   "source": [
    "# merging imdb2\n",
    "df = web_scrape.merge(imdb2, left_on=web_scrape.index, right_on=['title_id'])"
   ]
  },
  {
   "cell_type": "code",
   "execution_count": 18,
   "metadata": {},
   "outputs": [],
   "source": [
    "df = df.merge(imdb3, left_on=['title_id'], right_on=['tconst'])"
   ]
  },
  {
   "cell_type": "code",
   "execution_count": 19,
   "metadata": {},
   "outputs": [],
   "source": [
    "df = df.merge(imdb4, left_on=['title_id'], right_on=['tconst'])"
   ]
  },
  {
   "cell_type": "code",
   "execution_count": 20,
   "metadata": {},
   "outputs": [],
   "source": [
    "df = df.merge(imdb5, left_on=['title_id'], right_on=['tconst'])"
   ]
  },
  {
   "cell_type": "code",
   "execution_count": 21,
   "metadata": {},
   "outputs": [],
   "source": [
    "df = df.merge(imdb6, how='left', left_on=['title_id'], right_on=['tconst'])"
   ]
  },
  {
   "cell_type": "markdown",
   "metadata": {},
   "source": [
    "### Concatenating Director Tables"
   ]
  },
  {
   "cell_type": "code",
   "execution_count": 22,
   "metadata": {},
   "outputs": [],
   "source": [
    "directors1 = pd.read_csv('scraped_names/imdb_name_list_202_.csv')"
   ]
  },
  {
   "cell_type": "code",
   "execution_count": 23,
   "metadata": {},
   "outputs": [],
   "source": [
    "directors2 = pd.read_csv('scraped_names/imdb_name_list_304_.csv')"
   ]
  },
  {
   "cell_type": "code",
   "execution_count": 24,
   "metadata": {},
   "outputs": [],
   "source": [
    "directors3 = pd.read_csv('scraped_names/imdb_name_list_3016_.csv')"
   ]
  },
  {
   "cell_type": "code",
   "execution_count": 25,
   "metadata": {},
   "outputs": [],
   "source": [
    "directors4 = pd.read_csv('scraped_names/imdb_name_list_7799_.csv')"
   ]
  },
  {
   "cell_type": "code",
   "execution_count": 26,
   "metadata": {},
   "outputs": [],
   "source": [
    "directors_names = pd.concat([directors1, directors2, directors3, directors4])"
   ]
  },
  {
   "cell_type": "code",
   "execution_count": 27,
   "metadata": {},
   "outputs": [],
   "source": [
    "df = df.merge(directors_names, left_on=['directors'], right_on=['name_id'], how='left')"
   ]
  },
  {
   "cell_type": "code",
   "execution_count": 28,
   "metadata": {},
   "outputs": [
    {
     "data": {
      "text/html": [
       "<div>\n",
       "<style scoped>\n",
       "    .dataframe tbody tr th:only-of-type {\n",
       "        vertical-align: middle;\n",
       "    }\n",
       "\n",
       "    .dataframe tbody tr th {\n",
       "        vertical-align: top;\n",
       "    }\n",
       "\n",
       "    .dataframe thead th {\n",
       "        text-align: right;\n",
       "    }\n",
       "</style>\n",
       "<table border=\"1\" class=\"dataframe\">\n",
       "  <thead>\n",
       "    <tr style=\"text-align: right;\">\n",
       "      <th></th>\n",
       "      <th>Country</th>\n",
       "      <th>Budget</th>\n",
       "      <th>Opening Weekend USA</th>\n",
       "      <th>Gross USA</th>\n",
       "      <th>Cumulative Worldwide Gross</th>\n",
       "      <th>Runtime</th>\n",
       "      <th>title_id</th>\n",
       "      <th>ordering_x</th>\n",
       "      <th>title</th>\n",
       "      <th>region</th>\n",
       "      <th>...</th>\n",
       "      <th>nconst</th>\n",
       "      <th>category</th>\n",
       "      <th>job</th>\n",
       "      <th>characters</th>\n",
       "      <th>tconst_y</th>\n",
       "      <th>averagerating</th>\n",
       "      <th>numvotes</th>\n",
       "      <th>Unnamed: 0</th>\n",
       "      <th>name_id</th>\n",
       "      <th>name</th>\n",
       "    </tr>\n",
       "  </thead>\n",
       "  <tbody>\n",
       "    <tr>\n",
       "      <th>0</th>\n",
       "      <td>USA</td>\n",
       "      <td>$150,000,000</td>\n",
       "      <td>$208,806,270,</td>\n",
       "      <td>$652,270,625</td>\n",
       "      <td>$1,670,401,444</td>\n",
       "      <td>124 min</td>\n",
       "      <td>tt0369610</td>\n",
       "      <td>10</td>\n",
       "      <td>Джурасик свят</td>\n",
       "      <td>BG</td>\n",
       "      <td>...</td>\n",
       "      <td>nm0189777</td>\n",
       "      <td>producer</td>\n",
       "      <td>producer</td>\n",
       "      <td>NaN</td>\n",
       "      <td>tt0369610</td>\n",
       "      <td>7.0</td>\n",
       "      <td>539338.0</td>\n",
       "      <td>0.0</td>\n",
       "      <td>nm1119880</td>\n",
       "      <td>Colin Trevorrow</td>\n",
       "    </tr>\n",
       "    <tr>\n",
       "      <th>1</th>\n",
       "      <td>USA</td>\n",
       "      <td>$150,000,000</td>\n",
       "      <td>$208,806,270,</td>\n",
       "      <td>$652,270,625</td>\n",
       "      <td>$1,670,401,444</td>\n",
       "      <td>124 min</td>\n",
       "      <td>tt0369610</td>\n",
       "      <td>10</td>\n",
       "      <td>Джурасик свят</td>\n",
       "      <td>BG</td>\n",
       "      <td>...</td>\n",
       "      <td>nm0189777</td>\n",
       "      <td>producer</td>\n",
       "      <td>producer</td>\n",
       "      <td>NaN</td>\n",
       "      <td>tt0369610</td>\n",
       "      <td>7.0</td>\n",
       "      <td>539338.0</td>\n",
       "      <td>27.0</td>\n",
       "      <td>nm1119880</td>\n",
       "      <td>Colin Trevorrow</td>\n",
       "    </tr>\n",
       "    <tr>\n",
       "      <th>2</th>\n",
       "      <td>UK</td>\n",
       "      <td>NaN</td>\n",
       "      <td>NaN</td>\n",
       "      <td>NaN</td>\n",
       "      <td>NaN</td>\n",
       "      <td>NaN</td>\n",
       "      <td>tt0381957</td>\n",
       "      <td>1</td>\n",
       "      <td>Cloud Cuckoo Land</td>\n",
       "      <td>GB</td>\n",
       "      <td>...</td>\n",
       "      <td>nm1108038</td>\n",
       "      <td>composer</td>\n",
       "      <td>NaN</td>\n",
       "      <td>NaN</td>\n",
       "      <td>tt0381957</td>\n",
       "      <td>7.6</td>\n",
       "      <td>23.0</td>\n",
       "      <td>NaN</td>\n",
       "      <td>NaN</td>\n",
       "      <td>NaN</td>\n",
       "    </tr>\n",
       "    <tr>\n",
       "      <th>3</th>\n",
       "      <td>USA</td>\n",
       "      <td>$250,000,000</td>\n",
       "      <td>$30,180,188,</td>\n",
       "      <td>$73,078,100</td>\n",
       "      <td>$284,139,100</td>\n",
       "      <td>132 min</td>\n",
       "      <td>tt0401729</td>\n",
       "      <td>10</td>\n",
       "      <td>Джон Картер: Мiж двох свiтiв</td>\n",
       "      <td>UA</td>\n",
       "      <td>...</td>\n",
       "      <td>nm0606640</td>\n",
       "      <td>producer</td>\n",
       "      <td>producer</td>\n",
       "      <td>NaN</td>\n",
       "      <td>tt0401729</td>\n",
       "      <td>6.6</td>\n",
       "      <td>241792.0</td>\n",
       "      <td>1.0</td>\n",
       "      <td>nm0004056</td>\n",
       "      <td>Andrew Stanton</td>\n",
       "    </tr>\n",
       "    <tr>\n",
       "      <th>4</th>\n",
       "      <td>USA</td>\n",
       "      <td>$250,000,000</td>\n",
       "      <td>$30,180,188,</td>\n",
       "      <td>$73,078,100</td>\n",
       "      <td>$284,139,100</td>\n",
       "      <td>132 min</td>\n",
       "      <td>tt0401729</td>\n",
       "      <td>10</td>\n",
       "      <td>Джон Картер: Мiж двох свiтiв</td>\n",
       "      <td>UA</td>\n",
       "      <td>...</td>\n",
       "      <td>nm0606640</td>\n",
       "      <td>producer</td>\n",
       "      <td>producer</td>\n",
       "      <td>NaN</td>\n",
       "      <td>tt0401729</td>\n",
       "      <td>6.6</td>\n",
       "      <td>241792.0</td>\n",
       "      <td>4298.0</td>\n",
       "      <td>nm0004056</td>\n",
       "      <td>Andrew Stanton</td>\n",
       "    </tr>\n",
       "    <tr>\n",
       "      <th>...</th>\n",
       "      <td>...</td>\n",
       "      <td>...</td>\n",
       "      <td>...</td>\n",
       "      <td>...</td>\n",
       "      <td>...</td>\n",
       "      <td>...</td>\n",
       "      <td>...</td>\n",
       "      <td>...</td>\n",
       "      <td>...</td>\n",
       "      <td>...</td>\n",
       "      <td>...</td>\n",
       "      <td>...</td>\n",
       "      <td>...</td>\n",
       "      <td>...</td>\n",
       "      <td>...</td>\n",
       "      <td>...</td>\n",
       "      <td>...</td>\n",
       "      <td>...</td>\n",
       "      <td>...</td>\n",
       "      <td>...</td>\n",
       "      <td>...</td>\n",
       "    </tr>\n",
       "    <tr>\n",
       "      <th>109075</th>\n",
       "      <td>Vietnam</td>\n",
       "      <td>VND100,000,000</td>\n",
       "      <td>NaN</td>\n",
       "      <td>NaN</td>\n",
       "      <td>NaN</td>\n",
       "      <td>51 min</td>\n",
       "      <td>tt7897718</td>\n",
       "      <td>1</td>\n",
       "      <td>Nham Va Chi Nham: Ranh Gioi Cua Vung Bong Toi</td>\n",
       "      <td>VN</td>\n",
       "      <td>...</td>\n",
       "      <td>nm2532455</td>\n",
       "      <td>actor</td>\n",
       "      <td>NaN</td>\n",
       "      <td>[\"'Buffalo' Kid\"]</td>\n",
       "      <td>NaN</td>\n",
       "      <td>NaN</td>\n",
       "      <td>NaN</td>\n",
       "      <td>NaN</td>\n",
       "      <td>NaN</td>\n",
       "      <td>NaN</td>\n",
       "    </tr>\n",
       "    <tr>\n",
       "      <th>109076</th>\n",
       "      <td>Philippines</td>\n",
       "      <td>NaN</td>\n",
       "      <td>NaN</td>\n",
       "      <td>NaN</td>\n",
       "      <td>$42,211</td>\n",
       "      <td>104 min</td>\n",
       "      <td>tt7908092</td>\n",
       "      <td>1</td>\n",
       "      <td>Ang dalawang Mrs. Reyes</td>\n",
       "      <td>NaN</td>\n",
       "      <td>...</td>\n",
       "      <td>nm3001264</td>\n",
       "      <td>cinematographer</td>\n",
       "      <td>NaN</td>\n",
       "      <td>NaN</td>\n",
       "      <td>tt7908092</td>\n",
       "      <td>6.9</td>\n",
       "      <td>83.0</td>\n",
       "      <td>137.0</td>\n",
       "      <td>nm0484073</td>\n",
       "      <td>Jun Lana</td>\n",
       "    </tr>\n",
       "    <tr>\n",
       "      <th>109077</th>\n",
       "      <td>Philippines</td>\n",
       "      <td>NaN</td>\n",
       "      <td>NaN</td>\n",
       "      <td>NaN</td>\n",
       "      <td>$42,211</td>\n",
       "      <td>104 min</td>\n",
       "      <td>tt7908092</td>\n",
       "      <td>1</td>\n",
       "      <td>Ang dalawang Mrs. Reyes</td>\n",
       "      <td>NaN</td>\n",
       "      <td>...</td>\n",
       "      <td>nm3001264</td>\n",
       "      <td>cinematographer</td>\n",
       "      <td>NaN</td>\n",
       "      <td>NaN</td>\n",
       "      <td>tt7908092</td>\n",
       "      <td>6.9</td>\n",
       "      <td>83.0</td>\n",
       "      <td>3853.0</td>\n",
       "      <td>nm0484073</td>\n",
       "      <td>Jun Lana</td>\n",
       "    </tr>\n",
       "    <tr>\n",
       "      <th>109078</th>\n",
       "      <td>Canada</td>\n",
       "      <td>CAD180,000</td>\n",
       "      <td>NaN</td>\n",
       "      <td>NaN</td>\n",
       "      <td>NaN</td>\n",
       "      <td>78 min</td>\n",
       "      <td>tt7914282</td>\n",
       "      <td>1</td>\n",
       "      <td>Sashinka</td>\n",
       "      <td>NaN</td>\n",
       "      <td>...</td>\n",
       "      <td>nm3993666</td>\n",
       "      <td>editor</td>\n",
       "      <td>NaN</td>\n",
       "      <td>NaN</td>\n",
       "      <td>tt7914282</td>\n",
       "      <td>6.5</td>\n",
       "      <td>46.0</td>\n",
       "      <td>NaN</td>\n",
       "      <td>NaN</td>\n",
       "      <td>NaN</td>\n",
       "    </tr>\n",
       "    <tr>\n",
       "      <th>109079</th>\n",
       "      <td>Germany</td>\n",
       "      <td>NaN</td>\n",
       "      <td>NaN</td>\n",
       "      <td>NaN</td>\n",
       "      <td>NaN</td>\n",
       "      <td>NaN</td>\n",
       "      <td>tt7918024</td>\n",
       "      <td>1</td>\n",
       "      <td>Dieu est-il cruel? Une approche religieuse et ...</td>\n",
       "      <td>FR</td>\n",
       "      <td>...</td>\n",
       "      <td>nm5153854</td>\n",
       "      <td>self</td>\n",
       "      <td>NaN</td>\n",
       "      <td>[\"Herself\"]</td>\n",
       "      <td>NaN</td>\n",
       "      <td>NaN</td>\n",
       "      <td>NaN</td>\n",
       "      <td>NaN</td>\n",
       "      <td>NaN</td>\n",
       "      <td>NaN</td>\n",
       "    </tr>\n",
       "  </tbody>\n",
       "</table>\n",
       "<p>109080 rows × 35 columns</p>\n",
       "</div>"
      ],
      "text/plain": [
       "            Country          Budget Opening Weekend USA     Gross USA  \\\n",
       "0               USA    $150,000,000       $208,806,270,  $652,270,625   \n",
       "1               USA    $150,000,000       $208,806,270,  $652,270,625   \n",
       "2                UK             NaN                 NaN           NaN   \n",
       "3               USA    $250,000,000        $30,180,188,   $73,078,100   \n",
       "4               USA    $250,000,000        $30,180,188,   $73,078,100   \n",
       "...             ...             ...                 ...           ...   \n",
       "109075      Vietnam  VND100,000,000                 NaN           NaN   \n",
       "109076  Philippines             NaN                 NaN           NaN   \n",
       "109077  Philippines             NaN                 NaN           NaN   \n",
       "109078       Canada      CAD180,000                 NaN           NaN   \n",
       "109079      Germany             NaN                 NaN           NaN   \n",
       "\n",
       "       Cumulative Worldwide Gross  Runtime   title_id  ordering_x  \\\n",
       "0                  $1,670,401,444  124 min  tt0369610          10   \n",
       "1                  $1,670,401,444  124 min  tt0369610          10   \n",
       "2                             NaN      NaN  tt0381957           1   \n",
       "3                    $284,139,100  132 min  tt0401729          10   \n",
       "4                    $284,139,100  132 min  tt0401729          10   \n",
       "...                           ...      ...        ...         ...   \n",
       "109075                        NaN   51 min  tt7897718           1   \n",
       "109076                    $42,211  104 min  tt7908092           1   \n",
       "109077                    $42,211  104 min  tt7908092           1   \n",
       "109078                        NaN   78 min  tt7914282           1   \n",
       "109079                        NaN      NaN  tt7918024           1   \n",
       "\n",
       "                                                    title region  ...  \\\n",
       "0                                           Джурасик свят     BG  ...   \n",
       "1                                           Джурасик свят     BG  ...   \n",
       "2                                       Cloud Cuckoo Land     GB  ...   \n",
       "3                            Джон Картер: Мiж двох свiтiв     UA  ...   \n",
       "4                            Джон Картер: Мiж двох свiтiв     UA  ...   \n",
       "...                                                   ...    ...  ...   \n",
       "109075      Nham Va Chi Nham: Ranh Gioi Cua Vung Bong Toi     VN  ...   \n",
       "109076                            Ang dalawang Mrs. Reyes    NaN  ...   \n",
       "109077                            Ang dalawang Mrs. Reyes    NaN  ...   \n",
       "109078                                           Sashinka    NaN  ...   \n",
       "109079  Dieu est-il cruel? Une approche religieuse et ...     FR  ...   \n",
       "\n",
       "           nconst         category       job         characters   tconst_y  \\\n",
       "0       nm0189777         producer  producer                NaN  tt0369610   \n",
       "1       nm0189777         producer  producer                NaN  tt0369610   \n",
       "2       nm1108038         composer       NaN                NaN  tt0381957   \n",
       "3       nm0606640         producer  producer                NaN  tt0401729   \n",
       "4       nm0606640         producer  producer                NaN  tt0401729   \n",
       "...           ...              ...       ...                ...        ...   \n",
       "109075  nm2532455            actor       NaN  [\"'Buffalo' Kid\"]        NaN   \n",
       "109076  nm3001264  cinematographer       NaN                NaN  tt7908092   \n",
       "109077  nm3001264  cinematographer       NaN                NaN  tt7908092   \n",
       "109078  nm3993666           editor       NaN                NaN  tt7914282   \n",
       "109079  nm5153854             self       NaN        [\"Herself\"]        NaN   \n",
       "\n",
       "       averagerating  numvotes  Unnamed: 0    name_id             name  \n",
       "0                7.0  539338.0         0.0  nm1119880  Colin Trevorrow  \n",
       "1                7.0  539338.0        27.0  nm1119880  Colin Trevorrow  \n",
       "2                7.6      23.0         NaN        NaN              NaN  \n",
       "3                6.6  241792.0         1.0  nm0004056   Andrew Stanton  \n",
       "4                6.6  241792.0      4298.0  nm0004056   Andrew Stanton  \n",
       "...              ...       ...         ...        ...              ...  \n",
       "109075           NaN       NaN         NaN        NaN              NaN  \n",
       "109076           6.9      83.0       137.0  nm0484073         Jun Lana  \n",
       "109077           6.9      83.0      3853.0  nm0484073         Jun Lana  \n",
       "109078           6.5      46.0         NaN        NaN              NaN  \n",
       "109079           NaN       NaN         NaN        NaN              NaN  \n",
       "\n",
       "[109080 rows x 35 columns]"
      ]
     },
     "execution_count": 28,
     "metadata": {},
     "output_type": "execute_result"
    }
   ],
   "source": [
    "df"
   ]
  },
  {
   "cell_type": "code",
   "execution_count": 29,
   "metadata": {},
   "outputs": [],
   "source": [
    "# dropping unnecessary columns\n",
    "df.drop(['ordering_x', 'language', 'attributes', 'original_title', 'Runtime', 'is_original_title', 'tconst_x', 'tconst_y', 'types', 'category', 'job', 'characters', 'ordering_y', 'title', 'nconst', 'region', 'writers', 'directors', 'Unnamed: 0', 'name_id'], axis=1, inplace=True)"
   ]
  },
  {
   "cell_type": "code",
   "execution_count": 30,
   "metadata": {},
   "outputs": [
    {
     "name": "stdout",
     "output_type": "stream",
     "text": [
      "<class 'pandas.core.frame.DataFrame'>\n",
      "Int64Index: 109080 entries, 0 to 109079\n",
      "Data columns (total 13 columns):\n",
      "Country                       108803 non-null object\n",
      "Budget                        32044 non-null object\n",
      "Opening Weekend USA           7541 non-null object\n",
      "Gross USA                     7992 non-null object\n",
      "Cumulative Worldwide Gross    23109 non-null object\n",
      "title_id                      109080 non-null object\n",
      "primary_title                 109080 non-null object\n",
      "start_year                    109080 non-null int64\n",
      "runtime_minutes               91398 non-null float64\n",
      "genres                        107089 non-null object\n",
      "averagerating                 66268 non-null float64\n",
      "numvotes                      66268 non-null float64\n",
      "name                          19484 non-null object\n",
      "dtypes: float64(3), int64(1), object(9)\n",
      "memory usage: 11.7+ MB\n"
     ]
    }
   ],
   "source": [
    "df.info()"
   ]
  },
  {
   "cell_type": "markdown",
   "metadata": {},
   "source": [
    "# Data Cleaning"
   ]
  },
  {
   "cell_type": "code",
   "execution_count": 31,
   "metadata": {},
   "outputs": [],
   "source": [
    "# Dropping Null Values\n",
    "df = df.dropna(subset=['Opening Weekend USA', 'Gross USA', 'Cumulative Worldwide Gross'], how='all')"
   ]
  },
  {
   "cell_type": "code",
   "execution_count": 32,
   "metadata": {},
   "outputs": [
    {
     "name": "stderr",
     "output_type": "stream",
     "text": [
      "/Users/davidbruce/opt/anaconda3/envs/learn-env/lib/python3.6/site-packages/ipykernel_launcher.py:2: SettingWithCopyWarning: \n",
      "A value is trying to be set on a copy of a slice from a DataFrame.\n",
      "Try using .loc[row_indexer,col_indexer] = value instead\n",
      "\n",
      "See the caveats in the documentation: http://pandas.pydata.org/pandas-docs/stable/user_guide/indexing.html#returning-a-view-versus-a-copy\n",
      "  \n"
     ]
    }
   ],
   "source": [
    "# Cumulative Worldwide Gross replace NaN with 0\n",
    "df['Cumulative Worldwide Gross'] = df['Cumulative Worldwide Gross'].fillna(0)"
   ]
  },
  {
   "cell_type": "code",
   "execution_count": 33,
   "metadata": {},
   "outputs": [],
   "source": [
    "# Movies from India contain 'INR' substring and need to be converted to USD or dropped\n",
    "INR = df.loc[df['Cumulative Worldwide Gross'].str.contains('INR') == True]\n",
    "NPR = df.loc[df['Cumulative Worldwide Gross'].str.contains('NPR') == True]"
   ]
  },
  {
   "cell_type": "code",
   "execution_count": 34,
   "metadata": {},
   "outputs": [],
   "source": [
    "df = df.drop(df.loc[df['Cumulative Worldwide Gross'].str.contains('INR') == True].index)"
   ]
  },
  {
   "cell_type": "code",
   "execution_count": 35,
   "metadata": {},
   "outputs": [],
   "source": [
    "df = df.drop(df.loc[df['Cumulative Worldwide Gross'].str.contains('NPR') == True].index)"
   ]
  },
  {
   "cell_type": "code",
   "execution_count": 36,
   "metadata": {},
   "outputs": [],
   "source": [
    "df = df.drop(df.loc[df['Cumulative Worldwide Gross'].str.contains('AUD') == True].index)"
   ]
  },
  {
   "cell_type": "code",
   "execution_count": 37,
   "metadata": {},
   "outputs": [],
   "source": [
    "def clean_currency(x):\n",
    "    if isinstance(x, str):\n",
    "        x = x.replace('$', '').replace(',', '')\n",
    "        return x\n",
    "    return(x)\n",
    "\n",
    "# df['Cumulative Worldwide Gross'] = df['Cumulative Worldwide Gross'].str.replace(',', '').str.replace('$', '')"
   ]
  },
  {
   "cell_type": "code",
   "execution_count": 38,
   "metadata": {},
   "outputs": [],
   "source": [
    "df['Cumulative Worldwide Gross'] = df['Cumulative Worldwide Gross'].map(lambda x: clean_currency(x))"
   ]
  },
  {
   "cell_type": "code",
   "execution_count": 39,
   "metadata": {},
   "outputs": [],
   "source": [
    "df['Cumulative Worldwide Gross'] = pd.to_numeric(df['Cumulative Worldwide Gross'])"
   ]
  },
  {
   "cell_type": "code",
   "execution_count": 40,
   "metadata": {},
   "outputs": [
    {
     "data": {
      "text/plain": [
       "0     1670401444\n",
       "1     1670401444\n",
       "3      284139100\n",
       "4      284139100\n",
       "10    1025467803\n",
       "Name: Cumulative Worldwide Gross, dtype: int64"
      ]
     },
     "execution_count": 40,
     "metadata": {},
     "output_type": "execute_result"
    }
   ],
   "source": [
    "df['Cumulative Worldwide Gross'][:5]"
   ]
  },
  {
   "cell_type": "code",
   "execution_count": 41,
   "metadata": {},
   "outputs": [],
   "source": [
    "# Gross USA \n",
    "df['Gross USA'] = df['Gross USA'].fillna(0)"
   ]
  },
  {
   "cell_type": "code",
   "execution_count": 42,
   "metadata": {},
   "outputs": [],
   "source": [
    "df['Gross USA'] = df['Gross USA'].map(lambda x: clean_currency(x))"
   ]
  },
  {
   "cell_type": "code",
   "execution_count": 43,
   "metadata": {},
   "outputs": [],
   "source": [
    "df['Gross USA'] = pd.to_numeric(df['Gross USA'])"
   ]
  },
  {
   "cell_type": "code",
   "execution_count": 44,
   "metadata": {},
   "outputs": [
    {
     "data": {
      "text/plain": [
       "0     652270625\n",
       "1     652270625\n",
       "3      73078100\n",
       "4      73078100\n",
       "10    334191110\n",
       "Name: Gross USA, dtype: int64"
      ]
     },
     "execution_count": 44,
     "metadata": {},
     "output_type": "execute_result"
    }
   ],
   "source": [
    "df['Gross USA'][:5]"
   ]
  },
  {
   "cell_type": "code",
   "execution_count": 45,
   "metadata": {},
   "outputs": [],
   "source": [
    "# Opening Weekend USA\n",
    "df['Opening Weekend USA'] = df['Opening Weekend USA'].fillna(0)"
   ]
  },
  {
   "cell_type": "code",
   "execution_count": 46,
   "metadata": {},
   "outputs": [],
   "source": [
    "df['Opening Weekend USA'] = df['Opening Weekend USA'].map(lambda x: clean_currency(x))"
   ]
  },
  {
   "cell_type": "code",
   "execution_count": 47,
   "metadata": {},
   "outputs": [],
   "source": [
    "df['Opening Weekend USA'] = pd.to_numeric(df['Opening Weekend USA'])"
   ]
  },
  {
   "cell_type": "code",
   "execution_count": 48,
   "metadata": {},
   "outputs": [
    {
     "data": {
      "text/plain": [
       "0     208806270\n",
       "1     208806270\n",
       "3      30180188\n",
       "4      30180188\n",
       "10    116101023\n",
       "Name: Opening Weekend USA, dtype: int64"
      ]
     },
     "execution_count": 48,
     "metadata": {},
     "output_type": "execute_result"
    }
   ],
   "source": [
    "df['Opening Weekend USA'][:5]"
   ]
  },
  {
   "cell_type": "code",
   "execution_count": 49,
   "metadata": {},
   "outputs": [
    {
     "data": {
      "text/plain": [
       "(23139, 13)"
      ]
     },
     "execution_count": 49,
     "metadata": {},
     "output_type": "execute_result"
    }
   ],
   "source": [
    "df.shape"
   ]
  },
  {
   "cell_type": "code",
   "execution_count": 50,
   "metadata": {},
   "outputs": [
    {
     "data": {
      "text/plain": [
       "0         $150,000,000\n",
       "1         $150,000,000\n",
       "3         $250,000,000\n",
       "4         $250,000,000\n",
       "10        $200,000,000\n",
       "              ...     \n",
       "109062             NaN\n",
       "109063    GBP2,500,000\n",
       "109072             NaN\n",
       "109076             NaN\n",
       "109077             NaN\n",
       "Name: Budget, Length: 23139, dtype: object"
      ]
     },
     "execution_count": 50,
     "metadata": {},
     "output_type": "execute_result"
    }
   ],
   "source": [
    "df.Budget"
   ]
  },
  {
   "cell_type": "code",
   "execution_count": 51,
   "metadata": {},
   "outputs": [],
   "source": [
    "df['Budget'] = df['Budget'].map(lambda x: clean_currency(x))"
   ]
  },
  {
   "cell_type": "code",
   "execution_count": 52,
   "metadata": {},
   "outputs": [],
   "source": [
    "df['Budget'] = df['Budget'].fillna('0')"
   ]
  },
  {
   "cell_type": "code",
   "execution_count": 53,
   "metadata": {},
   "outputs": [],
   "source": [
    "def find_currencies(x):\n",
    "    currencies = []\n",
    "    for i in x:\n",
    "        if i[:3].isalpha():\n",
    "            currencies.append(i[:3])\n",
    "    return np.unique(currencies)"
   ]
  },
  {
   "cell_type": "code",
   "execution_count": 54,
   "metadata": {},
   "outputs": [],
   "source": [
    "budget_curr = df['Budget'].tolist()"
   ]
  },
  {
   "cell_type": "code",
   "execution_count": 55,
   "metadata": {},
   "outputs": [],
   "source": [
    "list_of_curr = find_currencies(budget_curr).tolist()"
   ]
  },
  {
   "cell_type": "code",
   "execution_count": 56,
   "metadata": {},
   "outputs": [
    {
     "data": {
      "text/plain": [
       "['AMD',\n",
       " 'ARS',\n",
       " 'AUD',\n",
       " 'BDT',\n",
       " 'BGL',\n",
       " 'BRL',\n",
       " 'CAD',\n",
       " 'CHF',\n",
       " 'CLP',\n",
       " 'CNY',\n",
       " 'COP',\n",
       " 'CZK',\n",
       " 'DKK',\n",
       " 'DOP',\n",
       " 'EEK',\n",
       " 'EGP',\n",
       " 'EUR',\n",
       " 'GBP',\n",
       " 'HKD',\n",
       " 'HUF',\n",
       " 'IDR',\n",
       " 'INR',\n",
       " 'IRR',\n",
       " 'ISK',\n",
       " 'ITL',\n",
       " 'JPY',\n",
       " 'KRW',\n",
       " 'LTL',\n",
       " 'LVL',\n",
       " 'MXN',\n",
       " 'MYR',\n",
       " 'NGN',\n",
       " 'NOK',\n",
       " 'NPR',\n",
       " 'NZD',\n",
       " 'PEN',\n",
       " 'PHP',\n",
       " 'PKR',\n",
       " 'PLN',\n",
       " 'PYG',\n",
       " 'RUR',\n",
       " 'SEK',\n",
       " 'SGD',\n",
       " 'THB',\n",
       " 'TRL',\n",
       " 'TWD',\n",
       " 'UAH',\n",
       " 'VEB',\n",
       " 'VND',\n",
       " 'ZAR']"
      ]
     },
     "execution_count": 56,
     "metadata": {},
     "output_type": "execute_result"
    }
   ],
   "source": [
    "list_of_curr"
   ]
  },
  {
   "cell_type": "markdown",
   "metadata": {},
   "source": [
    "## Switched null values to '0' string in order to apply conversion function"
   ]
  },
  {
   "cell_type": "code",
   "execution_count": 57,
   "metadata": {},
   "outputs": [],
   "source": [
    "df.Budget.fillna('0', inplace = True)"
   ]
  },
  {
   "cell_type": "code",
   "execution_count": 58,
   "metadata": {},
   "outputs": [],
   "source": [
    "def conversion_rates(x):\n",
    "    \n",
    "    list_of_curr = {'ARS':0.01, 'AUD':0.54, 'BGL':0, 'BRL':0.13, 'CAD':0.55, 'CHF':0.8, 'CLP':0.0009, 'CNY':0.1,\n",
    "                    'COP':0.000175, 'CZK':0.03, 'DKK':0.11, 'EEK':0, 'EGP':0.04, 'EUR':1.17, 'GBP':0.81, 'HKD':0.08,\n",
    "                    'HUF':0.002, 'IDR':0.000042, 'INR':0.01, 'ISK':0.0053, 'ITL':0, 'JPY':0.007, 'KRW':0.000633, 'LTL':0.25,\n",
    "                    'NOK':0.11, 'NZD':0.66, 'PEN':0.28, 'PHP':0.02, 'LVL':1.23, 'MXN':0.03, 'MYR':0.16, 'NGN':0.0026,\n",
    "                    'PKR':0.006, 'PLN':0.25, 'RUR':0.01, 'SEK':0.11, 'SGD':0.73, 'THB':0.03, 'TRL':0.13, 'TWD':0.03, \n",
    "                    'UAH':0.04, 'VEB':0.1, 'ZAR':0.06}\n",
    "    x = str(x)\n",
    "    x = x.replace(',', '').replace('$','')\n",
    "    x = x.lstrip()\n",
    "\n",
    "    \n",
    "    if x.isdigit() == True:\n",
    "        return float(x)\n",
    "    \n",
    "    country_code = x[:3]\n",
    "    if country_code in list_of_curr:\n",
    "        return (float(x[3:len(list(x))]) * list_of_curr[f'{country_code}'])\n",
    "\n"
   ]
  },
  {
   "cell_type": "markdown",
   "metadata": {},
   "source": [
    "## Apply conversion function"
   ]
  },
  {
   "cell_type": "code",
   "execution_count": 59,
   "metadata": {},
   "outputs": [],
   "source": [
    "df['Budget'] = df['Budget'].apply(lambda x: conversion_rates(x))"
   ]
  },
  {
   "cell_type": "code",
   "execution_count": 60,
   "metadata": {},
   "outputs": [
    {
     "data": {
      "text/plain": [
       "(23139, 13)"
      ]
     },
     "execution_count": 60,
     "metadata": {},
     "output_type": "execute_result"
    }
   ],
   "source": [
    "df.shape"
   ]
  },
  {
   "cell_type": "code",
   "execution_count": 61,
   "metadata": {},
   "outputs": [
    {
     "data": {
      "text/plain": [
       "Country                         29\n",
       "Budget                          13\n",
       "Opening Weekend USA              0\n",
       "Gross USA                        0\n",
       "Cumulative Worldwide Gross       0\n",
       "title_id                         0\n",
       "primary_title                    0\n",
       "start_year                       0\n",
       "runtime_minutes               1550\n",
       "genres                         111\n",
       "averagerating                  789\n",
       "numvotes                       789\n",
       "name                          7275\n",
       "dtype: int64"
      ]
     },
     "execution_count": 61,
     "metadata": {},
     "output_type": "execute_result"
    }
   ],
   "source": [
    "df.isna().sum()"
   ]
  },
  {
   "cell_type": "markdown",
   "metadata": {},
   "source": [
    "# Cleaning Genres Column"
   ]
  },
  {
   "cell_type": "code",
   "execution_count": 62,
   "metadata": {},
   "outputs": [],
   "source": [
    "df['genres'] = df['genres'].fillna('NaN')"
   ]
  },
  {
   "cell_type": "code",
   "execution_count": 63,
   "metadata": {},
   "outputs": [],
   "source": [
    "df['genres'] = df['genres'].map(lambda x: list(x.split(',')))"
   ]
  },
  {
   "cell_type": "code",
   "execution_count": 64,
   "metadata": {},
   "outputs": [
    {
     "data": {
      "text/plain": [
       "'Action'"
      ]
     },
     "execution_count": 64,
     "metadata": {},
     "output_type": "execute_result"
    }
   ],
   "source": [
    "df.genres[0][0]"
   ]
  },
  {
   "cell_type": "code",
   "execution_count": 67,
   "metadata": {},
   "outputs": [
    {
     "data": {
      "text/html": [
       "<div>\n",
       "<style scoped>\n",
       "    .dataframe tbody tr th:only-of-type {\n",
       "        vertical-align: middle;\n",
       "    }\n",
       "\n",
       "    .dataframe tbody tr th {\n",
       "        vertical-align: top;\n",
       "    }\n",
       "\n",
       "    .dataframe thead th {\n",
       "        text-align: right;\n",
       "    }\n",
       "</style>\n",
       "<table border=\"1\" class=\"dataframe\">\n",
       "  <thead>\n",
       "    <tr style=\"text-align: right;\">\n",
       "      <th></th>\n",
       "      <th>Country</th>\n",
       "      <th>Budget</th>\n",
       "      <th>Opening Weekend USA</th>\n",
       "      <th>Gross USA</th>\n",
       "      <th>Cumulative Worldwide Gross</th>\n",
       "      <th>title_id</th>\n",
       "      <th>primary_title</th>\n",
       "      <th>start_year</th>\n",
       "      <th>runtime_minutes</th>\n",
       "      <th>genres</th>\n",
       "      <th>averagerating</th>\n",
       "      <th>numvotes</th>\n",
       "      <th>name</th>\n",
       "    </tr>\n",
       "  </thead>\n",
       "  <tbody>\n",
       "    <tr>\n",
       "      <th>0</th>\n",
       "      <td>USA</td>\n",
       "      <td>150000000.0</td>\n",
       "      <td>208806270</td>\n",
       "      <td>652270625</td>\n",
       "      <td>1670401444</td>\n",
       "      <td>tt0369610</td>\n",
       "      <td>Jurassic World</td>\n",
       "      <td>2015</td>\n",
       "      <td>124.0</td>\n",
       "      <td>[Action, Adventure, Sci-Fi]</td>\n",
       "      <td>7.0</td>\n",
       "      <td>539338.0</td>\n",
       "      <td>Colin Trevorrow</td>\n",
       "    </tr>\n",
       "    <tr>\n",
       "      <th>1</th>\n",
       "      <td>USA</td>\n",
       "      <td>150000000.0</td>\n",
       "      <td>208806270</td>\n",
       "      <td>652270625</td>\n",
       "      <td>1670401444</td>\n",
       "      <td>tt0369610</td>\n",
       "      <td>Jurassic World</td>\n",
       "      <td>2015</td>\n",
       "      <td>124.0</td>\n",
       "      <td>[Action, Adventure, Sci-Fi]</td>\n",
       "      <td>7.0</td>\n",
       "      <td>539338.0</td>\n",
       "      <td>Colin Trevorrow</td>\n",
       "    </tr>\n",
       "    <tr>\n",
       "      <th>3</th>\n",
       "      <td>USA</td>\n",
       "      <td>250000000.0</td>\n",
       "      <td>30180188</td>\n",
       "      <td>73078100</td>\n",
       "      <td>284139100</td>\n",
       "      <td>tt0401729</td>\n",
       "      <td>John Carter</td>\n",
       "      <td>2012</td>\n",
       "      <td>132.0</td>\n",
       "      <td>[Action, Adventure, Sci-Fi]</td>\n",
       "      <td>6.6</td>\n",
       "      <td>241792.0</td>\n",
       "      <td>Andrew Stanton</td>\n",
       "    </tr>\n",
       "    <tr>\n",
       "      <th>4</th>\n",
       "      <td>USA</td>\n",
       "      <td>250000000.0</td>\n",
       "      <td>30180188</td>\n",
       "      <td>73078100</td>\n",
       "      <td>284139100</td>\n",
       "      <td>tt0401729</td>\n",
       "      <td>John Carter</td>\n",
       "      <td>2012</td>\n",
       "      <td>132.0</td>\n",
       "      <td>[Action, Adventure, Sci-Fi]</td>\n",
       "      <td>6.6</td>\n",
       "      <td>241792.0</td>\n",
       "      <td>Andrew Stanton</td>\n",
       "    </tr>\n",
       "    <tr>\n",
       "      <th>10</th>\n",
       "      <td>USA</td>\n",
       "      <td>200000000.0</td>\n",
       "      <td>116101023</td>\n",
       "      <td>334191110</td>\n",
       "      <td>1025467803</td>\n",
       "      <td>tt1014759</td>\n",
       "      <td>Alice in Wonderland</td>\n",
       "      <td>2010</td>\n",
       "      <td>108.0</td>\n",
       "      <td>[Adventure, Family, Fantasy]</td>\n",
       "      <td>6.5</td>\n",
       "      <td>358813.0</td>\n",
       "      <td>Tim Burton</td>\n",
       "    </tr>\n",
       "    <tr>\n",
       "      <th>...</th>\n",
       "      <td>...</td>\n",
       "      <td>...</td>\n",
       "      <td>...</td>\n",
       "      <td>...</td>\n",
       "      <td>...</td>\n",
       "      <td>...</td>\n",
       "      <td>...</td>\n",
       "      <td>...</td>\n",
       "      <td>...</td>\n",
       "      <td>...</td>\n",
       "      <td>...</td>\n",
       "      <td>...</td>\n",
       "      <td>...</td>\n",
       "    </tr>\n",
       "    <tr>\n",
       "      <th>109062</th>\n",
       "      <td>Germany</td>\n",
       "      <td>0.0</td>\n",
       "      <td>6115</td>\n",
       "      <td>14078</td>\n",
       "      <td>14078</td>\n",
       "      <td>tt7760890</td>\n",
       "      <td>I Was at Home, But</td>\n",
       "      <td>2019</td>\n",
       "      <td>105.0</td>\n",
       "      <td>[Drama]</td>\n",
       "      <td>4.8</td>\n",
       "      <td>205.0</td>\n",
       "      <td>NaN</td>\n",
       "    </tr>\n",
       "    <tr>\n",
       "      <th>109063</th>\n",
       "      <td>India</td>\n",
       "      <td>2025000.0</td>\n",
       "      <td>0</td>\n",
       "      <td>0</td>\n",
       "      <td>639685</td>\n",
       "      <td>tt7762982</td>\n",
       "      <td>Sajjan Singh Rangroot</td>\n",
       "      <td>2018</td>\n",
       "      <td>140.0</td>\n",
       "      <td>[Action, Biography, Drama]</td>\n",
       "      <td>7.7</td>\n",
       "      <td>1190.0</td>\n",
       "      <td>Pankaj Batra</td>\n",
       "    </tr>\n",
       "    <tr>\n",
       "      <th>109072</th>\n",
       "      <td>Lithuania</td>\n",
       "      <td>0.0</td>\n",
       "      <td>0</td>\n",
       "      <td>0</td>\n",
       "      <td>493695</td>\n",
       "      <td>tt7881954</td>\n",
       "      <td>Grazinti Nepriklausomybe</td>\n",
       "      <td>2018</td>\n",
       "      <td>70.0</td>\n",
       "      <td>[Comedy]</td>\n",
       "      <td>6.5</td>\n",
       "      <td>478.0</td>\n",
       "      <td>NaN</td>\n",
       "    </tr>\n",
       "    <tr>\n",
       "      <th>109076</th>\n",
       "      <td>Philippines</td>\n",
       "      <td>0.0</td>\n",
       "      <td>0</td>\n",
       "      <td>0</td>\n",
       "      <td>42211</td>\n",
       "      <td>tt7908092</td>\n",
       "      <td>Ang Dalawang Mrs. Reyes</td>\n",
       "      <td>2018</td>\n",
       "      <td>104.0</td>\n",
       "      <td>[Comedy]</td>\n",
       "      <td>6.9</td>\n",
       "      <td>83.0</td>\n",
       "      <td>Jun Lana</td>\n",
       "    </tr>\n",
       "    <tr>\n",
       "      <th>109077</th>\n",
       "      <td>Philippines</td>\n",
       "      <td>0.0</td>\n",
       "      <td>0</td>\n",
       "      <td>0</td>\n",
       "      <td>42211</td>\n",
       "      <td>tt7908092</td>\n",
       "      <td>Ang Dalawang Mrs. Reyes</td>\n",
       "      <td>2018</td>\n",
       "      <td>104.0</td>\n",
       "      <td>[Comedy]</td>\n",
       "      <td>6.9</td>\n",
       "      <td>83.0</td>\n",
       "      <td>Jun Lana</td>\n",
       "    </tr>\n",
       "  </tbody>\n",
       "</table>\n",
       "<p>23139 rows × 13 columns</p>\n",
       "</div>"
      ],
      "text/plain": [
       "            Country       Budget  Opening Weekend USA  Gross USA  \\\n",
       "0               USA  150000000.0            208806270  652270625   \n",
       "1               USA  150000000.0            208806270  652270625   \n",
       "3               USA  250000000.0             30180188   73078100   \n",
       "4               USA  250000000.0             30180188   73078100   \n",
       "10              USA  200000000.0            116101023  334191110   \n",
       "...             ...          ...                  ...        ...   \n",
       "109062      Germany          0.0                 6115      14078   \n",
       "109063        India    2025000.0                    0          0   \n",
       "109072    Lithuania          0.0                    0          0   \n",
       "109076  Philippines          0.0                    0          0   \n",
       "109077  Philippines          0.0                    0          0   \n",
       "\n",
       "        Cumulative Worldwide Gross   title_id             primary_title  \\\n",
       "0                       1670401444  tt0369610            Jurassic World   \n",
       "1                       1670401444  tt0369610            Jurassic World   \n",
       "3                        284139100  tt0401729               John Carter   \n",
       "4                        284139100  tt0401729               John Carter   \n",
       "10                      1025467803  tt1014759       Alice in Wonderland   \n",
       "...                            ...        ...                       ...   \n",
       "109062                       14078  tt7760890        I Was at Home, But   \n",
       "109063                      639685  tt7762982     Sajjan Singh Rangroot   \n",
       "109072                      493695  tt7881954  Grazinti Nepriklausomybe   \n",
       "109076                       42211  tt7908092   Ang Dalawang Mrs. Reyes   \n",
       "109077                       42211  tt7908092   Ang Dalawang Mrs. Reyes   \n",
       "\n",
       "        start_year  runtime_minutes                        genres  \\\n",
       "0             2015            124.0   [Action, Adventure, Sci-Fi]   \n",
       "1             2015            124.0   [Action, Adventure, Sci-Fi]   \n",
       "3             2012            132.0   [Action, Adventure, Sci-Fi]   \n",
       "4             2012            132.0   [Action, Adventure, Sci-Fi]   \n",
       "10            2010            108.0  [Adventure, Family, Fantasy]   \n",
       "...            ...              ...                           ...   \n",
       "109062        2019            105.0                       [Drama]   \n",
       "109063        2018            140.0    [Action, Biography, Drama]   \n",
       "109072        2018             70.0                      [Comedy]   \n",
       "109076        2018            104.0                      [Comedy]   \n",
       "109077        2018            104.0                      [Comedy]   \n",
       "\n",
       "        averagerating  numvotes             name  \n",
       "0                 7.0  539338.0  Colin Trevorrow  \n",
       "1                 7.0  539338.0  Colin Trevorrow  \n",
       "3                 6.6  241792.0   Andrew Stanton  \n",
       "4                 6.6  241792.0   Andrew Stanton  \n",
       "10                6.5  358813.0       Tim Burton  \n",
       "...               ...       ...              ...  \n",
       "109062            4.8     205.0              NaN  \n",
       "109063            7.7    1190.0     Pankaj Batra  \n",
       "109072            6.5     478.0              NaN  \n",
       "109076            6.9      83.0         Jun Lana  \n",
       "109077            6.9      83.0         Jun Lana  \n",
       "\n",
       "[23139 rows x 13 columns]"
      ]
     },
     "execution_count": 67,
     "metadata": {},
     "output_type": "execute_result"
    }
   ],
   "source": [
    "df"
   ]
  },
  {
   "cell_type": "code",
   "execution_count": null,
   "metadata": {},
   "outputs": [],
   "source": []
  },
  {
   "cell_type": "markdown",
   "metadata": {},
   "source": [
    "# Make df a .csv"
   ]
  },
  {
   "cell_type": "code",
   "execution_count": 65,
   "metadata": {},
   "outputs": [],
   "source": [
    "df.to_csv('master_table.csv')"
   ]
  },
  {
   "cell_type": "code",
   "execution_count": null,
   "metadata": {},
   "outputs": [],
   "source": []
  }
 ],
 "metadata": {
  "kernelspec": {
   "display_name": "learn-env",
   "language": "python",
   "name": "learn-env"
  },
  "language_info": {
   "codemirror_mode": {
    "name": "ipython",
    "version": 3
   },
   "file_extension": ".py",
   "mimetype": "text/x-python",
   "name": "python",
   "nbconvert_exporter": "python",
   "pygments_lexer": "ipython3",
   "version": "3.6.9"
  }
 },
 "nbformat": 4,
 "nbformat_minor": 4
}
