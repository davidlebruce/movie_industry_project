{
 "cells": [
  {
   "cell_type": "code",
   "execution_count": 1,
   "metadata": {},
   "outputs": [],
   "source": [
    "import pandas as pd\n",
    "import numpy as np"
   ]
  },
  {
   "cell_type": "code",
   "execution_count": 2,
   "metadata": {},
   "outputs": [],
   "source": [
    "imdb1 = pd.read_csv(\"zippedData/imdb.name.basics.csv.gz\")\n",
    "imdb2 = pd.read_csv(\"zippedData/imdb.title.akas.csv.gz\")\n",
    "imdb3 = pd.read_csv(\"zippedData/imdb.title.basics.csv.gz\")\n",
    "imdb4 = pd.read_csv(\"zippedData/imdb.title.crew.csv.gz\")\n",
    "imdb5 = pd.read_csv(\"zippedData/imdb.title.principals.csv.gz\")\n",
    "imdb6 = pd.read_csv(\"zippedData/imdb.title.ratings.csv.gz\")"
   ]
  },
  {
   "cell_type": "markdown",
   "metadata": {},
   "source": [
    "# IMDB Web Scraped Data"
   ]
  },
  {
   "cell_type": "code",
   "execution_count": 3,
   "metadata": {},
   "outputs": [],
   "source": [
    "# cleaning primary keys in imdb dfs\n",
    "imdb2['title_id'] = imdb2['title_id'].str.strip()\n",
    "imdb3['tconst'] = imdb3['tconst'].str.strip()\n",
    "imdb4['tconst'] = imdb4['tconst'].str.strip()\n",
    "imdb5['tconst'] = imdb5['tconst'].str.strip()\n",
    "imdb6['tconst'] = imdb6['tconst'].str.strip()"
   ]
  },
  {
   "cell_type": "code",
   "execution_count": 4,
   "metadata": {},
   "outputs": [],
   "source": [
    "# dropping duplicates\n",
    "imdb2.drop_duplicates(subset=['title_id'], inplace=True)"
   ]
  },
  {
   "cell_type": "code",
   "execution_count": 5,
   "metadata": {},
   "outputs": [],
   "source": [
    "imdb3.drop_duplicates(subset=['tconst'], inplace=True)\n",
    "imdb4.drop_duplicates(subset=['tconst'], inplace=True)\n",
    "imdb5.drop_duplicates(subset=['tconst'], inplace=True)\n",
    "imdb6.drop_duplicates(subset=['tconst'], inplace=True)"
   ]
  },
  {
   "cell_type": "code",
   "execution_count": 6,
   "metadata": {},
   "outputs": [],
   "source": [
    "# importing web scrapes\n",
    "web_scrape1 = pd.read_csv('imdb_monetary_data_16590.csv')\n",
    "web_scrape1.set_index(['title_id'], inplace=True)"
   ]
  },
  {
   "cell_type": "code",
   "execution_count": 7,
   "metadata": {},
   "outputs": [],
   "source": [
    "web_scrape2 = pd.read_csv('imdb_monetary_data_16591_to_25214_.csv')\n",
    "web_scrape2.set_index(['title_id'], inplace=True)"
   ]
  },
  {
   "cell_type": "code",
   "execution_count": 8,
   "metadata": {},
   "outputs": [],
   "source": [
    "web_scrape3 = pd.read_csv('imdb_monetary_data_29214_.csv')\n",
    "web_scrape3.set_index(['title_id'], inplace=True)"
   ]
  },
  {
   "cell_type": "code",
   "execution_count": 9,
   "metadata": {},
   "outputs": [],
   "source": [
    "web_scrape4 = pd.read_csv('imdb_monetary_data_33736_.csv')\n",
    "web_scrape4.set_index(['title_id'], inplace=True)"
   ]
  },
  {
   "cell_type": "code",
   "execution_count": 10,
   "metadata": {},
   "outputs": [],
   "source": [
    "web_scrape5 = pd.read_csv('imdb_monetary_data_49857_.csv')\n",
    "web_scrape5.set_index(['title_id'], inplace=True)"
   ]
  },
  {
   "cell_type": "code",
   "execution_count": 11,
   "metadata": {},
   "outputs": [
    {
     "name": "stdout",
     "output_type": "stream",
     "text": [
      "Index(['Unnamed: 0', 'Country', 'Budget', 'Opening Weekend USA', 'Gross USA',\n",
      "       'Cumulative Worldwide Gross', 'Runtime'],\n",
      "      dtype='object')\n",
      "\n",
      "(49922, 7)\n",
      "\n",
      "Unnamed: 0                        0\n",
      "Country                          67\n",
      "Budget                        34723\n",
      "Opening Weekend USA           46599\n",
      "Gross USA                     46418\n",
      "Cumulative Worldwide Gross    40513\n",
      "Runtime                       12174\n",
      "dtype: int64\n"
     ]
    }
   ],
   "source": [
    "# concatenating webscraped data\n",
    "web_scrape = pd.concat([web_scrape1, web_scrape2, web_scrape3, web_scrape4, web_scrape5])\n",
    "print(web_scrape.columns, end='\\n\\n')\n",
    "print(web_scrape.shape, end='\\n\\n')\n",
    "print(web_scrape.isna().sum())"
   ]
  },
  {
   "cell_type": "code",
   "execution_count": 12,
   "metadata": {},
   "outputs": [
    {
     "data": {
      "text/html": [
       "<div>\n",
       "<style scoped>\n",
       "    .dataframe tbody tr th:only-of-type {\n",
       "        vertical-align: middle;\n",
       "    }\n",
       "\n",
       "    .dataframe tbody tr th {\n",
       "        vertical-align: top;\n",
       "    }\n",
       "\n",
       "    .dataframe thead th {\n",
       "        text-align: right;\n",
       "    }\n",
       "</style>\n",
       "<table border=\"1\" class=\"dataframe\">\n",
       "  <thead>\n",
       "    <tr style=\"text-align: right;\">\n",
       "      <th></th>\n",
       "      <th>Country</th>\n",
       "      <th>Budget</th>\n",
       "      <th>Opening Weekend USA</th>\n",
       "      <th>Gross USA</th>\n",
       "      <th>Cumulative Worldwide Gross</th>\n",
       "      <th>Runtime</th>\n",
       "    </tr>\n",
       "    <tr>\n",
       "      <th>title_id</th>\n",
       "      <th></th>\n",
       "      <th></th>\n",
       "      <th></th>\n",
       "      <th></th>\n",
       "      <th></th>\n",
       "      <th></th>\n",
       "    </tr>\n",
       "  </thead>\n",
       "  <tbody>\n",
       "    <tr>\n",
       "      <th>tt0369610</th>\n",
       "      <td>USA</td>\n",
       "      <td>$150,000,000</td>\n",
       "      <td>$208,806,270,</td>\n",
       "      <td>$652,270,625</td>\n",
       "      <td>$1,670,401,444</td>\n",
       "      <td>124 min</td>\n",
       "    </tr>\n",
       "    <tr>\n",
       "      <th>tt0381957</th>\n",
       "      <td>UK</td>\n",
       "      <td>NaN</td>\n",
       "      <td>NaN</td>\n",
       "      <td>NaN</td>\n",
       "      <td>NaN</td>\n",
       "      <td>NaN</td>\n",
       "    </tr>\n",
       "    <tr>\n",
       "      <th>tt0401729</th>\n",
       "      <td>USA</td>\n",
       "      <td>$250,000,000</td>\n",
       "      <td>$30,180,188,</td>\n",
       "      <td>$73,078,100</td>\n",
       "      <td>$284,139,100</td>\n",
       "      <td>132 min</td>\n",
       "    </tr>\n",
       "    <tr>\n",
       "      <th>tt10010134</th>\n",
       "      <td>France</td>\n",
       "      <td>NaN</td>\n",
       "      <td>NaN</td>\n",
       "      <td>NaN</td>\n",
       "      <td>NaN</td>\n",
       "      <td>52 min</td>\n",
       "    </tr>\n",
       "    <tr>\n",
       "      <th>tt10027708</th>\n",
       "      <td>Australia</td>\n",
       "      <td>NaN</td>\n",
       "      <td>NaN</td>\n",
       "      <td>NaN</td>\n",
       "      <td>NaN</td>\n",
       "      <td>94 min</td>\n",
       "    </tr>\n",
       "    <tr>\n",
       "      <th>...</th>\n",
       "      <td>...</td>\n",
       "      <td>...</td>\n",
       "      <td>...</td>\n",
       "      <td>...</td>\n",
       "      <td>...</td>\n",
       "      <td>...</td>\n",
       "    </tr>\n",
       "    <tr>\n",
       "      <th>tt2707842</th>\n",
       "      <td>USA</td>\n",
       "      <td>NaN</td>\n",
       "      <td>NaN</td>\n",
       "      <td>NaN</td>\n",
       "      <td>NaN</td>\n",
       "      <td>NaN</td>\n",
       "    </tr>\n",
       "    <tr>\n",
       "      <th>tt2708686</th>\n",
       "      <td>Spain</td>\n",
       "      <td>NaN</td>\n",
       "      <td>NaN</td>\n",
       "      <td>NaN</td>\n",
       "      <td>NaN</td>\n",
       "      <td>NaN</td>\n",
       "    </tr>\n",
       "    <tr>\n",
       "      <th>tt2709034</th>\n",
       "      <td>USA</td>\n",
       "      <td>$5,000</td>\n",
       "      <td>NaN</td>\n",
       "      <td>NaN</td>\n",
       "      <td>NaN</td>\n",
       "      <td>132 min</td>\n",
       "    </tr>\n",
       "    <tr>\n",
       "      <th>tt2713440</th>\n",
       "      <td>USA</td>\n",
       "      <td>NaN</td>\n",
       "      <td>NaN</td>\n",
       "      <td>NaN</td>\n",
       "      <td>NaN</td>\n",
       "      <td>63 min</td>\n",
       "    </tr>\n",
       "    <tr>\n",
       "      <th>tt2713926</th>\n",
       "      <td>USA</td>\n",
       "      <td>NaN</td>\n",
       "      <td>NaN</td>\n",
       "      <td>NaN</td>\n",
       "      <td>NaN</td>\n",
       "      <td>77 min</td>\n",
       "    </tr>\n",
       "  </tbody>\n",
       "</table>\n",
       "<p>49922 rows × 6 columns</p>\n",
       "</div>"
      ],
      "text/plain": [
       "              Country        Budget Opening Weekend USA     Gross USA  \\\n",
       "title_id                                                                \n",
       "tt0369610         USA  $150,000,000       $208,806,270,  $652,270,625   \n",
       "tt0381957          UK           NaN                 NaN           NaN   \n",
       "tt0401729         USA  $250,000,000        $30,180,188,   $73,078,100   \n",
       "tt10010134     France           NaN                 NaN           NaN   \n",
       "tt10027708  Australia           NaN                 NaN           NaN   \n",
       "...               ...           ...                 ...           ...   \n",
       "tt2707842         USA           NaN                 NaN           NaN   \n",
       "tt2708686       Spain           NaN                 NaN           NaN   \n",
       "tt2709034         USA        $5,000                 NaN           NaN   \n",
       "tt2713440         USA           NaN                 NaN           NaN   \n",
       "tt2713926         USA           NaN                 NaN           NaN   \n",
       "\n",
       "           Cumulative Worldwide Gross  Runtime  \n",
       "title_id                                        \n",
       "tt0369610              $1,670,401,444  124 min  \n",
       "tt0381957                         NaN      NaN  \n",
       "tt0401729                $284,139,100  132 min  \n",
       "tt10010134                        NaN   52 min  \n",
       "tt10027708                        NaN   94 min  \n",
       "...                               ...      ...  \n",
       "tt2707842                         NaN      NaN  \n",
       "tt2708686                         NaN      NaN  \n",
       "tt2709034                         NaN  132 min  \n",
       "tt2713440                         NaN   63 min  \n",
       "tt2713926                         NaN   77 min  \n",
       "\n",
       "[49922 rows x 6 columns]"
      ]
     },
     "execution_count": 12,
     "metadata": {},
     "output_type": "execute_result"
    }
   ],
   "source": [
    "# dropping unnamed column\n",
    "web_scrape.drop(['Unnamed: 0'], axis=1, inplace=True)\n",
    "web_scrape"
   ]
  },
  {
   "cell_type": "code",
   "execution_count": 13,
   "metadata": {},
   "outputs": [],
   "source": [
    "# cleaning title_id (index)\n",
    "web_scrape.index = web_scrape.index.str.strip()"
   ]
  },
  {
   "cell_type": "code",
   "execution_count": 14,
   "metadata": {},
   "outputs": [],
   "source": [
    "# merging imdb2\n",
    "df = web_scrape.merge(imdb2, left_on=web_scrape.index, right_on=['title_id'])"
   ]
  },
  {
   "cell_type": "code",
   "execution_count": 15,
   "metadata": {},
   "outputs": [],
   "source": [
    "df = df.merge(imdb3, left_on=['title_id'], right_on=['tconst'])"
   ]
  },
  {
   "cell_type": "code",
   "execution_count": 16,
   "metadata": {},
   "outputs": [],
   "source": [
    "df = df.merge(imdb4, left_on=['title_id'], right_on=['tconst'])"
   ]
  },
  {
   "cell_type": "code",
   "execution_count": 17,
   "metadata": {},
   "outputs": [],
   "source": [
    "df = df.merge(imdb5, left_on=['title_id'], right_on=['tconst'])"
   ]
  },
  {
   "cell_type": "code",
   "execution_count": 18,
   "metadata": {},
   "outputs": [],
   "source": [
    "df = df.merge(imdb6, how='left', left_on=['title_id'], right_on=['tconst'])"
   ]
  },
  {
   "cell_type": "code",
   "execution_count": 19,
   "metadata": {},
   "outputs": [
    {
     "data": {
      "text/html": [
       "<div>\n",
       "<style scoped>\n",
       "    .dataframe tbody tr th:only-of-type {\n",
       "        vertical-align: middle;\n",
       "    }\n",
       "\n",
       "    .dataframe tbody tr th {\n",
       "        vertical-align: top;\n",
       "    }\n",
       "\n",
       "    .dataframe thead th {\n",
       "        text-align: right;\n",
       "    }\n",
       "</style>\n",
       "<table border=\"1\" class=\"dataframe\">\n",
       "  <thead>\n",
       "    <tr style=\"text-align: right;\">\n",
       "      <th></th>\n",
       "      <th>Country</th>\n",
       "      <th>Budget</th>\n",
       "      <th>Opening Weekend USA</th>\n",
       "      <th>Gross USA</th>\n",
       "      <th>Cumulative Worldwide Gross</th>\n",
       "      <th>Runtime</th>\n",
       "      <th>title_id</th>\n",
       "      <th>ordering_x</th>\n",
       "      <th>title</th>\n",
       "      <th>region</th>\n",
       "      <th>...</th>\n",
       "      <th>writers</th>\n",
       "      <th>tconst_x</th>\n",
       "      <th>ordering_y</th>\n",
       "      <th>nconst</th>\n",
       "      <th>category</th>\n",
       "      <th>job</th>\n",
       "      <th>characters</th>\n",
       "      <th>tconst_y</th>\n",
       "      <th>averagerating</th>\n",
       "      <th>numvotes</th>\n",
       "    </tr>\n",
       "  </thead>\n",
       "  <tbody>\n",
       "    <tr>\n",
       "      <th>0</th>\n",
       "      <td>USA</td>\n",
       "      <td>$150,000,000</td>\n",
       "      <td>$208,806,270,</td>\n",
       "      <td>$652,270,625</td>\n",
       "      <td>$1,670,401,444</td>\n",
       "      <td>124 min</td>\n",
       "      <td>tt0369610</td>\n",
       "      <td>10</td>\n",
       "      <td>Джурасик свят</td>\n",
       "      <td>BG</td>\n",
       "      <td>...</td>\n",
       "      <td>nm0415425,nm0798646,nm1119880,nm2081046,nm0000341</td>\n",
       "      <td>tt0369610</td>\n",
       "      <td>10</td>\n",
       "      <td>nm0189777</td>\n",
       "      <td>producer</td>\n",
       "      <td>producer</td>\n",
       "      <td>NaN</td>\n",
       "      <td>tt0369610</td>\n",
       "      <td>7.0</td>\n",
       "      <td>539338.0</td>\n",
       "    </tr>\n",
       "    <tr>\n",
       "      <th>1</th>\n",
       "      <td>UK</td>\n",
       "      <td>NaN</td>\n",
       "      <td>NaN</td>\n",
       "      <td>NaN</td>\n",
       "      <td>NaN</td>\n",
       "      <td>NaN</td>\n",
       "      <td>tt0381957</td>\n",
       "      <td>1</td>\n",
       "      <td>Cloud Cuckoo Land</td>\n",
       "      <td>GB</td>\n",
       "      <td>...</td>\n",
       "      <td>nm1458371,nm1461088</td>\n",
       "      <td>tt0381957</td>\n",
       "      <td>10</td>\n",
       "      <td>nm1108038</td>\n",
       "      <td>composer</td>\n",
       "      <td>NaN</td>\n",
       "      <td>NaN</td>\n",
       "      <td>tt0381957</td>\n",
       "      <td>7.6</td>\n",
       "      <td>23.0</td>\n",
       "    </tr>\n",
       "    <tr>\n",
       "      <th>2</th>\n",
       "      <td>USA</td>\n",
       "      <td>$250,000,000</td>\n",
       "      <td>$30,180,188,</td>\n",
       "      <td>$73,078,100</td>\n",
       "      <td>$284,139,100</td>\n",
       "      <td>132 min</td>\n",
       "      <td>tt0401729</td>\n",
       "      <td>10</td>\n",
       "      <td>Джон Картер: Мiж двох свiтiв</td>\n",
       "      <td>UA</td>\n",
       "      <td>...</td>\n",
       "      <td>nm0004056,nm0028764,nm0149290,nm0123194</td>\n",
       "      <td>tt0401729</td>\n",
       "      <td>10</td>\n",
       "      <td>nm0606640</td>\n",
       "      <td>producer</td>\n",
       "      <td>producer</td>\n",
       "      <td>NaN</td>\n",
       "      <td>tt0401729</td>\n",
       "      <td>6.6</td>\n",
       "      <td>241792.0</td>\n",
       "    </tr>\n",
       "    <tr>\n",
       "      <th>3</th>\n",
       "      <td>France</td>\n",
       "      <td>NaN</td>\n",
       "      <td>NaN</td>\n",
       "      <td>NaN</td>\n",
       "      <td>NaN</td>\n",
       "      <td>52 min</td>\n",
       "      <td>tt10010134</td>\n",
       "      <td>1</td>\n",
       "      <td>Versailles Rediscovered - The Sun King's Vanis...</td>\n",
       "      <td>NaN</td>\n",
       "      <td>...</td>\n",
       "      <td>nm2205937,nm1355962,nm10542772,nm0873469</td>\n",
       "      <td>tt10010134</td>\n",
       "      <td>10</td>\n",
       "      <td>nm0674930</td>\n",
       "      <td>editor</td>\n",
       "      <td>NaN</td>\n",
       "      <td>NaN</td>\n",
       "      <td>tt10010134</td>\n",
       "      <td>7.0</td>\n",
       "      <td>5.0</td>\n",
       "    </tr>\n",
       "    <tr>\n",
       "      <th>4</th>\n",
       "      <td>Australia</td>\n",
       "      <td>NaN</td>\n",
       "      <td>NaN</td>\n",
       "      <td>NaN</td>\n",
       "      <td>NaN</td>\n",
       "      <td>94 min</td>\n",
       "      <td>tt10027708</td>\n",
       "      <td>1</td>\n",
       "      <td>Miguelito - Canto a Borinquen</td>\n",
       "      <td>NaN</td>\n",
       "      <td>...</td>\n",
       "      <td>nm3495624</td>\n",
       "      <td>tt10027708</td>\n",
       "      <td>10</td>\n",
       "      <td>nm7089722</td>\n",
       "      <td>editor</td>\n",
       "      <td>NaN</td>\n",
       "      <td>NaN</td>\n",
       "      <td>NaN</td>\n",
       "      <td>NaN</td>\n",
       "      <td>NaN</td>\n",
       "    </tr>\n",
       "    <tr>\n",
       "      <th>...</th>\n",
       "      <td>...</td>\n",
       "      <td>...</td>\n",
       "      <td>...</td>\n",
       "      <td>...</td>\n",
       "      <td>...</td>\n",
       "      <td>...</td>\n",
       "      <td>...</td>\n",
       "      <td>...</td>\n",
       "      <td>...</td>\n",
       "      <td>...</td>\n",
       "      <td>...</td>\n",
       "      <td>...</td>\n",
       "      <td>...</td>\n",
       "      <td>...</td>\n",
       "      <td>...</td>\n",
       "      <td>...</td>\n",
       "      <td>...</td>\n",
       "      <td>...</td>\n",
       "      <td>...</td>\n",
       "      <td>...</td>\n",
       "      <td>...</td>\n",
       "    </tr>\n",
       "    <tr>\n",
       "      <th>49783</th>\n",
       "      <td>USA</td>\n",
       "      <td>NaN</td>\n",
       "      <td>NaN</td>\n",
       "      <td>NaN</td>\n",
       "      <td>NaN</td>\n",
       "      <td>NaN</td>\n",
       "      <td>tt2707842</td>\n",
       "      <td>1</td>\n",
       "      <td>Holed-Up</td>\n",
       "      <td>US</td>\n",
       "      <td>...</td>\n",
       "      <td>nm3761418</td>\n",
       "      <td>tt2707842</td>\n",
       "      <td>10</td>\n",
       "      <td>nm5521732</td>\n",
       "      <td>actress</td>\n",
       "      <td>NaN</td>\n",
       "      <td>[\"Grace Fief\"]</td>\n",
       "      <td>tt2707842</td>\n",
       "      <td>3.2</td>\n",
       "      <td>15.0</td>\n",
       "    </tr>\n",
       "    <tr>\n",
       "      <th>49784</th>\n",
       "      <td>Spain</td>\n",
       "      <td>NaN</td>\n",
       "      <td>NaN</td>\n",
       "      <td>NaN</td>\n",
       "      <td>NaN</td>\n",
       "      <td>NaN</td>\n",
       "      <td>tt2708686</td>\n",
       "      <td>1</td>\n",
       "      <td>Prodigy-man</td>\n",
       "      <td>ES</td>\n",
       "      <td>...</td>\n",
       "      <td>nm4798652</td>\n",
       "      <td>tt2708686</td>\n",
       "      <td>1</td>\n",
       "      <td>nm5521937</td>\n",
       "      <td>actress</td>\n",
       "      <td>NaN</td>\n",
       "      <td>[\"Doctora Ribalta\"]</td>\n",
       "      <td>NaN</td>\n",
       "      <td>NaN</td>\n",
       "      <td>NaN</td>\n",
       "    </tr>\n",
       "    <tr>\n",
       "      <th>49785</th>\n",
       "      <td>USA</td>\n",
       "      <td>$5,000</td>\n",
       "      <td>NaN</td>\n",
       "      <td>NaN</td>\n",
       "      <td>NaN</td>\n",
       "      <td>132 min</td>\n",
       "      <td>tt2709034</td>\n",
       "      <td>1</td>\n",
       "      <td>Beyond Reason: The Science of Self Discovery</td>\n",
       "      <td>US</td>\n",
       "      <td>...</td>\n",
       "      <td>NaN</td>\n",
       "      <td>tt2709034</td>\n",
       "      <td>1</td>\n",
       "      <td>nm4286803</td>\n",
       "      <td>self</td>\n",
       "      <td>NaN</td>\n",
       "      <td>[\"Himself\"]</td>\n",
       "      <td>NaN</td>\n",
       "      <td>NaN</td>\n",
       "      <td>NaN</td>\n",
       "    </tr>\n",
       "    <tr>\n",
       "      <th>49786</th>\n",
       "      <td>USA</td>\n",
       "      <td>NaN</td>\n",
       "      <td>NaN</td>\n",
       "      <td>NaN</td>\n",
       "      <td>NaN</td>\n",
       "      <td>63 min</td>\n",
       "      <td>tt2713440</td>\n",
       "      <td>1</td>\n",
       "      <td>The World Famous Kid Detective</td>\n",
       "      <td>US</td>\n",
       "      <td>...</td>\n",
       "      <td>nm5450673</td>\n",
       "      <td>tt2713440</td>\n",
       "      <td>10</td>\n",
       "      <td>nm5524745</td>\n",
       "      <td>actor</td>\n",
       "      <td>NaN</td>\n",
       "      <td>[\"Nina Kid\"]</td>\n",
       "      <td>tt2713440</td>\n",
       "      <td>6.9</td>\n",
       "      <td>48.0</td>\n",
       "    </tr>\n",
       "    <tr>\n",
       "      <th>49787</th>\n",
       "      <td>USA</td>\n",
       "      <td>NaN</td>\n",
       "      <td>NaN</td>\n",
       "      <td>NaN</td>\n",
       "      <td>NaN</td>\n",
       "      <td>77 min</td>\n",
       "      <td>tt2713926</td>\n",
       "      <td>1</td>\n",
       "      <td>Double Negative</td>\n",
       "      <td>US</td>\n",
       "      <td>...</td>\n",
       "      <td>nm5528419</td>\n",
       "      <td>tt2713926</td>\n",
       "      <td>1</td>\n",
       "      <td>nm5528419</td>\n",
       "      <td>actor</td>\n",
       "      <td>NaN</td>\n",
       "      <td>[\"Bruce\"]</td>\n",
       "      <td>NaN</td>\n",
       "      <td>NaN</td>\n",
       "      <td>NaN</td>\n",
       "    </tr>\n",
       "  </tbody>\n",
       "</table>\n",
       "<p>49788 rows × 32 columns</p>\n",
       "</div>"
      ],
      "text/plain": [
       "         Country        Budget Opening Weekend USA     Gross USA  \\\n",
       "0            USA  $150,000,000       $208,806,270,  $652,270,625   \n",
       "1             UK           NaN                 NaN           NaN   \n",
       "2            USA  $250,000,000        $30,180,188,   $73,078,100   \n",
       "3         France           NaN                 NaN           NaN   \n",
       "4      Australia           NaN                 NaN           NaN   \n",
       "...          ...           ...                 ...           ...   \n",
       "49783        USA           NaN                 NaN           NaN   \n",
       "49784      Spain           NaN                 NaN           NaN   \n",
       "49785        USA        $5,000                 NaN           NaN   \n",
       "49786        USA           NaN                 NaN           NaN   \n",
       "49787        USA           NaN                 NaN           NaN   \n",
       "\n",
       "      Cumulative Worldwide Gross  Runtime    title_id  ordering_x  \\\n",
       "0                 $1,670,401,444  124 min   tt0369610          10   \n",
       "1                            NaN      NaN   tt0381957           1   \n",
       "2                   $284,139,100  132 min   tt0401729          10   \n",
       "3                            NaN   52 min  tt10010134           1   \n",
       "4                            NaN   94 min  tt10027708           1   \n",
       "...                          ...      ...         ...         ...   \n",
       "49783                        NaN      NaN   tt2707842           1   \n",
       "49784                        NaN      NaN   tt2708686           1   \n",
       "49785                        NaN  132 min   tt2709034           1   \n",
       "49786                        NaN   63 min   tt2713440           1   \n",
       "49787                        NaN   77 min   tt2713926           1   \n",
       "\n",
       "                                                   title region  ...  \\\n",
       "0                                          Джурасик свят     BG  ...   \n",
       "1                                      Cloud Cuckoo Land     GB  ...   \n",
       "2                           Джон Картер: Мiж двох свiтiв     UA  ...   \n",
       "3      Versailles Rediscovered - The Sun King's Vanis...    NaN  ...   \n",
       "4                          Miguelito - Canto a Borinquen    NaN  ...   \n",
       "...                                                  ...    ...  ...   \n",
       "49783                                           Holed-Up     US  ...   \n",
       "49784                                        Prodigy-man     ES  ...   \n",
       "49785       Beyond Reason: The Science of Self Discovery     US  ...   \n",
       "49786                     The World Famous Kid Detective     US  ...   \n",
       "49787                                    Double Negative     US  ...   \n",
       "\n",
       "                                                 writers    tconst_x  \\\n",
       "0      nm0415425,nm0798646,nm1119880,nm2081046,nm0000341   tt0369610   \n",
       "1                                    nm1458371,nm1461088   tt0381957   \n",
       "2                nm0004056,nm0028764,nm0149290,nm0123194   tt0401729   \n",
       "3               nm2205937,nm1355962,nm10542772,nm0873469  tt10010134   \n",
       "4                                              nm3495624  tt10027708   \n",
       "...                                                  ...         ...   \n",
       "49783                                          nm3761418   tt2707842   \n",
       "49784                                          nm4798652   tt2708686   \n",
       "49785                                                NaN   tt2709034   \n",
       "49786                                          nm5450673   tt2713440   \n",
       "49787                                          nm5528419   tt2713926   \n",
       "\n",
       "      ordering_y     nconst  category       job           characters  \\\n",
       "0             10  nm0189777  producer  producer                  NaN   \n",
       "1             10  nm1108038  composer       NaN                  NaN   \n",
       "2             10  nm0606640  producer  producer                  NaN   \n",
       "3             10  nm0674930    editor       NaN                  NaN   \n",
       "4             10  nm7089722    editor       NaN                  NaN   \n",
       "...          ...        ...       ...       ...                  ...   \n",
       "49783         10  nm5521732   actress       NaN       [\"Grace Fief\"]   \n",
       "49784          1  nm5521937   actress       NaN  [\"Doctora Ribalta\"]   \n",
       "49785          1  nm4286803      self       NaN          [\"Himself\"]   \n",
       "49786         10  nm5524745     actor       NaN         [\"Nina Kid\"]   \n",
       "49787          1  nm5528419     actor       NaN            [\"Bruce\"]   \n",
       "\n",
       "         tconst_y  averagerating  numvotes  \n",
       "0       tt0369610            7.0  539338.0  \n",
       "1       tt0381957            7.6      23.0  \n",
       "2       tt0401729            6.6  241792.0  \n",
       "3      tt10010134            7.0       5.0  \n",
       "4             NaN            NaN       NaN  \n",
       "...           ...            ...       ...  \n",
       "49783   tt2707842            3.2      15.0  \n",
       "49784         NaN            NaN       NaN  \n",
       "49785         NaN            NaN       NaN  \n",
       "49786   tt2713440            6.9      48.0  \n",
       "49787         NaN            NaN       NaN  \n",
       "\n",
       "[49788 rows x 32 columns]"
      ]
     },
     "execution_count": 19,
     "metadata": {},
     "output_type": "execute_result"
    }
   ],
   "source": [
    "df"
   ]
  },
  {
   "cell_type": "code",
   "execution_count": 20,
   "metadata": {},
   "outputs": [],
   "source": [
    "# dropping unnecessary columns\n",
    "df.drop(['ordering_x', 'language', 'attributes', 'original_title', 'Runtime', 'is_original_title', 'tconst_x', 'tconst_y', 'types', 'category', 'job', 'characters', 'ordering_y', 'title'], axis=1, inplace=True)"
   ]
  },
  {
   "cell_type": "code",
   "execution_count": 21,
   "metadata": {},
   "outputs": [
    {
     "name": "stdout",
     "output_type": "stream",
     "text": [
      "<class 'pandas.core.frame.DataFrame'>\n",
      "Int64Index: 49788 entries, 0 to 49787\n",
      "Data columns (total 16 columns):\n",
      "Country                       49725 non-null object\n",
      "Budget                        15183 non-null object\n",
      "Opening Weekend USA           3322 non-null object\n",
      "Gross USA                     3502 non-null object\n",
      "Cumulative Worldwide Gross    9406 non-null object\n",
      "title_id                      49788 non-null object\n",
      "region                        44004 non-null object\n",
      "primary_title                 49788 non-null object\n",
      "start_year                    49788 non-null int64\n",
      "runtime_minutes               43230 non-null float64\n",
      "genres                        48946 non-null object\n",
      "directors                     49112 non-null object\n",
      "writers                       40236 non-null object\n",
      "nconst                        49788 non-null object\n",
      "averagerating                 32781 non-null float64\n",
      "numvotes                      32781 non-null float64\n",
      "dtypes: float64(3), int64(1), object(12)\n",
      "memory usage: 6.5+ MB\n"
     ]
    }
   ],
   "source": [
    "df.info()"
   ]
  },
  {
   "cell_type": "markdown",
   "metadata": {},
   "source": [
    "# Data Cleaning"
   ]
  },
  {
   "cell_type": "code",
   "execution_count": 22,
   "metadata": {},
   "outputs": [],
   "source": [
    "# Dropping Null Values\n",
    "df = df.dropna(subset=['Opening Weekend USA', 'Gross USA', 'Cumulative Worldwide Gross'], how='all')"
   ]
  },
  {
   "cell_type": "code",
   "execution_count": 23,
   "metadata": {},
   "outputs": [
    {
     "name": "stderr",
     "output_type": "stream",
     "text": [
      "/Users/davidbruce/opt/anaconda3/envs/learn-env/lib/python3.6/site-packages/ipykernel_launcher.py:2: SettingWithCopyWarning: \n",
      "A value is trying to be set on a copy of a slice from a DataFrame.\n",
      "Try using .loc[row_indexer,col_indexer] = value instead\n",
      "\n",
      "See the caveats in the documentation: http://pandas.pydata.org/pandas-docs/stable/user_guide/indexing.html#returning-a-view-versus-a-copy\n",
      "  \n"
     ]
    }
   ],
   "source": [
    "# Cumulative Worldwide Gross replace NaN with 0\n",
    "df['Cumulative Worldwide Gross'] = df['Cumulative Worldwide Gross'].fillna(0)"
   ]
  },
  {
   "cell_type": "code",
   "execution_count": 24,
   "metadata": {},
   "outputs": [],
   "source": [
    "# Movies from India contain 'INR' substring and need to be converted to USD or dropped\n",
    "INR = df.loc[df['Cumulative Worldwide Gross'].str.contains('INR') == True]\n",
    "NPR = df.loc[df['Cumulative Worldwide Gross'].str.contains('NPR') == True]"
   ]
  },
  {
   "cell_type": "code",
   "execution_count": 25,
   "metadata": {},
   "outputs": [],
   "source": [
    "df = df.drop(df.loc[df['Cumulative Worldwide Gross'].str.contains('INR') == True].index)"
   ]
  },
  {
   "cell_type": "code",
   "execution_count": 26,
   "metadata": {},
   "outputs": [],
   "source": [
    "df = df.drop(df.loc[df['Cumulative Worldwide Gross'].str.contains('NPR') == True].index)"
   ]
  },
  {
   "cell_type": "code",
   "execution_count": 27,
   "metadata": {},
   "outputs": [],
   "source": [
    "def clean_currency(x):\n",
    "    if isinstance(x, str):\n",
    "        x = x.replace('$', '').replace(',', '')\n",
    "        return x\n",
    "    return(x)\n",
    "\n",
    "# df['Cumulative Worldwide Gross'] = df['Cumulative Worldwide Gross'].str.replace(',', '').str.replace('$', '')"
   ]
  },
  {
   "cell_type": "code",
   "execution_count": 28,
   "metadata": {},
   "outputs": [],
   "source": [
    "df['Cumulative Worldwide Gross'] = df['Cumulative Worldwide Gross'].map(lambda x: clean_currency(x))"
   ]
  },
  {
   "cell_type": "code",
   "execution_count": 29,
   "metadata": {},
   "outputs": [],
   "source": [
    "df['Cumulative Worldwide Gross'] = pd.to_numeric(df['Cumulative Worldwide Gross'])"
   ]
  },
  {
   "cell_type": "code",
   "execution_count": 30,
   "metadata": {},
   "outputs": [
    {
     "data": {
      "text/plain": [
       "0     1670401444\n",
       "2      284139100\n",
       "8     1025467803\n",
       "9        2704326\n",
       "12       1424100\n",
       "Name: Cumulative Worldwide Gross, dtype: int64"
      ]
     },
     "execution_count": 30,
     "metadata": {},
     "output_type": "execute_result"
    }
   ],
   "source": [
    "df['Cumulative Worldwide Gross'][:5]"
   ]
  },
  {
   "cell_type": "code",
   "execution_count": 31,
   "metadata": {},
   "outputs": [],
   "source": [
    "# Gross USA \n",
    "df['Gross USA'] = df['Gross USA'].fillna(0)"
   ]
  },
  {
   "cell_type": "code",
   "execution_count": 32,
   "metadata": {},
   "outputs": [],
   "source": [
    "df['Gross USA'] = df['Gross USA'].map(lambda x: clean_currency(x))"
   ]
  },
  {
   "cell_type": "code",
   "execution_count": 33,
   "metadata": {},
   "outputs": [],
   "source": [
    "df['Gross USA'] = pd.to_numeric(df['Gross USA'])"
   ]
  },
  {
   "cell_type": "code",
   "execution_count": 34,
   "metadata": {},
   "outputs": [
    {
     "data": {
      "text/plain": [
       "0     652270625\n",
       "2      73078100\n",
       "8     334191110\n",
       "9             0\n",
       "12            0\n",
       "Name: Gross USA, dtype: int64"
      ]
     },
     "execution_count": 34,
     "metadata": {},
     "output_type": "execute_result"
    }
   ],
   "source": [
    "df['Gross USA'][:5]"
   ]
  },
  {
   "cell_type": "code",
   "execution_count": 35,
   "metadata": {},
   "outputs": [],
   "source": [
    "# Opening Weekend USA\n",
    "df['Opening Weekend USA'] = df['Opening Weekend USA'].fillna(0)"
   ]
  },
  {
   "cell_type": "code",
   "execution_count": 36,
   "metadata": {},
   "outputs": [],
   "source": [
    "df['Opening Weekend USA'] = df['Opening Weekend USA'].map(lambda x: clean_currency(x))"
   ]
  },
  {
   "cell_type": "code",
   "execution_count": 37,
   "metadata": {},
   "outputs": [],
   "source": [
    "df['Opening Weekend USA'] = pd.to_numeric(df['Opening Weekend USA'])"
   ]
  },
  {
   "cell_type": "code",
   "execution_count": 38,
   "metadata": {},
   "outputs": [
    {
     "data": {
      "text/plain": [
       "0     208806270\n",
       "2      30180188\n",
       "8     116101023\n",
       "9             0\n",
       "12            0\n",
       "Name: Opening Weekend USA, dtype: int64"
      ]
     },
     "execution_count": 38,
     "metadata": {},
     "output_type": "execute_result"
    }
   ],
   "source": [
    "df['Opening Weekend USA'][:5]"
   ]
  },
  {
   "cell_type": "code",
   "execution_count": 46,
   "metadata": {},
   "outputs": [
    {
     "data": {
      "text/plain": [
       "(9437, 16)"
      ]
     },
     "execution_count": 46,
     "metadata": {},
     "output_type": "execute_result"
    }
   ],
   "source": [
    "df.shape"
   ]
  },
  {
   "cell_type": "code",
   "execution_count": 40,
   "metadata": {},
   "outputs": [
    {
     "data": {
      "text/plain": [
       "0        $150,000,000\n",
       "2        $250,000,000\n",
       "8        $200,000,000\n",
       "9                 NaN\n",
       "12                NaN\n",
       "             ...     \n",
       "49766             NaN\n",
       "49768      $1,500,000\n",
       "49774     $20,000,000\n",
       "49775             NaN\n",
       "49780             NaN\n",
       "Name: Budget, Length: 9437, dtype: object"
      ]
     },
     "execution_count": 40,
     "metadata": {},
     "output_type": "execute_result"
    }
   ],
   "source": [
    "df.Budget"
   ]
  },
  {
   "cell_type": "code",
   "execution_count": 41,
   "metadata": {},
   "outputs": [],
   "source": [
    "df['Budget'] = df['Budget'].map(lambda x: clean_currency(x))"
   ]
  },
  {
   "cell_type": "code",
   "execution_count": 105,
   "metadata": {},
   "outputs": [],
   "source": [
    "df['Budget'] = df['Budget'].fillna('0')"
   ]
  },
  {
   "cell_type": "code",
   "execution_count": 127,
   "metadata": {},
   "outputs": [],
   "source": [
    "def find_currencies(x):\n",
    "    currencies = []\n",
    "    for i in x:\n",
    "        if i[:3].isalpha():\n",
    "            currencies.append(i[:3])\n",
    "    return np.unique(currencies)"
   ]
  },
  {
   "cell_type": "code",
   "execution_count": 128,
   "metadata": {},
   "outputs": [],
   "source": [
    "budget_curr = df['Budget'].tolist()"
   ]
  },
  {
   "cell_type": "code",
   "execution_count": 132,
   "metadata": {},
   "outputs": [],
   "source": [
    "list_of_curr = find_currencies(budget_curr).tolist()"
   ]
  },
  {
   "cell_type": "code",
   "execution_count": 134,
   "metadata": {},
   "outputs": [
    {
     "data": {
      "text/plain": [
       "['ARS',\n",
       " 'AUD',\n",
       " 'BGL',\n",
       " 'BRL',\n",
       " 'CAD',\n",
       " 'CHF',\n",
       " 'CLP',\n",
       " 'CNY',\n",
       " 'COP',\n",
       " 'CZK',\n",
       " 'DKK',\n",
       " 'EEK',\n",
       " 'EGP',\n",
       " 'EUR',\n",
       " 'GBP',\n",
       " 'HKD',\n",
       " 'HUF',\n",
       " 'IDR',\n",
       " 'INR',\n",
       " 'ISK',\n",
       " 'ITL',\n",
       " 'JPY',\n",
       " 'KRW',\n",
       " 'LTL',\n",
       " 'LVL',\n",
       " 'MXN',\n",
       " 'MYR',\n",
       " 'NGN',\n",
       " 'NOK',\n",
       " 'NZD',\n",
       " 'PEN',\n",
       " 'PHP',\n",
       " 'PKR',\n",
       " 'PLN',\n",
       " 'RUR',\n",
       " 'SEK',\n",
       " 'SGD',\n",
       " 'THB',\n",
       " 'TRL',\n",
       " 'TWD',\n",
       " 'UAH',\n",
       " 'VEB',\n",
       " 'ZAR']"
      ]
     },
     "execution_count": 134,
     "metadata": {},
     "output_type": "execute_result"
    }
   ],
   "source": [
    "list_of_curr"
   ]
  },
  {
   "cell_type": "code",
   "execution_count": 45,
   "metadata": {},
   "outputs": [],
   "source": [
    "def conversion_rates(x):\n",
    "    #if x[:3] == 'EUR':\n",
    "        # left strip x and multiply by conversion rate for EUR\n",
    "    # if x[:3] == 'INR':\n",
    "        # left strip x and multiply by conversion rate for INR\n",
    "    pass"
   ]
  },
  {
   "cell_type": "code",
   "execution_count": 115,
   "metadata": {},
   "outputs": [
    {
     "data": {
      "text/plain": [
       "0           150000000\n",
       "2           250000000\n",
       "8           200000000\n",
       "9                   0\n",
       "12                  0\n",
       "16           52000000\n",
       "20          125000000\n",
       "22           27000000\n",
       "24            5000000\n",
       "27                  0\n",
       "29           35000000\n",
       "37                  0\n",
       "39                  0\n",
       "41           25000000\n",
       "50                  0\n",
       "51           20000000\n",
       "52              60000\n",
       "54      INR1900000000\n",
       "55           45000000\n",
       "58                  0\n",
       "59             130000\n",
       "63         EUR2870000\n",
       "65            4500000\n",
       "67          105000000\n",
       "68           50000000\n",
       "72                  0\n",
       "76         EUR5500000\n",
       "77           30000000\n",
       "78          EUR200000\n",
       "79          135000000\n",
       "81                  0\n",
       "86                  0\n",
       "88                  0\n",
       "91                  0\n",
       "94                  0\n",
       "96         GBP4000000\n",
       "99                  0\n",
       "105                 0\n",
       "107     JPY1000000000\n",
       "108                 0\n",
       "109          20000000\n",
       "110                 0\n",
       "113                 0\n",
       "119                 0\n",
       "130                 0\n",
       "132                 0\n",
       "134           4800000\n",
       "136           8000000\n",
       "139    KRW30000000000\n",
       "141                 0\n",
       "Name: Budget, dtype: object"
      ]
     },
     "execution_count": 115,
     "metadata": {},
     "output_type": "execute_result"
    }
   ],
   "source": [
    "df['Budget'].head(50)"
   ]
  },
  {
   "cell_type": "code",
   "execution_count": null,
   "metadata": {},
   "outputs": [],
   "source": []
  }
 ],
 "metadata": {
  "kernelspec": {
   "display_name": "learn-env",
   "language": "python",
   "name": "learn-env"
  },
  "language_info": {
   "codemirror_mode": {
    "name": "ipython",
    "version": 3
   },
   "file_extension": ".py",
   "mimetype": "text/x-python",
   "name": "python",
   "nbconvert_exporter": "python",
   "pygments_lexer": "ipython3",
   "version": "3.6.9"
  }
 },
 "nbformat": 4,
 "nbformat_minor": 4
}
