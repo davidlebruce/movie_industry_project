{
 "cells": [
  {
   "cell_type": "markdown",
   "metadata": {},
   "source": [
    "## Final Project Submission\n",
    "\n",
    "Please fill out:\n",
    "* Student name: \n",
    "* Student pace: self paced / part time / full time\n",
    "* Scheduled project review date/time: \n",
    "* Instructor name: \n",
    "* Blog post URL:\n"
   ]
  },
  {
   "cell_type": "code",
   "execution_count": 1,
   "metadata": {},
   "outputs": [],
   "source": [
    "import pandas as pd\n",
    "import matplotlib.pyplot as plt"
   ]
  },
  {
   "cell_type": "code",
   "execution_count": 2,
   "metadata": {},
   "outputs": [],
   "source": [
    "bom = pd.read_csv(\"zippedData/bom.movie_gross.csv.gz\")"
   ]
  },
  {
   "cell_type": "code",
   "execution_count": 3,
   "metadata": {},
   "outputs": [],
   "source": [
    "imdb1 = pd.read_csv(\"zippedData/imdb.name.basics.csv.gz\")\n",
    "imdb2 = pd.read_csv(\"zippedData/imdb.title.akas.csv.gz\")\n",
    "imdb3 = pd.read_csv(\"zippedData/imdb.title.basics.csv.gz\")\n",
    "imdb4 = pd.read_csv(\"zippedData/imdb.title.crew.csv.gz\")\n",
    "imdb5 = pd.read_csv(\"zippedData/imdb.title.principals.csv.gz\")\n",
    "imdb6 = pd.read_csv(\"zippedData/imdb.title.ratings.csv.gz\")"
   ]
  },
  {
   "cell_type": "code",
   "execution_count": 4,
   "metadata": {},
   "outputs": [],
   "source": [
    "rt1 = pd.read_csv(\"zippedData/rt.movie_info.tsv.gz\", sep='\\t', encoding = 'unicode_escape')\n",
    "rt1 = pd.read_csv(\"zippedData/rt.reviews.tsv.gz\", sep='\\t', encoding = 'unicode_escape')"
   ]
  },
  {
   "cell_type": "code",
   "execution_count": 5,
   "metadata": {},
   "outputs": [],
   "source": [
    "tmbd = pd.read_csv(\"zippedData/tmdb.movies.csv.gz\")"
   ]
  },
  {
   "cell_type": "code",
   "execution_count": 6,
   "metadata": {},
   "outputs": [],
   "source": [
    "tn = pd.read_csv(\"zippedData/tn.movie_budgets.csv.gz\")"
   ]
  },
  {
   "cell_type": "code",
   "execution_count": null,
   "metadata": {},
   "outputs": [],
   "source": []
  }
 ],
 "metadata": {
  "kernelspec": {
   "display_name": "Python 3",
   "language": "python",
   "name": "python3"
  },
  "language_info": {
   "codemirror_mode": {
    "name": "ipython",
    "version": 3
   },
   "file_extension": ".py",
   "mimetype": "text/x-python",
   "name": "python",
   "nbconvert_exporter": "python",
   "pygments_lexer": "ipython3",
   "version": "3.6.9"
  }
 },
 "nbformat": 4,
 "nbformat_minor": 2
}
