{
 "cells": [
  {
   "cell_type": "code",
   "execution_count": 202,
   "metadata": {},
   "outputs": [],
   "source": [
    "import pandas as pd\n",
    "import numpy as np\n",
    "from bs4 import BeautifulSoup\n",
    "import requests\n",
    "import time"
   ]
  },
  {
   "cell_type": "code",
   "execution_count": 185,
   "metadata": {},
   "outputs": [],
   "source": [
    "imdb2 = pd.read_csv(\"zippedData/imdb.title.akas.csv.gz\")"
   ]
  },
  {
   "cell_type": "code",
   "execution_count": 186,
   "metadata": {},
   "outputs": [
    {
     "data": {
      "text/plain": [
       "122302"
      ]
     },
     "execution_count": 186,
     "metadata": {},
     "output_type": "execute_result"
    }
   ],
   "source": [
    "imdb2.drop_duplicates(subset=['title_id'], inplace=True)\n",
    "title_id_list =imdb2['title_id'].to_list()\n",
    "len(title_id_list)"
   ]
  },
  {
   "cell_type": "code",
   "execution_count": 228,
   "metadata": {},
   "outputs": [],
   "source": [
    "search_area = title_id_list\n",
    "search = search_area[33737:]"
   ]
  },
  {
   "cell_type": "code",
   "execution_count": 229,
   "metadata": {},
   "outputs": [],
   "source": [
    "\n",
    "\n",
    "\n",
    "def scraper(title_id):\n",
    "    \n",
    "    \n",
    "    \n",
    "    info = {\n",
    "        'title_id': title_id,\n",
    "        'Country': np.nan,\n",
    "        'Budget': np.nan,\n",
    "        'Opening Weekend USA': np.nan,\n",
    "        'Gross USA' : np.nan,\n",
    "        'Cumulative Worldwide Gross': np.nan,\n",
    "        'Runtime': np.nan\n",
    "    }\n",
    "    \n",
    "   \n",
    "    try:\n",
    "        page = requests.get(f\"https://www.imdb.com/title/{title_id}/\")\n",
    "        soup = BeautifulSoup(page.content, 'html.parser')\n",
    "    except:\n",
    "        pass\n",
    "        \n",
    "    categories = soup.find_all('h4', class_=\"inline\")\n",
    "\n",
    "    cat_list = []\n",
    "    for cat in categories:\n",
    "        cat_list.append(cat.text)\n",
    "\n",
    "    \n",
    "    for i in categories:\n",
    "        if i.text == 'Country:':\n",
    "            info['Country'] = i.next_element.next_element.next_element.text.strip()\n",
    "            \n",
    "        if i.text == 'Budget:':\n",
    "            info['Budget'] = i.next_element.next_element.strip()\n",
    "        if i.text == 'Opening Weekend USA:':\n",
    "            info['Opening Weekend USA'] = i.next_element.next_element.strip()\n",
    "        if i.text == 'Gross USA:':\n",
    "            info['Gross USA'] = i.next_element.next_element.strip()\n",
    "        if i.text == 'Cumulative Worldwide Gross:':\n",
    "            info['Cumulative Worldwide Gross'] = i.next_element.next_element.strip()\n",
    "        if i.text == 'Runtime:':\n",
    "            info['Runtime'] = i.next_element.next_element.next_element.text.strip()\n",
    "        \n",
    "        \n",
    "        \n",
    "        \n",
    "    return info\n"
   ]
  },
  {
   "cell_type": "code",
   "execution_count": 230,
   "metadata": {
    "scrolled": true
   },
   "outputs": [
    {
     "data": {
      "text/plain": [
       "{'title_id': 'tt1220221',\n",
       " 'Country': 'USA',\n",
       " 'Budget': '$2,000,000',\n",
       " 'Opening Weekend USA': nan,\n",
       " 'Gross USA': nan,\n",
       " 'Cumulative Worldwide Gross': nan,\n",
       " 'Runtime': '123 min'}"
      ]
     },
     "execution_count": 230,
     "metadata": {},
     "output_type": "execute_result"
    }
   ],
   "source": [
    "scraper('tt1220221')"
   ]
  },
  {
   "cell_type": "code",
   "execution_count": 231,
   "metadata": {},
   "outputs": [
    {
     "ename": "UnboundLocalError",
     "evalue": "local variable 'soup' referenced before assignment",
     "output_type": "error",
     "traceback": [
      "\u001b[0;31m---------------------------------------------------------------------------\u001b[0m",
      "\u001b[0;31mUnboundLocalError\u001b[0m                         Traceback (most recent call last)",
      "\u001b[0;32m<ipython-input-231-b2ba1e150146>\u001b[0m in \u001b[0;36m<module>\u001b[0;34m()\u001b[0m\n\u001b[1;32m      1\u001b[0m \u001b[0mfinal_list\u001b[0m \u001b[0;34m=\u001b[0m \u001b[0;34m[\u001b[0m\u001b[0;34m]\u001b[0m\u001b[0;34m\u001b[0m\u001b[0;34m\u001b[0m\u001b[0m\n\u001b[1;32m      2\u001b[0m \u001b[0;32mfor\u001b[0m \u001b[0mi\u001b[0m \u001b[0;32min\u001b[0m \u001b[0msearch\u001b[0m\u001b[0;34m:\u001b[0m\u001b[0;34m\u001b[0m\u001b[0;34m\u001b[0m\u001b[0m\n\u001b[0;32m----> 3\u001b[0;31m     \u001b[0mfinal_list\u001b[0m\u001b[0;34m.\u001b[0m\u001b[0mappend\u001b[0m\u001b[0;34m(\u001b[0m\u001b[0mscraper\u001b[0m\u001b[0;34m(\u001b[0m\u001b[0mi\u001b[0m\u001b[0;34m)\u001b[0m\u001b[0;34m)\u001b[0m\u001b[0;34m\u001b[0m\u001b[0;34m\u001b[0m\u001b[0m\n\u001b[0m",
      "\u001b[0;32m<ipython-input-229-5b75b905b29f>\u001b[0m in \u001b[0;36mscraper\u001b[0;34m(title_id)\u001b[0m\n\u001b[1;32m     23\u001b[0m         \u001b[0;32mpass\u001b[0m\u001b[0;34m\u001b[0m\u001b[0;34m\u001b[0m\u001b[0m\n\u001b[1;32m     24\u001b[0m \u001b[0;34m\u001b[0m\u001b[0m\n\u001b[0;32m---> 25\u001b[0;31m     \u001b[0mcategories\u001b[0m \u001b[0;34m=\u001b[0m \u001b[0msoup\u001b[0m\u001b[0;34m.\u001b[0m\u001b[0mfind_all\u001b[0m\u001b[0;34m(\u001b[0m\u001b[0;34m'h4'\u001b[0m\u001b[0;34m,\u001b[0m \u001b[0mclass_\u001b[0m\u001b[0;34m=\u001b[0m\u001b[0;34m\"inline\"\u001b[0m\u001b[0;34m)\u001b[0m\u001b[0;34m\u001b[0m\u001b[0;34m\u001b[0m\u001b[0m\n\u001b[0m\u001b[1;32m     26\u001b[0m \u001b[0;34m\u001b[0m\u001b[0m\n\u001b[1;32m     27\u001b[0m     \u001b[0mcat_list\u001b[0m \u001b[0;34m=\u001b[0m \u001b[0;34m[\u001b[0m\u001b[0;34m]\u001b[0m\u001b[0;34m\u001b[0m\u001b[0;34m\u001b[0m\u001b[0m\n",
      "\u001b[0;31mUnboundLocalError\u001b[0m: local variable 'soup' referenced before assignment"
     ]
    }
   ],
   "source": [
    "final_list = []\n",
    "for i in search:\n",
    "    final_list.append(scraper(i))"
   ]
  },
  {
   "cell_type": "code",
   "execution_count": 232,
   "metadata": {},
   "outputs": [
    {
     "data": {
      "text/plain": [
       "16120"
      ]
     },
     "execution_count": 232,
     "metadata": {},
     "output_type": "execute_result"
    }
   ],
   "source": [
    "len(final_list)"
   ]
  },
  {
   "cell_type": "code",
   "execution_count": 227,
   "metadata": {},
   "outputs": [],
   "source": [
    "df = pd.DataFrame(final_list)\n",
    "df.to_csv('imdb_monetary_data__.csv')"
   ]
  }
 ],
 "metadata": {
  "kernelspec": {
   "display_name": "learn-env",
   "language": "python",
   "name": "learn-env"
  },
  "language_info": {
   "codemirror_mode": {
    "name": "ipython",
    "version": 3
   },
   "file_extension": ".py",
   "mimetype": "text/x-python",
   "name": "python",
   "nbconvert_exporter": "python",
   "pygments_lexer": "ipython3",
   "version": "3.6.9"
  }
 },
 "nbformat": 4,
 "nbformat_minor": 4
}
