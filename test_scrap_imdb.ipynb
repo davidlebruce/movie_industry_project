{
 "cells": [
  {
   "cell_type": "code",
   "execution_count": 1,
   "metadata": {},
   "outputs": [],
   "source": [
    "import pandas as pd\n",
    "import numpy as np\n",
    "from bs4 import BeautifulSoup\n",
    "import requests"
   ]
  },
  {
   "cell_type": "code",
   "execution_count": 2,
   "metadata": {},
   "outputs": [],
   "source": [
    "\n",
    "\n",
    "imdb2 = pd.read_csv(\"zippedData/imdb.title.akas.csv.gz\")"
   ]
  },
  {
   "cell_type": "code",
   "execution_count": 97,
   "metadata": {},
   "outputs": [
    {
     "data": {
      "text/html": [
       "<div>\n",
       "<style scoped>\n",
       "    .dataframe tbody tr th:only-of-type {\n",
       "        vertical-align: middle;\n",
       "    }\n",
       "\n",
       "    .dataframe tbody tr th {\n",
       "        vertical-align: top;\n",
       "    }\n",
       "\n",
       "    .dataframe thead th {\n",
       "        text-align: right;\n",
       "    }\n",
       "</style>\n",
       "<table border=\"1\" class=\"dataframe\">\n",
       "  <thead>\n",
       "    <tr style=\"text-align: right;\">\n",
       "      <th></th>\n",
       "      <th>title_id</th>\n",
       "      <th>ordering</th>\n",
       "      <th>title</th>\n",
       "      <th>region</th>\n",
       "      <th>language</th>\n",
       "      <th>types</th>\n",
       "      <th>attributes</th>\n",
       "      <th>is_original_title</th>\n",
       "    </tr>\n",
       "  </thead>\n",
       "  <tbody>\n",
       "    <tr>\n",
       "      <th>0</th>\n",
       "      <td>tt0369610</td>\n",
       "      <td>10</td>\n",
       "      <td>Джурасик свят</td>\n",
       "      <td>BG</td>\n",
       "      <td>bg</td>\n",
       "      <td>NaN</td>\n",
       "      <td>NaN</td>\n",
       "      <td>0.0</td>\n",
       "    </tr>\n",
       "    <tr>\n",
       "      <th>48</th>\n",
       "      <td>tt0381957</td>\n",
       "      <td>1</td>\n",
       "      <td>Cloud Cuckoo Land</td>\n",
       "      <td>GB</td>\n",
       "      <td>NaN</td>\n",
       "      <td>NaN</td>\n",
       "      <td>NaN</td>\n",
       "      <td>0.0</td>\n",
       "    </tr>\n",
       "    <tr>\n",
       "      <th>49</th>\n",
       "      <td>tt0401729</td>\n",
       "      <td>10</td>\n",
       "      <td>Джон Картер: Мiж двох свiтiв</td>\n",
       "      <td>UA</td>\n",
       "      <td>NaN</td>\n",
       "      <td>NaN</td>\n",
       "      <td>NaN</td>\n",
       "      <td>0.0</td>\n",
       "    </tr>\n",
       "    <tr>\n",
       "      <th>83</th>\n",
       "      <td>tt10010134</td>\n",
       "      <td>1</td>\n",
       "      <td>Versailles Rediscovered - The Sun King's Vanis...</td>\n",
       "      <td>NaN</td>\n",
       "      <td>NaN</td>\n",
       "      <td>original</td>\n",
       "      <td>NaN</td>\n",
       "      <td>1.0</td>\n",
       "    </tr>\n",
       "    <tr>\n",
       "      <th>86</th>\n",
       "      <td>tt10027708</td>\n",
       "      <td>1</td>\n",
       "      <td>Miguelito - Canto a Borinquen</td>\n",
       "      <td>NaN</td>\n",
       "      <td>NaN</td>\n",
       "      <td>original</td>\n",
       "      <td>NaN</td>\n",
       "      <td>1.0</td>\n",
       "    </tr>\n",
       "    <tr>\n",
       "      <th>...</th>\n",
       "      <td>...</td>\n",
       "      <td>...</td>\n",
       "      <td>...</td>\n",
       "      <td>...</td>\n",
       "      <td>...</td>\n",
       "      <td>...</td>\n",
       "      <td>...</td>\n",
       "      <td>...</td>\n",
       "    </tr>\n",
       "    <tr>\n",
       "      <th>331689</th>\n",
       "      <td>tt9723084</td>\n",
       "      <td>1</td>\n",
       "      <td>Anderswo. Allein in Afrika</td>\n",
       "      <td>DE</td>\n",
       "      <td>NaN</td>\n",
       "      <td>imdbDisplay</td>\n",
       "      <td>NaN</td>\n",
       "      <td>0.0</td>\n",
       "    </tr>\n",
       "    <tr>\n",
       "      <th>331691</th>\n",
       "      <td>tt9726638</td>\n",
       "      <td>1</td>\n",
       "      <td>Qi Tian Da Sheng 2</td>\n",
       "      <td>CN</td>\n",
       "      <td>yue</td>\n",
       "      <td>imdbDisplay</td>\n",
       "      <td>NaN</td>\n",
       "      <td>0.0</td>\n",
       "    </tr>\n",
       "    <tr>\n",
       "      <th>331694</th>\n",
       "      <td>tt9755806</td>\n",
       "      <td>1</td>\n",
       "      <td>Big Shark</td>\n",
       "      <td>US</td>\n",
       "      <td>NaN</td>\n",
       "      <td>NaN</td>\n",
       "      <td>NaN</td>\n",
       "      <td>0.0</td>\n",
       "    </tr>\n",
       "    <tr>\n",
       "      <th>331697</th>\n",
       "      <td>tt9827784</td>\n",
       "      <td>1</td>\n",
       "      <td>Sayonara kuchibiru</td>\n",
       "      <td>JP</td>\n",
       "      <td>NaN</td>\n",
       "      <td>NaN</td>\n",
       "      <td>NaN</td>\n",
       "      <td>0.0</td>\n",
       "    </tr>\n",
       "    <tr>\n",
       "      <th>331700</th>\n",
       "      <td>tt9880178</td>\n",
       "      <td>1</td>\n",
       "      <td>La atención</td>\n",
       "      <td>NaN</td>\n",
       "      <td>NaN</td>\n",
       "      <td>original</td>\n",
       "      <td>NaN</td>\n",
       "      <td>1.0</td>\n",
       "    </tr>\n",
       "  </tbody>\n",
       "</table>\n",
       "<p>122302 rows × 8 columns</p>\n",
       "</div>"
      ],
      "text/plain": [
       "          title_id  ordering  \\\n",
       "0        tt0369610        10   \n",
       "48       tt0381957         1   \n",
       "49       tt0401729        10   \n",
       "83      tt10010134         1   \n",
       "86      tt10027708         1   \n",
       "...            ...       ...   \n",
       "331689   tt9723084         1   \n",
       "331691   tt9726638         1   \n",
       "331694   tt9755806         1   \n",
       "331697   tt9827784         1   \n",
       "331700   tt9880178         1   \n",
       "\n",
       "                                                    title region language  \\\n",
       "0                                           Джурасик свят     BG       bg   \n",
       "48                                      Cloud Cuckoo Land     GB      NaN   \n",
       "49                           Джон Картер: Мiж двох свiтiв     UA      NaN   \n",
       "83      Versailles Rediscovered - The Sun King's Vanis...    NaN      NaN   \n",
       "86                          Miguelito - Canto a Borinquen    NaN      NaN   \n",
       "...                                                   ...    ...      ...   \n",
       "331689                         Anderswo. Allein in Afrika     DE      NaN   \n",
       "331691                                 Qi Tian Da Sheng 2     CN      yue   \n",
       "331694                                          Big Shark     US      NaN   \n",
       "331697                                 Sayonara kuchibiru     JP      NaN   \n",
       "331700                                        La atención    NaN      NaN   \n",
       "\n",
       "              types attributes  is_original_title  \n",
       "0               NaN        NaN                0.0  \n",
       "48              NaN        NaN                0.0  \n",
       "49              NaN        NaN                0.0  \n",
       "83         original        NaN                1.0  \n",
       "86         original        NaN                1.0  \n",
       "...             ...        ...                ...  \n",
       "331689  imdbDisplay        NaN                0.0  \n",
       "331691  imdbDisplay        NaN                0.0  \n",
       "331694          NaN        NaN                0.0  \n",
       "331697          NaN        NaN                0.0  \n",
       "331700     original        NaN                1.0  \n",
       "\n",
       "[122302 rows x 8 columns]"
      ]
     },
     "execution_count": 97,
     "metadata": {},
     "output_type": "execute_result"
    }
   ],
   "source": [
    "imdb2.drop_duplicates(subset=['title_id'])"
   ]
  },
  {
   "cell_type": "code",
   "execution_count": 191,
   "metadata": {},
   "outputs": [],
   "source": [
    "\n",
    "\n",
    "\n",
    "def scraper(title_id):\n",
    "    \n",
    "    try:\n",
    "        page = requests.get(f\"https://www.imdb.com/title/{title_id}/\")\n",
    "        soup = BeautifulSoup(page.content, 'html.parser')\n",
    "    except:\n",
    "        pass\n",
    "        \n",
    "    categories = soup.find_all('h4', class_=\"inline\")\n",
    "\n",
    "    cat_list = []\n",
    "    for cat in categories:\n",
    "        cat_list.append(cat.text)\n",
    "\n",
    "    \n",
    "    for i in categories:\n",
    "        if i.text == 'Country:':\n",
    "            print(i.text, i.next_element.next_element.next_element.text.strip())\n",
    "        if i.text == 'Budget:':\n",
    "            print(i.text, i.next_element.next_element.strip())\n",
    "        if i.text == 'Opening Weekend USA:':\n",
    "            print(i.text, i.next_element.next_element.strip())\n",
    "        if i.text == 'Gross USA:':\n",
    "            print(i.text, i.next_element.next_element.strip())\n",
    "        if i.text == 'Cumulative Worldwide Gross:':\n",
    "            print(i.text, i.next_element.next_element.strip())\n",
    "        if i.text == 'Runtime:':\n",
    "            print(i.text, i.next_element.next_element.next_element.text.strip()) \n",
    "        \n",
    "        \n",
    "        \n",
    "        \n",
    "    #return soup\n"
   ]
  },
  {
   "cell_type": "code",
   "execution_count": 192,
   "metadata": {},
   "outputs": [
    {
     "name": "stdout",
     "output_type": "stream",
     "text": [
      "Country: Spain\n",
      "Budget: EUR64,000\n",
      "Runtime: 61 min\n"
     ]
    }
   ],
   "source": [
    "scraper('tt9880178')"
   ]
  },
  {
   "cell_type": "code",
   "execution_count": 5,
   "metadata": {},
   "outputs": [
    {
     "ename": "SyntaxError",
     "evalue": "Missing parentheses in call to 'print'. Did you mean print(title, genres,runtime, rating, year)? (<ipython-input-5-7907c7e69dde>, line 7)",
     "output_type": "error",
     "traceback": [
      "\u001b[0;36m  File \u001b[0;32m\"<ipython-input-5-7907c7e69dde>\"\u001b[0;36m, line \u001b[0;32m7\u001b[0m\n\u001b[0;31m    print title, genres,runtime, rating, year\u001b[0m\n\u001b[0m              ^\u001b[0m\n\u001b[0;31mSyntaxError\u001b[0m\u001b[0;31m:\u001b[0m Missing parentheses in call to 'print'. Did you mean print(title, genres,runtime, rating, year)?\n"
     ]
    }
   ],
   "source": [
    "for category in soup.find(id='content-2-wide'):\n",
    "    title = category.find('a').contents[0]\n",
    "    genres = movie.find('span','genre').findAll('a')\n",
    "    genres = [g.contents[0] for g in genres]\n",
    "    runtime = movie.find('span','runtime').contents[0]\n",
    "    year = movie.find('span','year_type').contents[0]\n",
    "    print title, genres,runtime, rating, year"
   ]
  },
  {
   "cell_type": "code",
   "execution_count": 184,
   "metadata": {},
   "outputs": [],
   "source": [
    "page = requests.get(f\"https://www.imdb.com/title/tt1853728/\")\n",
    "soup = BeautifulSoup(page.content, 'html.parser')"
   ]
  },
  {
   "cell_type": "code",
   "execution_count": 185,
   "metadata": {},
   "outputs": [],
   "source": [
    "categories = soup.find_all('h4', class_=\"inline\")"
   ]
  },
  {
   "cell_type": "code",
   "execution_count": 186,
   "metadata": {},
   "outputs": [
    {
     "data": {
      "text/plain": [
       "[<h4 class=\"inline\">Director:</h4>,\n",
       " <h4 class=\"inline\">Writer:</h4>,\n",
       " <h4 class=\"inline\">Stars:</h4>,\n",
       " <h4 class=\"inline\">Plot Keywords:</h4>,\n",
       " <h4 class=\"inline\">Taglines:</h4>,\n",
       " <h4 class=\"inline\">Genres:</h4>,\n",
       " <h4 class=\"inline\">Parents Guide:</h4>,\n",
       " <h4 class=\"inline\">Official Sites:</h4>,\n",
       " <h4 class=\"inline\">Country:</h4>,\n",
       " <h4 class=\"inline\">Language:</h4>,\n",
       " <h4 class=\"inline\">Release Date:</h4>,\n",
       " <h4 class=\"inline\">Also Known As:</h4>,\n",
       " <h4 class=\"inline\">Filming Locations:</h4>,\n",
       " <h4 class=\"inline\">Budget:</h4>,\n",
       " <h4 class=\"inline\">Opening Weekend USA:</h4>,\n",
       " <h4 class=\"inline\">Gross USA:</h4>,\n",
       " <h4 class=\"inline\">Cumulative Worldwide Gross:</h4>,\n",
       " <h4 class=\"inline\">Production Co:</h4>,\n",
       " <h4 class=\"inline\">Runtime:</h4>,\n",
       " <h4 class=\"inline\">Sound Mix:</h4>,\n",
       " <h4 class=\"inline\">Color:</h4>,\n",
       " <h4 class=\"inline\">Aspect Ratio:</h4>]"
      ]
     },
     "execution_count": 186,
     "metadata": {},
     "output_type": "execute_result"
    }
   ],
   "source": [
    "categories"
   ]
  },
  {
   "cell_type": "code",
   "execution_count": 187,
   "metadata": {},
   "outputs": [],
   "source": [
    "cat_list = []\n",
    "for cat in categories:\n",
    "    cat_list.append(cat.text)"
   ]
  },
  {
   "cell_type": "code",
   "execution_count": 188,
   "metadata": {},
   "outputs": [
    {
     "name": "stdout",
     "output_type": "stream",
     "text": [
      "Country: USA\n",
      "Budget: $100,000,000\n",
      "Opening Weekend USA: $30,122,888,\n",
      "Gross USA: $162,805,434\n",
      "Cumulative Worldwide Gross: $425,368,238\n",
      "Runtime: 165 min\n"
     ]
    }
   ],
   "source": [
    "for i in categories:\n",
    "    if i.text == 'Country:':\n",
    "        print(i.text, i.next_element.next_element.next_element.text.strip())\n",
    "    if i.text == 'Budget:':\n",
    "        print(i.text, i.next_element.next_element.strip())\n",
    "    if i.text == 'Opening Weekend USA:':\n",
    "        print(i.text, i.next_element.next_element.strip())\n",
    "    if i.text == 'Gross USA:':\n",
    "        print(i.text, i.next_element.next_element.strip())\n",
    "    if i.text == 'Cumulative Worldwide Gross:':\n",
    "        print(i.text, i.next_element.next_element.strip())\n",
    "    if i.text == 'Runtime:':\n",
    "        print(i.text, i.next_element.next_element.next_element.text.strip())\n",
    "    "
   ]
  },
  {
   "cell_type": "code",
   "execution_count": 138,
   "metadata": {},
   "outputs": [
    {
     "data": {
      "text/plain": [
       "'English'"
      ]
     },
     "execution_count": 138,
     "metadata": {},
     "output_type": "execute_result"
    }
   ],
   "source": [
    "categories[9].next_element.next_element.next_element.text"
   ]
  },
  {
   "cell_type": "code",
   "execution_count": 139,
   "metadata": {},
   "outputs": [
    {
     "data": {
      "text/plain": [
       "<h4 class=\"inline\">Release Date:</h4>"
      ]
     },
     "execution_count": 139,
     "metadata": {},
     "output_type": "execute_result"
    }
   ],
   "source": [
    "categories[10]"
   ]
  },
  {
   "cell_type": "code",
   "execution_count": 10,
   "metadata": {},
   "outputs": [
    {
     "data": {
      "text/plain": [
       "<div class=\"article\" id=\"titleDetails\">\n",
       "<span class=\"rightcornerlink\">\n",
       "<a href=\"/register/login?why=edit\" rel=\"login\">Edit</a>\n",
       "</span>\n",
       "<h2>Details</h2>\n",
       "<div class=\"txt-block\">\n",
       "<h4 class=\"inline\">Official Sites:</h4>\n",
       "<a href=\"/offsite/?page-action=offsite-jurassicworld&amp;token=BCYthUmGwfMXCeWTMxEl5kQyUgJWcoXd3ru3ggutAvLjqsJhQPNamtV0NfX7Hp9nG--pW9mPddow%0D%0Aj1AuUELObv3ShXygvA6oErVYV30yALdT75dyHB3ViJ_QBp8KYPSwIvoPaofIU7QrcmQMHNaB0gbz%0D%0AqjAMnk-s6BKNT6XkKLhsDkPQgrwNRmGaBW5ewy_KGvQo3w23pxNU_ihayEtB_osO6txJ32LvppPk%0D%0AbMUSwxJAAw4%0D%0A\" rel=\"nofollow\">Official site</a>\n",
       "<span class=\"ghost\">|</span>\n",
       "<a href=\"/offsite/?page-action=offsite-jurassicworldintl&amp;token=BCYlF_cFUQioKMc-ooMUOoj8z4RPhig4su28nPJ9HFqV0hZ-3-oYlwbfgUoHVyt-X6ZrQs0i1S80%0D%0A33hMoEtMySXS2m9HQOKEZv6YTAO-efXvv2reeXMyYhXPaRdDC5z0pMOY39M1trdDoHvSUm8R2AHb%0D%0AQpQ2i6d9_Y-5WR2F0olNeT9BoXIWCOqDsZq_wtYAQWcp4436-km_EjgzB9NoHQmtDmOInmNeV1fG%0D%0AElxn_MoTbps%0D%0A\" rel=\"nofollow\">Official site [France]</a>\n",
       "<span class=\"ghost\">|</span>\n",
       "<span class=\"see-more inline\">\n",
       "<a href=\"externalsites#official\">See more</a> »\n",
       "      </span>\n",
       "</div>\n",
       "<div class=\"txt-block\">\n",
       "<h4 class=\"inline\">Country:</h4>\n",
       "<a href=\"/search/title?country_of_origin=us\">USA</a>\n",
       "</div>\n",
       "<div class=\"txt-block\">\n",
       "<h4 class=\"inline\">Language:</h4>\n",
       "<a href=\"/search/title?title_type=feature&amp;primary_language=en&amp;sort=moviemeter,asc\">English</a>\n",
       "</div>\n",
       "<div class=\"txt-block\">\n",
       "<h4 class=\"inline\">Release Date:</h4> 12 June 2015 (USA)\n",
       "    <span class=\"see-more inline\">\n",
       "<a href=\"releaseinfo\">See more</a> »\n",
       "    </span>\n",
       "</div>\n",
       "<div class=\"txt-block\">\n",
       "<h4 class=\"inline\">Also Known As:</h4> Jurassic Park 4\n",
       "      <span class=\"see-more inline\">\n",
       "<a href=\"releaseinfo#akas\">See more</a> »\n",
       "      </span>\n",
       "</div>\n",
       "<div class=\"txt-block\">\n",
       "<h4 class=\"inline\">Filming Locations:</h4>\n",
       "<a href=\"/search/title?locations=Louisiana,%20USA\">Louisiana, USA</a>\n",
       "<span class=\"see-more inline\">\n",
       "<a href=\"locations\">See more</a> »\n",
       "      </span>\n",
       "</div>\n",
       "<hr/>\n",
       "<span class=\"rightcornerlink\">\n",
       "<a href=\"/register/login?why=edit\" rel=\"login\">Edit</a>\n",
       "</span>\n",
       "<h3 class=\"subheading\">Box Office</h3>\n",
       "<div class=\"txt-block\">\n",
       "<h4 class=\"inline\">Budget:</h4>$150,000,000\n",
       "            <span class=\"attribute\">(estimated)</span>\n",
       "</div>\n",
       "<div class=\"txt-block\">\n",
       "<h4 class=\"inline\">Opening Weekend USA:</h4> $208,806,270,\n",
       "<span class=\"attribute\">14 June 2015</span> </div>\n",
       "<div class=\"txt-block\">\n",
       "<h4 class=\"inline\">Gross USA:</h4> $652,270,625        </div>\n",
       "<div class=\"txt-block\">\n",
       "<h4 class=\"inline\">Cumulative Worldwide Gross:</h4> $1,670,401,444        </div>\n",
       "<span class=\"see-more inline\">\n",
       "<a href=\"https://pro.imdb.com/title/tt0369610?rf=cons_tt_bo_tt\">See more on IMDbPro</a> »\n",
       "    </span>\n",
       "<hr/>\n",
       "<h3 class=\"subheading\">Company Credits</h3>\n",
       "<div class=\"txt-block\">\n",
       "<h4 class=\"inline\">Production Co:</h4>\n",
       "<a href=\"/company/co0005073\"> Universal Pictures</a>,<a href=\"/company/co0009119\"> Amblin Entertainment</a>,<a href=\"/company/co0159111\"> Legendary Entertainment</a> <span class=\"see-more inline\">\n",
       "<a href=\"companycredits\">See more</a> »\n",
       "      </span>\n",
       "</div>\n",
       "<div class=\"txt-block\">\n",
       "  Show more on\n",
       "  <a href=\"https://pro.imdb.com/title/tt0369610/companycredits?rf=cons_tt_cocred_tt\">IMDbPro</a> »\n",
       "  </div>\n",
       "<hr/>\n",
       "<h3 class=\"subheading\">Technical Specs</h3>\n",
       "<div class=\"txt-block\">\n",
       "<h4 class=\"inline\">Runtime:</h4>\n",
       "<time datetime=\"PT124M\">124 min</time>\n",
       "</div>\n",
       "<div class=\"txt-block\">\n",
       "<h4 class=\"inline\">Sound Mix:</h4>\n",
       "<a href=\"/search/title?sound_mixes=dolby_digital\">Dolby Digital</a>\n",
       "<span class=\"ghost\">|</span> <a href=\"/search/title?sound_mixes=datasat\">Datasat</a>\n",
       "<span class=\"ghost\">|</span> <a href=\"/search/title?sound_mixes=dolby_atmos\">Dolby Atmos</a>\n",
       "<span class=\"ghost\">|</span> <a href=\"/search/title?sound_mixes=dolby_surround_7.1\">Dolby Surround 7.1</a>\n",
       "<span class=\"ghost\">|</span> <a href=\"/search/title?sound_mixes=sdds\">SDDS</a>\n",
       "<span class=\"ghost\">|</span> <a href=\"/search/title?sound_mixes=auro_11.1\">Auro 11.1</a>\n",
       "</div>\n",
       "<div class=\"txt-block\">\n",
       "<h4 class=\"inline\">Color:</h4>\n",
       "<a href=\"/search/title?colors=color\">Color</a>\n",
       "</div>\n",
       "<div class=\"txt-block\">\n",
       "<h4 class=\"inline\">Aspect Ratio:</h4> 2.00 : 1\n",
       "    </div>\n",
       "\n",
       "  See <a href=\"technical\">full technical specs</a> »\n",
       "    </div>"
      ]
     },
     "execution_count": 10,
     "metadata": {},
     "output_type": "execute_result"
    }
   ],
   "source": [
    "title_info"
   ]
  },
  {
   "cell_type": "code",
   "execution_count": null,
   "metadata": {},
   "outputs": [],
   "source": []
  },
  {
   "cell_type": "code",
   "execution_count": null,
   "metadata": {},
   "outputs": [],
   "source": []
  },
  {
   "cell_type": "code",
   "execution_count": null,
   "metadata": {},
   "outputs": [],
   "source": []
  },
  {
   "cell_type": "code",
   "execution_count": null,
   "metadata": {},
   "outputs": [],
   "source": []
  },
  {
   "cell_type": "code",
   "execution_count": null,
   "metadata": {},
   "outputs": [],
   "source": []
  },
  {
   "cell_type": "code",
   "execution_count": null,
   "metadata": {},
   "outputs": [],
   "source": []
  },
  {
   "cell_type": "code",
   "execution_count": null,
   "metadata": {},
   "outputs": [],
   "source": []
  },
  {
   "cell_type": "code",
   "execution_count": null,
   "metadata": {},
   "outputs": [],
   "source": []
  },
  {
   "cell_type": "code",
   "execution_count": null,
   "metadata": {},
   "outputs": [],
   "source": []
  },
  {
   "cell_type": "code",
   "execution_count": null,
   "metadata": {},
   "outputs": [],
   "source": []
  },
  {
   "cell_type": "code",
   "execution_count": null,
   "metadata": {},
   "outputs": [],
   "source": []
  },
  {
   "cell_type": "code",
   "execution_count": 20,
   "metadata": {},
   "outputs": [],
   "source": [
    "director = categories[0].next_element.next_element.next_element.text"
   ]
  },
  {
   "cell_type": "code",
   "execution_count": 22,
   "metadata": {},
   "outputs": [
    {
     "data": {
      "text/plain": [
       "'Rick Jaffa'"
      ]
     },
     "execution_count": 22,
     "metadata": {},
     "output_type": "execute_result"
    }
   ],
   "source": [
    "writer"
   ]
  },
  {
   "cell_type": "code",
   "execution_count": 40,
   "metadata": {},
   "outputs": [],
   "source": [
    "plot_keywords = cat_list[3], categories[3].next_element.next_element.next_element.next_element"
   ]
  },
  {
   "cell_type": "code",
   "execution_count": 42,
   "metadata": {},
   "outputs": [
    {
     "data": {
      "text/plain": [
       "('Genres:',\n",
       " <a href=\"/search/title?genres=action&amp;explore=title_type,genres\"> Action</a>)"
      ]
     },
     "execution_count": 42,
     "metadata": {},
     "output_type": "execute_result"
    }
   ],
   "source": [
    "cat_list[5], categories[5].next_element.next_element.next_element"
   ]
  },
  {
   "cell_type": "code",
   "execution_count": 43,
   "metadata": {},
   "outputs": [
    {
     "data": {
      "text/plain": [
       "('Parents Guide:', '\\n View content advisory\\xa0»\\n        ')"
      ]
     },
     "execution_count": 43,
     "metadata": {},
     "output_type": "execute_result"
    }
   ],
   "source": [
    "cat_list[6], categories[6].next_element.next_element.next_element.text"
   ]
  },
  {
   "cell_type": "code",
   "execution_count": null,
   "metadata": {},
   "outputs": [],
   "source": [
    "budget = categories[16].next_element\n",
    "\n",
    "try:\n",
    "    budget\n",
    "    break\n",
    "except IndexError as error:\n",
    "    print('there are no more categories')"
   ]
  },
  {
   "cell_type": "code",
   "execution_count": null,
   "metadata": {},
   "outputs": [],
   "source": [
    "categories[1].next_element.next_element.next_element.text"
   ]
  },
  {
   "cell_type": "markdown",
   "metadata": {},
   "source": [
    "-----------------------"
   ]
  },
  {
   "cell_type": "code",
   "execution_count": null,
   "metadata": {},
   "outputs": [],
   "source": [
    "soup.find_all('td','title')"
   ]
  },
  {
   "cell_type": "code",
   "execution_count": null,
   "metadata": {},
   "outputs": [],
   "source": [
    "categories[1]"
   ]
  },
  {
   "cell_type": "code",
   "execution_count": 39,
   "metadata": {},
   "outputs": [
    {
     "data": {
      "text/html": [
       "<div>\n",
       "<style scoped>\n",
       "    .dataframe tbody tr th:only-of-type {\n",
       "        vertical-align: middle;\n",
       "    }\n",
       "\n",
       "    .dataframe tbody tr th {\n",
       "        vertical-align: top;\n",
       "    }\n",
       "\n",
       "    .dataframe thead th {\n",
       "        text-align: right;\n",
       "    }\n",
       "</style>\n",
       "<table border=\"1\" class=\"dataframe\">\n",
       "  <thead>\n",
       "    <tr style=\"text-align: right;\">\n",
       "      <th></th>\n",
       "      <th>Director:</th>\n",
       "      <th>Writers:</th>\n",
       "      <th>Stars:</th>\n",
       "      <th>Plot Keywords:</th>\n",
       "      <th>Taglines:</th>\n",
       "      <th>Genres:</th>\n",
       "      <th>Parents Guide:</th>\n",
       "      <th>Official Sites:</th>\n",
       "      <th>Country:</th>\n",
       "      <th>Language:</th>\n",
       "      <th>...</th>\n",
       "      <th>Filming Locations:</th>\n",
       "      <th>Budget:</th>\n",
       "      <th>Opening Weekend USA:</th>\n",
       "      <th>Gross USA:</th>\n",
       "      <th>Cumulative Worldwide Gross:</th>\n",
       "      <th>Production Co:</th>\n",
       "      <th>Runtime:</th>\n",
       "      <th>Sound Mix:</th>\n",
       "      <th>Color:</th>\n",
       "      <th>Aspect Ratio:</th>\n",
       "    </tr>\n",
       "  </thead>\n",
       "  <tbody>\n",
       "  </tbody>\n",
       "</table>\n",
       "<p>0 rows × 22 columns</p>\n",
       "</div>"
      ],
      "text/plain": [
       "Empty DataFrame\n",
       "Columns: [Director:, Writers:, Stars:, Plot Keywords:, Taglines:, Genres:, Parents Guide:, Official Sites:, Country:, Language:, Release Date:, Also Known As:, Filming Locations:, Budget:, Opening Weekend USA:, Gross USA:, Cumulative Worldwide Gross:, Production Co:, Runtime:, Sound Mix:, Color:, Aspect Ratio:]\n",
       "Index: []\n",
       "\n",
       "[0 rows x 22 columns]"
      ]
     },
     "execution_count": 39,
     "metadata": {},
     "output_type": "execute_result"
    }
   ],
   "source": [
    "movie = pd.DataFrame(columns=cat_list)\n",
    "movie"
   ]
  },
  {
   "cell_type": "code",
   "execution_count": null,
   "metadata": {},
   "outputs": [],
   "source": []
  }
 ],
 "metadata": {
  "kernelspec": {
   "display_name": "learn-env",
   "language": "python",
   "name": "learn-env"
  },
  "language_info": {
   "codemirror_mode": {
    "name": "ipython",
    "version": 3
   },
   "file_extension": ".py",
   "mimetype": "text/x-python",
   "name": "python",
   "nbconvert_exporter": "python",
   "pygments_lexer": "ipython3",
   "version": "3.6.9"
  }
 },
 "nbformat": 4,
 "nbformat_minor": 4
}
