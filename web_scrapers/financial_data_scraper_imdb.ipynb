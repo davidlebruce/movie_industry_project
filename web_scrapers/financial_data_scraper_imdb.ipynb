{
 "cells": [
  {
   "cell_type": "code",
   "execution_count": 202,
   "metadata": {},
   "outputs": [],
   "source": [
    "import pandas as pd\n",
    "import numpy as np\n",
    "from bs4 import BeautifulSoup\n",
    "import requests\n",
    "import time"
   ]
  },
  {
   "cell_type": "code",
   "execution_count": 185,
   "metadata": {},
   "outputs": [],
   "source": [
    "imdb2 = pd.read_csv(\"zippedData/imdb.title.akas.csv.gz\")"
   ]
  },
  {
   "cell_type": "code",
   "execution_count": 186,
   "metadata": {},
   "outputs": [
    {
     "data": {
      "text/plain": [
       "122302"
      ]
     },
     "execution_count": 186,
     "metadata": {},
     "output_type": "execute_result"
    }
   ],
   "source": [
    "imdb2.drop_duplicates(subset=['title_id'], inplace=True)\n",
    "title_id_list =imdb2['title_id'].to_list()\n",
    "len(title_id_list)"
   ]
  },
  {
   "cell_type": "code",
   "execution_count": 1,
   "metadata": {},
   "outputs": [
    {
     "ename": "NameError",
     "evalue": "name 'title_id_list' is not defined",
     "output_type": "error",
     "traceback": [
      "\u001b[0;31m---------------------------------------------------------------------------\u001b[0m",
      "\u001b[0;31mNameError\u001b[0m                                 Traceback (most recent call last)",
      "\u001b[0;32m<ipython-input-1-72d1dbbace56>\u001b[0m in \u001b[0;36m<module>\u001b[0;34m()\u001b[0m\n\u001b[0;32m----> 1\u001b[0;31m \u001b[0msearch_area\u001b[0m \u001b[0;34m=\u001b[0m \u001b[0mtitle_id_list\u001b[0m\u001b[0;34m\u001b[0m\u001b[0;34m\u001b[0m\u001b[0m\n\u001b[0m\u001b[1;32m      2\u001b[0m \u001b[0msearch\u001b[0m \u001b[0;34m=\u001b[0m \u001b[0msearch_area\u001b[0m\u001b[0;34m[\u001b[0m\u001b[0;36m77436\u001b[0m\u001b[0;34m:\u001b[0m\u001b[0;34m]\u001b[0m \u001b[0;31m# if scraper fails for some reason, check length of search list\u001b[0m\u001b[0;34m\u001b[0m\u001b[0;34m\u001b[0m\u001b[0m\n\u001b[1;32m      3\u001b[0m                              \u001b[0;31m# and slice the list by that amount in order to avoid duplicates.\u001b[0m\u001b[0;34m\u001b[0m\u001b[0;34m\u001b[0m\u001b[0;34m\u001b[0m\u001b[0m\n",
      "\u001b[0;31mNameError\u001b[0m: name 'title_id_list' is not defined"
     ]
    }
   ],
   "source": [
    "search_area = title_id_list\n",
    "search = search_area[77436:] # if scraper fails for some reason, check length of search list\n",
    "                             # and slice the list by that amount in order to avoid duplicates."
   ]
  },
  {
   "cell_type": "code",
   "execution_count": 245,
   "metadata": {},
   "outputs": [],
   "source": [
    "\n",
    "\n",
    "\n",
    "def scraper(title_id):\n",
    "    \n",
    "    \n",
    "    \n",
    "    info = {\n",
    "        'title_id': title_id,\n",
    "        'Country': np.nan,\n",
    "        'Budget': np.nan,\n",
    "        'Opening Weekend USA': np.nan,\n",
    "        'Gross USA' : np.nan,\n",
    "        'Cumulative Worldwide Gross': np.nan,\n",
    "        'Runtime': np.nan\n",
    "    }\n",
    "    \n",
    "   \n",
    "    try:\n",
    "        page = requests.get(f\"https://www.imdb.com/title/{title_id}/\")\n",
    "        soup = BeautifulSoup(page.content, 'html.parser')\n",
    "    except:\n",
    "        pass\n",
    "        \n",
    "    categories = soup.find_all('h4', class_=\"inline\")\n",
    "\n",
    "    cat_list = []\n",
    "    for cat in categories:\n",
    "        cat_list.append(cat.text)\n",
    "\n",
    "    \n",
    "    for i in categories:\n",
    "        if i.text == 'Country:':\n",
    "            info['Country'] = i.next_element.next_element.next_element.text.strip()\n",
    "            \n",
    "        if i.text == 'Budget:':\n",
    "            info['Budget'] = i.next_element.next_element.strip()\n",
    "        if i.text == 'Opening Weekend USA:':\n",
    "            info['Opening Weekend USA'] = i.next_element.next_element.strip()\n",
    "        if i.text == 'Gross USA:':\n",
    "            info['Gross USA'] = i.next_element.next_element.strip()\n",
    "        if i.text == 'Cumulative Worldwide Gross:':\n",
    "            info['Cumulative Worldwide Gross'] = i.next_element.next_element.strip()\n",
    "        if i.text == 'Runtime:':\n",
    "            info['Runtime'] = i.next_element.next_element.next_element.text.strip()\n",
    "        \n",
    "        \n",
    "        \n",
    "        \n",
    "    return info\n"
   ]
  },
  {
   "cell_type": "code",
   "execution_count": null,
   "metadata": {},
   "outputs": [],
   "source": [
    "final_list = []\n",
    "for i in search:\n",
    "    final_list.append(scraper(i))"
   ]
  },
  {
   "cell_type": "code",
   "execution_count": 248,
   "metadata": {},
   "outputs": [
    {
     "data": {
      "text/plain": [
       "9980"
      ]
     },
     "execution_count": 248,
     "metadata": {},
     "output_type": "execute_result"
    }
   ],
   "source": [
    "len(final_list)"
   ]
  },
  {
   "cell_type": "code",
   "execution_count": 249,
   "metadata": {},
   "outputs": [],
   "source": [
    "df = pd.DataFrame(final_list)\n",
    "df.to_csv('') #add resulting file name here"
   ]
  },
  {
   "cell_type": "code",
   "execution_count": null,
   "metadata": {},
   "outputs": [],
   "source": []
  }
 ],
 "metadata": {
  "kernelspec": {
   "display_name": "learn-env",
   "language": "python",
   "name": "learn-env"
  },
  "language_info": {
   "codemirror_mode": {
    "name": "ipython",
    "version": 3
   },
   "file_extension": ".py",
   "mimetype": "text/x-python",
   "name": "python",
   "nbconvert_exporter": "python",
   "pygments_lexer": "ipython3",
   "version": "3.6.9"
  }
 },
 "nbformat": 4,
 "nbformat_minor": 4
}
